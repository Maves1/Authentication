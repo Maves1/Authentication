{
 "cells": [
  {
   "cell_type": "code",
   "execution_count": 1,
   "metadata": {},
   "outputs": [],
   "source": [
    "import pandas as pd\n",
    "import matplotlib.pyplot as plt"
   ]
  },
  {
   "cell_type": "code",
   "execution_count": 2,
   "metadata": {},
   "outputs": [],
   "source": [
    "activity_header = ['id', 'subject_id', 'session', 'start_time', 'end_time',\n",
    "                   'rel_start_time', 'rel_end_time', 'gesture_scenario', 'task_id', 'content_id']\n",
    "\n",
    "accelerometer_header = ['sys_time', 'event_time', 'activity_id', 'x', 'y', 'z', 'orientation']\n",
    "\n",
    "gyroscope_header = accelerometer_header.copy()\n",
    "magnetometer_header = accelerometer_header.copy()\n",
    "\n",
    "# TODO:\n",
    "# pointer count: 1 - single touch, 2 - multitouch. Ig it's better to transform it\n",
    "# into 'is_multitouch' and make it 0s and 1s\n",
    "touch_event_header = ['sys_time', 'event_time', 'activity_id', 'pointer_count', 'pointer_id',\n",
    "                      'action_id', 'x', 'y', 'pressure', 'contact_size', 'orientation']\n",
    "\n",
    "# activity_id and press_type should be swapped, there is a typo in dataset description\n",
    "# it also seems that press_type should be reversed (1: finger down, 0: finger up)\n",
    "key_press_event_header = ['sys_time', 'press_time', 'activity_id', 'press_type', 'key_id', 'orientation']\n",
    "\n",
    "one_finger_touch_event_header = ['sys_time', 'press_time', 'activity_id', 'tap_id', 'tap_type', 'action_type',\n",
    "                                 'x', 'y', 'pressure', 'contact_size', 'orientation']\n",
    "\n",
    "pinch_event_header = ['sys_time', 'press_time', 'activity_id', 'event_type', 'pinch_id', 'time_delta',\n",
    "                      'x_focus', 'y_focus', 'span', 'span_x', 'span_y', 'scale_factor', 'orientation']\n",
    "\n",
    "scroll_event_header = ['sys_time', 'begin_time', 'current_time', 'activity_id', 'scroll_id', 'start_action_type',\n",
    "                       'start_x', 'start_y', 'start_pressure', 'start_size', 'current_action_type',\n",
    "                       'current_x', 'current_y', 'current_pressure', 'current_size', 'distance_x', 'distance_y',\n",
    "                       'orientation']\n",
    "\n",
    "stroke_event_header = ['sys_time', 'begin_time', 'end_time', 'activity_id', 'start_action_type', 'start_x', 'start_y',\n",
    "                       'start_pressure', 'start_size', 'end_action_type', 'end_x', 'end_y', 'end_pressure', 'end_size',\n",
    "                       'speed_x', 'speed_y', 'orientation']"
   ]
  },
  {
   "cell_type": "code",
   "execution_count": 3,
   "metadata": {},
   "outputs": [],
   "source": [
    "subject_1_path = 'hmog_public_dataset/100669'\n",
    "subject_1_sess_1_path = '100669_session_1'"
   ]
  },
  {
   "cell_type": "code",
   "execution_count": 7,
   "metadata": {},
   "outputs": [],
   "source": [
    "activity_csv = pd.read_csv(f'{subject_1_path}/{subject_1_sess_1_path}/Activity.csv', names=activity_header)"
   ]
  },
  {
   "cell_type": "code",
   "execution_count": 8,
   "metadata": {},
   "outputs": [
    {
     "data": {
      "text/html": [
       "<div>\n",
       "<style scoped>\n",
       "    .dataframe tbody tr th:only-of-type {\n",
       "        vertical-align: middle;\n",
       "    }\n",
       "\n",
       "    .dataframe tbody tr th {\n",
       "        vertical-align: top;\n",
       "    }\n",
       "\n",
       "    .dataframe thead th {\n",
       "        text-align: right;\n",
       "    }\n",
       "</style>\n",
       "<table border=\"1\" class=\"dataframe\">\n",
       "  <thead>\n",
       "    <tr style=\"text-align: right;\">\n",
       "      <th></th>\n",
       "      <th>id</th>\n",
       "      <th>subject_id</th>\n",
       "      <th>session</th>\n",
       "      <th>start_time</th>\n",
       "      <th>end_time</th>\n",
       "      <th>rel_start_time</th>\n",
       "      <th>rel_end_time</th>\n",
       "      <th>gesture_scenario</th>\n",
       "      <th>task_id</th>\n",
       "      <th>content_id</th>\n",
       "    </tr>\n",
       "  </thead>\n",
       "  <tbody>\n",
       "    <tr>\n",
       "      <th>0</th>\n",
       "      <td>100669011000001</td>\n",
       "      <td>100669</td>\n",
       "      <td>1</td>\n",
       "      <td>1396226213027</td>\n",
       "      <td>1396226407573</td>\n",
       "      <td>6792617</td>\n",
       "      <td>6987163</td>\n",
       "      <td>1</td>\n",
       "      <td>7</td>\n",
       "      <td>1</td>\n",
       "    </tr>\n",
       "    <tr>\n",
       "      <th>1</th>\n",
       "      <td>100669012000001</td>\n",
       "      <td>100669</td>\n",
       "      <td>1</td>\n",
       "      <td>1396226421894</td>\n",
       "      <td>1396226578198</td>\n",
       "      <td>7001484</td>\n",
       "      <td>7157788</td>\n",
       "      <td>1</td>\n",
       "      <td>7</td>\n",
       "      <td>2</td>\n",
       "    </tr>\n",
       "    <tr>\n",
       "      <th>2</th>\n",
       "      <td>100669012000002</td>\n",
       "      <td>100669</td>\n",
       "      <td>1</td>\n",
       "      <td>1396226600720</td>\n",
       "      <td>1396226650781</td>\n",
       "      <td>7180310</td>\n",
       "      <td>7230371</td>\n",
       "      <td>1</td>\n",
       "      <td>7</td>\n",
       "      <td>2</td>\n",
       "    </tr>\n",
       "    <tr>\n",
       "      <th>3</th>\n",
       "      <td>100669012000002</td>\n",
       "      <td>100669</td>\n",
       "      <td>1</td>\n",
       "      <td>1396226600720</td>\n",
       "      <td>1396226653876</td>\n",
       "      <td>7180310</td>\n",
       "      <td>7233466</td>\n",
       "      <td>1</td>\n",
       "      <td>7</td>\n",
       "      <td>2</td>\n",
       "    </tr>\n",
       "    <tr>\n",
       "      <th>4</th>\n",
       "      <td>100669012000003</td>\n",
       "      <td>100669</td>\n",
       "      <td>1</td>\n",
       "      <td>1396226672419</td>\n",
       "      <td>1396226737648</td>\n",
       "      <td>7252008</td>\n",
       "      <td>7317238</td>\n",
       "      <td>1</td>\n",
       "      <td>7</td>\n",
       "      <td>2</td>\n",
       "    </tr>\n",
       "  </tbody>\n",
       "</table>\n",
       "</div>"
      ],
      "text/plain": [
       "                id  subject_id  session     start_time       end_time  \\\n",
       "0  100669011000001      100669        1  1396226213027  1396226407573   \n",
       "1  100669012000001      100669        1  1396226421894  1396226578198   \n",
       "2  100669012000002      100669        1  1396226600720  1396226650781   \n",
       "3  100669012000002      100669        1  1396226600720  1396226653876   \n",
       "4  100669012000003      100669        1  1396226672419  1396226737648   \n",
       "\n",
       "   rel_start_time  rel_end_time  gesture_scenario  task_id  content_id  \n",
       "0         6792617       6987163                 1        7           1  \n",
       "1         7001484       7157788                 1        7           2  \n",
       "2         7180310       7230371                 1        7           2  \n",
       "3         7180310       7233466                 1        7           2  \n",
       "4         7252008       7317238                 1        7           2  "
      ]
     },
     "execution_count": 8,
     "metadata": {},
     "output_type": "execute_result"
    }
   ],
   "source": [
    "activity_csv.head()\n",
    "\n",
    "# end_time - start_time == rel_end_time - rel_start_time\n",
    "# rel is relative to sys boot\n",
    "# others are absolute"
   ]
  },
  {
   "cell_type": "markdown",
   "metadata": {},
   "source": [
    "## Data Preprocessing\n",
    "\n",
    "I think it's worth creating helper functions that read given paths, preprocess, and combine the data"
   ]
  },
  {
   "cell_type": "code",
   "execution_count": 4,
   "metadata": {},
   "outputs": [],
   "source": [
    "import os\n",
    "\n",
    "def check_session_typing(path_to_session: str):\n",
    "    # We are interested in sessions 3, 9, 15, 21 for w+s\n",
    "    # and 4, 10, 16, 22 for w+w\n",
    "    typing_task_ids = [3, 9, 15, 21, 4, 10, 16, 22]\n",
    "\n",
    "    activity_df = pd.read_csv(os.path.join(path_to_session, 'Activity.csv'), names=activity_header)\n",
    "\n",
    "    if activity_df['task_id'][0] in typing_task_ids:\n",
    "        return True\n",
    "    return False\n",
    "\n",
    "def list_user_typing_sessions(path_to_sessions: str):\n",
    "    session_folders = os.listdir(path_to_sessions)\n",
    "    session_folders = [f for f in session_folders if not os.path.isfile(os.path.join(path_to_sessions, f))]\n",
    "\n",
    "    typing_session_folders = []\n",
    "    for session_folder in session_folders:\n",
    "        if check_session_typing(os.path.join(path_to_sessions, session_folder)):\n",
    "            typing_session_folders.append(session_folder)\n",
    "\n",
    "    return typing_session_folders"
   ]
  },
  {
   "cell_type": "code",
   "execution_count": 5,
   "metadata": {},
   "outputs": [
    {
     "name": "stdout",
     "output_type": "stream",
     "text": [
      "['100669_session_22', '100669_session_24', '100669_session_2', '100669_session_3', '100669_session_19', '100669_session_18', '100669_session_8', '100669_session_9']\n"
     ]
    }
   ],
   "source": [
    "# A test for a single! user\n",
    "typing_sessions_user = list_user_typing_sessions(subject_1_path)\n",
    "\n",
    "print(typing_sessions_user)"
   ]
  },
  {
   "cell_type": "code",
   "execution_count": 38,
   "metadata": {},
   "outputs": [],
   "source": [
    "import os\n",
    "import pandas as pd\n",
    "import numpy as np\n",
    "\n",
    "def read_person_session(path_to_session: str):\n",
    "    activity_csv = pd.read_csv(os.path.join(path_to_session, 'Activity.csv'), names=activity_header)\n",
    "    accelerometer_csv = pd.read_csv(os.path.join(path_to_session, 'Accelerometer.csv'), names=accelerometer_header)\n",
    "    gyroscope_csv = pd.read_csv(os.path.join(path_to_session, 'Gyroscope.csv'), names=gyroscope_header)\n",
    "    key_press_event_csv = pd.read_csv(os.path.join(path_to_session, 'KeyPressEvent.csv'), names=key_press_event_header)\n",
    "    magnetometer_csv = pd.read_csv(os.path.join(path_to_session, 'Magnetometer.csv'), names=magnetometer_header)\n",
    "    one_finger_touch_csv = pd.read_csv(os.path.join(path_to_session, 'OneFingerTouchEvent.csv'), names=one_finger_touch_event_header)\n",
    "    pinch_event_csv = pd.read_csv(os.path.join(path_to_session, 'PinchEvent.csv'), names=pinch_event_header)\n",
    "    scroll_event_csv = pd.read_csv(os.path.join(path_to_session, 'ScrollEvent.csv'), names=scroll_event_header)\n",
    "    stroke_event_csv = pd.read_csv(os.path.join(path_to_session, 'StrokeEvent.csv'), names=stroke_event_header)\n",
    "    touch_event_csv = pd.read_csv(os.path.join(path_to_session, 'TouchEvent.csv'), names=touch_event_header)\n",
    "\n",
    "    session_map = {\"activity\": activity_csv,\n",
    "                   \"accelerometer\": accelerometer_csv,\n",
    "                   \"gyroscope\": gyroscope_csv,\n",
    "                   \"key_press_event\": key_press_event_csv,\n",
    "                   \"magnetometer\": magnetometer_csv,\n",
    "                   \"one_finger_touch\": one_finger_touch_csv,\n",
    "                   \"pinch_event\": pinch_event_csv,\n",
    "                   \"scroll_event\": scroll_event_csv,\n",
    "                   \"stroke_event\": stroke_event_csv,\n",
    "                   \"touch_event\": touch_event_csv}\n",
    "    \n",
    "    return session_map\n",
    "\n",
    "def preprocess_session_data(session_map: dict):\n",
    "    # Activity\n",
    "    pass\n",
    "\n",
    "def extract_hmog_for_keypress(sensor_data, key_down_timestamp: int, key_up_timestamp: int, value_of: str):\n",
    "    TIME_BEFORE_BOUNDARY = 100  # ms\n",
    "    TIME_AFTER_BOUNDARY = 100   # ms\n",
    "\n",
    "    vals_before = []\n",
    "    vals_during = []\n",
    "    vals_after = []\n",
    "\n",
    "    for index, entry in sensor_data.iterrows():\n",
    "        if entry['sys_time'] >= key_down_timestamp - TIME_BEFORE_BOUNDARY and entry['sys_time'] < key_down_timestamp:\n",
    "            vals_before.append(entry[value_of])\n",
    "        elif entry['sys_time'] >= key_down_timestamp and entry['sys_time'] <= key_up_timestamp:\n",
    "            vals_during.append(entry[value_of])\n",
    "        elif entry['sys_time'] > key_up_timestamp and entry['sys_time'] <= key_up_timestamp + TIME_AFTER_BOUNDARY:\n",
    "            vals_after.append(entry[value_of])\n",
    "    \n",
    "    # HMOG features\n",
    "    #\n",
    "    # 1. Mean during taps\n",
    "    mean_during = sum(vals_during) / len(vals_during)\n",
    "    # 2. Standard deviation during taps\n",
    "    std_deviation_during = ( sum([(x - mean_during) ** 2 for x in vals_during]) / len(vals_during) ) ** 0.5\n",
    "    # 3. avg100msAfter - avg100msBefore\n",
    "    avg100msAfter = sum(vals_after) / len(vals_after)\n",
    "    avg100msBefore = sum(vals_before) / len(vals_before)\n",
    "\n",
    "    diff_readings = avg100msAfter - avg100msBefore\n",
    "\n",
    "    # 4. avgTap - avg100msBefore\n",
    "    net_change = mean_during - avg100msBefore\n",
    "    # 5. max change during tap\n",
    "    max_change_during = max(vals_during) - avg100msBefore\n",
    "\n",
    "    return [mean_during, std_deviation_during, diff_readings, net_change, max_change_during]\n",
    "\n",
    "\n",
    "# This can be optimised, for now this is coded to present everything as simple as possible\n",
    "# value_of: x, y, z\n",
    "def extract_hmog_features(session_map: dict, sensor: str, value_of: str):\n",
    "    # \"Grasp Resistance\" features\n",
    "\n",
    "    PRESS_TYPE_DOWN = 1\n",
    "    PRESS_TYPE_UP = 0\n",
    "\n",
    "    hmog_vectors = []\n",
    "\n",
    "    for key_press_event_index in range(len(session_map['key_press_event']) - 1):\n",
    "        event = session_map['key_press_event'].iloc[key_press_event_index]\n",
    "        event_down_time = event['sys_time']\n",
    "\n",
    "        if event['press_type'] == PRESS_TYPE_DOWN:\n",
    "            next_event = session_map['key_press_event'].iloc[key_press_event_index + 1]\n",
    "\n",
    "            # Let's focus on cases when user lifts the finger before pressing another key\n",
    "            if next_event['press_type'] != PRESS_TYPE_UP:\n",
    "                continue\n",
    "            \n",
    "            event_up_time = next_event['sys_time']\n",
    "            tap_hmog_vector_x = extract_hmog_for_keypress(session_map[sensor], event_down_time, event_up_time, value_of)\n",
    "\n",
    "            hmog_vectors.append(tap_hmog_vector_x)\n",
    "        \n",
    "        break\n",
    "    \n",
    "    return hmog_vectors"
   ]
  },
  {
   "cell_type": "code",
   "execution_count": 18,
   "metadata": {},
   "outputs": [],
   "source": [
    "session_map = read_person_session(os.path.join(subject_1_path, typing_sessions_user[1]))"
   ]
  },
  {
   "cell_type": "code",
   "execution_count": 9,
   "metadata": {},
   "outputs": [],
   "source": [
    "# print(session_map['key_press_event'][-20:])\n",
    "# print(session_map['accelerometer'])"
   ]
  },
  {
   "cell_type": "code",
   "execution_count": 39,
   "metadata": {},
   "outputs": [],
   "source": [
    "taps_x = extract_hmog_features(session_map, 'accelerometer', 'x')"
   ]
  },
  {
   "cell_type": "code",
   "execution_count": 40,
   "metadata": {},
   "outputs": [
    {
     "name": "stdout",
     "output_type": "stream",
     "text": [
      "[[-0.2617375502380953, 0.29252386496728233, 0.3598485282999999, 0.2619940827619046, 0.635062013]]\n"
     ]
    }
   ],
   "source": [
    "print(taps_x)"
   ]
  },
  {
   "cell_type": "code",
   "execution_count": 58,
   "metadata": {},
   "outputs": [],
   "source": [
    "# This is just to make sure I understood session duration correctly\n",
    "def calculate_session_duration(session_id):\n",
    "    session_duration = 0  # ms\n",
    "\n",
    "    for session, start_time, end_time in zip(session_map[\"activity\"][\"session\"], session_map[\"activity\"][\"start_time\"], session_map[\"activity\"][\"end_time\"]):\n",
    "        if session == session_id:\n",
    "            session_duration += end_time - start_time\n",
    "        else:\n",
    "            print(session)\n",
    "\n",
    "    return session_duration / 1000 / 60  # minutes"
   ]
  },
  {
   "cell_type": "code",
   "execution_count": 59,
   "metadata": {},
   "outputs": [
    {
     "name": "stdout",
     "output_type": "stream",
     "text": [
      "12.204133333333335\n"
     ]
    }
   ],
   "source": [
    "print(calculate_session_duration(1))"
   ]
  },
  {
   "cell_type": "code",
   "execution_count": null,
   "metadata": {},
   "outputs": [],
   "source": []
  }
 ],
 "metadata": {
  "kernelspec": {
   "display_name": "venv",
   "language": "python",
   "name": "python3"
  },
  "language_info": {
   "codemirror_mode": {
    "name": "ipython",
    "version": 3
   },
   "file_extension": ".py",
   "mimetype": "text/x-python",
   "name": "python",
   "nbconvert_exporter": "python",
   "pygments_lexer": "ipython3",
   "version": "3.11.6"
  }
 },
 "nbformat": 4,
 "nbformat_minor": 2
}
