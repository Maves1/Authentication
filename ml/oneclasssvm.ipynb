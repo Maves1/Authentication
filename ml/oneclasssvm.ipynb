{
 "cells": [
  {
   "cell_type": "code",
   "execution_count": 1,
   "metadata": {},
   "outputs": [],
   "source": [
    "import os\n",
    "import numpy as np\n",
    "\n",
    "from hmog import HmogHelper\n",
    "from tqdm import tqdm\n",
    "\n",
    "dataset_path = 'hmog_public_dataset/'"
   ]
  },
  {
   "cell_type": "code",
   "execution_count": 2,
   "metadata": {},
   "outputs": [],
   "source": [
    "import pickle\n",
    "\n",
    "test_file = open('hmog_dataset', 'rb')\n",
    "session_hmog_matrices = pickle.load(test_file)\n",
    "test_file.close()"
   ]
  },
  {
   "cell_type": "code",
   "execution_count": 3,
   "metadata": {},
   "outputs": [
    {
     "name": "stdout",
     "output_type": "stream",
     "text": [
      "len: 92\n",
      "\n",
      "['342329', '240168', '472761', '352716', '219303', '431312', '556357', '717868', '862649', '990622', '937904', '745224', '841866', '799296', '621276', '827212', '876011', '986737', '171538', '973891', '865881', '248252', '218719', '389015', '918136', '803262', '261313', '207969', '892687', '257279', '785873', '879155', '966655', '326223', '264325', '256487', '553321', '923862', '526319', '733568', '579284', '277905', '777078', '776328', '893255', '100669', '278135', '501973', '405035', '395129', '710707', '578526', '998757', '897652', '737973', '984799', '525584', '913228', '720193', '336172', '785899', '527796', '594887', '588087', '698266', '622852', '815316', '180679', '151985', '962159', '872895', '396697', '538363', '863985', '657486', '856401', '561993', '540641', '893198', '808022', '366286', '663153', '763813', '368258', '539502', '693572', '489146', '771782', '796581', '398248', '865501', '554303']\n"
     ]
    }
   ],
   "source": [
    "# We need to exclude subjects who used landscape orientation\n",
    "landscape_subjects = ['856302', '751131', '220962', '186676', '980953', '201848', '675397']\n",
    "for l_s in landscape_subjects:\n",
    "    del session_hmog_matrices[l_s]\n",
    "\n",
    "subjects_list = list(session_hmog_matrices.keys())\n",
    "print(f'len: {len(subjects_list)}\\n\\n{subjects_list}')"
   ]
  },
  {
   "cell_type": "markdown",
   "metadata": {},
   "source": [
    "# Feature Selection\n",
    "\n",
    "Let's perform feature selection using Fisher score"
   ]
  },
  {
   "cell_type": "code",
   "execution_count": null,
   "metadata": {},
   "outputs": [],
   "source": [
    "# import numpy as np\n",
    "\n",
    "# from sklearn.svm import OneClassSVM\n",
    "\n",
    "# from sklearn.feature_selection import SelectKBest, f_classif\n",
    "# from sklearn.decomposition import PCA\n",
    "\n",
    "# # Assuming your dataset is stored in X_train numpy array\n",
    "# # X_train should have shape (n_samples, n_features)\n",
    "\n",
    "# # Step 1: Feature selection using Fisher score\n",
    "# # Select the top k features based on Fisher score\n",
    "# k_best_features = 10  # Adjust this value as needed\n",
    "\n",
    "# true_pos_rate_sum = 0\n",
    "# count = len(subjects_list)\n",
    "\n",
    "# for i in range(len(subjects_list)):\n",
    "#     subject = subjects_list[i]\n",
    "#     std_deviations, session_hmog_vector = HmogHelper.calc_std_and_scale(session_hmog_matrices[subject][0])\n",
    "\n",
    "#     selector = SelectKBest(score_func=f_classif, k=k_best_features)\n",
    "#     X_train = selector.fit_transform(session_hmog_vector, np.ones(len(session_hmog_vector)))  # All instances are considered as positive class\n",
    "\n",
    "#     # PCA\n",
    "#     n_components = 5  # Number of principal components to keep\n",
    "#     pca = PCA(n_components=n_components)\n",
    "#     X_train_pca = pca.fit_transform(X_train)\n",
    "\n",
    "#     svm = OneClassSVM(kernel='rbf', gamma='auto', nu=0.01).fit(X_train_pca)\n",
    "#     true_pos_rate_sum += HmogHelper.test_hmog(X_train_pca, 1, svm)\n",
    "\n",
    "# print(f'Same session whole dataset average true positive ratio: {true_pos_rate_sum / count}')"
   ]
  },
  {
   "cell_type": "markdown",
   "metadata": {},
   "source": [
    "# Windowed Tests"
   ]
  },
  {
   "cell_type": "markdown",
   "metadata": {},
   "source": [
    "## Single subject, same-session tests"
   ]
  },
  {
   "cell_type": "code",
   "execution_count": 16,
   "metadata": {},
   "outputs": [],
   "source": [
    "WINDOW_SIZE = 40000  # ms\n",
    "WINDOW_SIZES = [20000, 40000, 60000, 80000, 100000, 120000, 140000]"
   ]
  },
  {
   "cell_type": "code",
   "execution_count": 11,
   "metadata": {},
   "outputs": [
    {
     "name": "stdout",
     "output_type": "stream",
     "text": [
      "window size: 20.0s.\n",
      "Accuracy windowed same-session tests: 0.9993125876063644\n",
      "window size: 40.0s.\n",
      "Accuracy windowed same-session tests: 1.0\n",
      "window size: 60.0s.\n",
      "Accuracy windowed same-session tests: 0.9995819397993312\n",
      "window size: 80.0s.\n",
      "Accuracy windowed same-session tests: 1.0\n",
      "window size: 100.0s.\n",
      "Accuracy windowed same-session tests: 1.0\n",
      "window size: 120.0s.\n",
      "Accuracy windowed same-session tests: 1.0\n",
      "window size: 140.0s.\n",
      "Accuracy windowed same-session tests: 1.0\n"
     ]
    }
   ],
   "source": [
    "from sklearn.svm import OneClassSVM\n",
    "\n",
    "# Windowed tests\n",
    "\n",
    "for window_size in WINDOW_SIZES:\n",
    "    true_pos_rate_sum = 0\n",
    "\n",
    "    for i in range(len(subjects_list)):\n",
    "        subject = subjects_list[i]\n",
    "\n",
    "        session_hmog_vector = np.vstack((session_hmog_matrices[subject][0], session_hmog_matrices[subject][1]))\n",
    "\n",
    "        # We scale all columns except for the 0th one (it's a timestamp)\n",
    "        std_deviations, session_hmog_vector = HmogHelper.calc_std_and_scale(session_hmog_vector)\n",
    "        session_hmog_vector_no_timestamp = np.delete(session_hmog_vector, 0, axis=1)\n",
    "\n",
    "        # print(session_hmog_vector.shape)\n",
    "\n",
    "        svm = OneClassSVM(kernel='rbf', gamma='auto', nu=0.01).fit(session_hmog_vector_no_timestamp)\n",
    "        true_pos_rate_sum += HmogHelper.test_hmog_windowed(session_hmog_vector, t_window=window_size, correct_key=1, model=svm)\n",
    "\n",
    "    total_accuracy_windowed = true_pos_rate_sum / len(subjects_list)\n",
    "\n",
    "    print(f'window size: {window_size / 1000}s.\\nAccuracy windowed same-session tests: {total_accuracy_windowed}')\n",
    "    "
   ]
  },
  {
   "cell_type": "markdown",
   "metadata": {},
   "source": [
    "## Single subject, different sessions tests"
   ]
  },
  {
   "cell_type": "code",
   "execution_count": 5,
   "metadata": {},
   "outputs": [
    {
     "ename": "NameError",
     "evalue": "name 'OneClassSVM' is not defined",
     "output_type": "error",
     "traceback": [
      "\u001b[0;31m---------------------------------------------------------------------------\u001b[0m",
      "\u001b[0;31mNameError\u001b[0m                                 Traceback (most recent call last)",
      "Cell \u001b[0;32mIn[5], line 21\u001b[0m\n\u001b[1;32m     18\u001b[0m         count \u001b[38;5;241m-\u001b[39m\u001b[38;5;241m=\u001b[39m \u001b[38;5;241m1\u001b[39m\n\u001b[1;32m     19\u001b[0m         \u001b[38;5;28;01mcontinue\u001b[39;00m\n\u001b[0;32m---> 21\u001b[0m     svm \u001b[38;5;241m=\u001b[39m \u001b[43mOneClassSVM\u001b[49m(kernel\u001b[38;5;241m=\u001b[39m\u001b[38;5;124m'\u001b[39m\u001b[38;5;124mrbf\u001b[39m\u001b[38;5;124m'\u001b[39m, gamma\u001b[38;5;241m=\u001b[39m\u001b[38;5;124m'\u001b[39m\u001b[38;5;124mauto\u001b[39m\u001b[38;5;124m'\u001b[39m, nu\u001b[38;5;241m=\u001b[39m\u001b[38;5;241m0.01\u001b[39m)\u001b[38;5;241m.\u001b[39mfit(session_hmog_vector_no_timestamp)\n\u001b[1;32m     22\u001b[0m     true_pos_ratio_sum \u001b[38;5;241m+\u001b[39m\u001b[38;5;241m=\u001b[39m HmogHelper\u001b[38;5;241m.\u001b[39mtest_hmog_windowed(test_hmog_vector, t_window\u001b[38;5;241m=\u001b[39mwindow_size, correct_key\u001b[38;5;241m=\u001b[39m\u001b[38;5;241m1\u001b[39m, model\u001b[38;5;241m=\u001b[39msvm)\n\u001b[1;32m     24\u001b[0m \u001b[38;5;28mprint\u001b[39m(\u001b[38;5;124mf\u001b[39m\u001b[38;5;124m'\u001b[39m\u001b[38;5;124mwindow size: \u001b[39m\u001b[38;5;132;01m{\u001b[39;00mwindow_size\u001b[38;5;250m \u001b[39m\u001b[38;5;241m/\u001b[39m\u001b[38;5;250m \u001b[39m\u001b[38;5;241m1000\u001b[39m\u001b[38;5;132;01m}\u001b[39;00m\u001b[38;5;124ms.\u001b[39m\u001b[38;5;130;01m\\n\u001b[39;00m\u001b[38;5;124mOut-of-session whole dataset average true positive ratio: \u001b[39m\u001b[38;5;132;01m{\u001b[39;00mtrue_pos_ratio_sum\u001b[38;5;250m \u001b[39m\u001b[38;5;241m/\u001b[39m\u001b[38;5;250m \u001b[39mcount\u001b[38;5;132;01m}\u001b[39;00m\u001b[38;5;124m'\u001b[39m)\n",
      "\u001b[0;31mNameError\u001b[0m: name 'OneClassSVM' is not defined"
     ]
    }
   ],
   "source": [
    "from sklearn.svm import OneClassSVM\n",
    "\n",
    "for window_size in WINDOW_SIZES:\n",
    "\n",
    "    true_pos_ratio_sum = 0\n",
    "    count = len(subjects_list)\n",
    "\n",
    "    for i in range(len(subjects_list)):\n",
    "        subject = subjects_list[i]\n",
    "\n",
    "        session_hmog_vector = np.vstack((session_hmog_matrices[subject][0], session_hmog_matrices[subject][1]))\n",
    "\n",
    "        std_deviations, session_hmog_vector = HmogHelper.calc_std_and_scale(session_hmog_vector)\n",
    "        session_hmog_vector_no_timestamp = np.delete(session_hmog_vector, 0, axis=1)\n",
    "\n",
    "        test_hmog_vector = np.vstack((session_hmog_matrices[subject][2], session_hmog_matrices[subject][3]))\n",
    "        test_hmog_vector = HmogHelper.scale_by(test_hmog_vector, std_deviations)\n",
    "\n",
    "        if test_hmog_vector.shape[0] == 0:\n",
    "            count -= 1\n",
    "            continue\n",
    "\n",
    "        svm = OneClassSVM(kernel='rbf', gamma='auto', nu=0.01).fit(session_hmog_vector_no_timestamp)\n",
    "        true_pos_ratio_sum += HmogHelper.test_hmog_windowed(test_hmog_vector, t_window=window_size, correct_key=1, model=svm)\n",
    "\n",
    "    print(f'window size: {window_size / 1000}s.\\nOut-of-session whole dataset average true positive ratio: {true_pos_ratio_sum / count}')"
   ]
  },
  {
   "cell_type": "markdown",
   "metadata": {},
   "source": [
    "## Different subjects tests"
   ]
  },
  {
   "cell_type": "code",
   "execution_count": 8,
   "metadata": {},
   "outputs": [
    {
     "name": "stdout",
     "output_type": "stream",
     "text": [
      "Window size: 20.0s\n",
      "Population EER: 0.1529992278868255\n",
      "Window size: 40.0s\n",
      "Population EER: 0.14460728159284708\n",
      "Window size: 60.0s\n",
      "Population EER: 0.1435655901751336\n",
      "Window size: 80.0s\n",
      "Population EER: 0.13708822997182254\n",
      "Window size: 100.0s\n",
      "Population EER: 0.12702076277349977\n",
      "Window size: 120.0s\n",
      "Population EER: 0.1406794888583894\n",
      "Window size: 140.0s\n",
      "Population EER: 0.13551386690688752\n"
     ]
    }
   ],
   "source": [
    "from sklearn.svm import OneClassSVM\n",
    "from sklearn.metrics import roc_curve\n",
    "\n",
    "WINDOW_SIZES = [20000, 40000, 60000, 80000, 100000, 120000, 140000]\n",
    "\n",
    "SVM_WINDOW_PEERs = {}\n",
    "\n",
    "for window_size in WINDOW_SIZES:\n",
    "    true_neg_rate_sum = 0\n",
    "\n",
    "    eer_list = []\n",
    "\n",
    "    for i in range(len(subjects_list)):\n",
    "        subject = subjects_list[i]\n",
    "\n",
    "        train_hmog_vector = np.vstack((session_hmog_matrices[subject][0], session_hmog_matrices[subject][1]))\n",
    "\n",
    "        std_deviations, train_hmog_vector = HmogHelper.calc_std_and_scale(train_hmog_vector)\n",
    "        train_hmog_vector_no_timestamp = np.delete(train_hmog_vector, 0, axis=1)\n",
    "\n",
    "        # We use sessions belonging to the same subject for tests as well (but the sessions are different)\n",
    "        test_hmog_vector_positive = np.vstack((session_hmog_matrices[subject][2], session_hmog_matrices[subject][3]))\n",
    "        test_hmog_vector_positive = HmogHelper.scale_by(test_hmog_vector_positive, std_deviations)\n",
    "\n",
    "        test_hmog_vector_negative = None\n",
    "        \n",
    "        svm = OneClassSVM(kernel='rbf', gamma='auto', nu=0.01).fit(train_hmog_vector_no_timestamp)\n",
    "\n",
    "        other_subjects = subjects_list.copy()\n",
    "        del other_subjects[i]\n",
    "\n",
    "        for another_subject in other_subjects:\n",
    "            test_hmog_vector_new = np.vstack((session_hmog_matrices[another_subject][2], session_hmog_matrices[another_subject][3]))\n",
    "\n",
    "            if test_hmog_vector_new.shape[0] == 0:\n",
    "                continue\n",
    "\n",
    "            if test_hmog_vector_negative is None:\n",
    "                test_hmog_vector_negative = test_hmog_vector_new\n",
    "            else:\n",
    "                test_hmog_vector_negative = np.vstack((test_hmog_vector_negative, test_hmog_vector_new))\n",
    "\n",
    "        # Now we need to scale the whole vector\n",
    "        test_hmog_vector_negative = HmogHelper.scale_by(test_hmog_vector_negative, std_deviations)\n",
    "\n",
    "        predictions_self = HmogHelper.test_hmog_windowed(test_hmog_vector_positive, t_window=window_size, model=svm)\n",
    "        y_true = [1] * len(predictions_self)\n",
    "\n",
    "        predictions_others = HmogHelper.test_hmog_windowed(test_hmog_vector_negative, t_window=window_size, model=svm)\n",
    "        y_true += ([-1] * len(predictions_others))\n",
    "\n",
    "        scores = predictions_self + predictions_others\n",
    "\n",
    "        fpr, tpr, thresholds = roc_curve(y_true, scores)\n",
    "\n",
    "        # Find the threshold where FPR equals FNR\n",
    "        eer_index = np.argmin(np.abs(fpr - (1 - tpr)))\n",
    "        eer = (fpr[eer_index] + (1 - tpr[eer_index])) / 2\n",
    "        \n",
    "        # Append EER to the list\n",
    "        eer_list.append(eer)\n",
    "    \n",
    "    population_eer = np.mean(eer_list)\n",
    "    SVM_WINDOW_PEERs[window_size] = population_eer\n",
    "\n",
    "    print(f'Window size: {window_size / 1000}s\\nPopulation EER: {SVM_WINDOW_PEERs[window_size]}')"
   ]
  },
  {
   "cell_type": "code",
   "execution_count": 9,
   "metadata": {},
   "outputs": [
    {
     "data": {
      "text/plain": [
       "[<matplotlib.lines.Line2D at 0x28cd244d0>]"
      ]
     },
     "execution_count": 9,
     "metadata": {},
     "output_type": "execute_result"
    },
    {
     "data": {
      "image/png": "[encoded data removed]",
      "text/plain": [
       "<Figure size 640x480 with 1 Axes>"
      ]
     },
     "metadata": {},
     "output_type": "display_data"
    }
   ],
   "source": [
    "import matplotlib.pyplot as plt\n",
    "\n",
    "plt.plot(WINDOW_SIZES, list(SVM_WINDOW_PEERs.values()))"
   ]
  },
  {
   "cell_type": "markdown",
   "metadata": {},
   "source": [
    "# Scaled Euclidean\n",
    "\n",
    "Let's perform the same tests, but with a scaled Euclidean classifier instead of a One class SVM"
   ]
  },
  {
   "cell_type": "code",
   "execution_count": 10,
   "metadata": {},
   "outputs": [
    {
     "name": "stdout",
     "output_type": "stream",
     "text": [
      "Window size: 20.0s\n",
      "Population EER: 0.16289019411261532\n",
      "Window size: 40.0s\n",
      "Population EER: 0.15649402470651072\n",
      "Window size: 60.0s\n",
      "Population EER: 0.13823614504029005\n",
      "Window size: 80.0s\n",
      "Population EER: 0.13271698574883556\n",
      "Window size: 100.0s\n",
      "Population EER: 0.13049591444977865\n",
      "Window size: 120.0s\n",
      "Population EER: 0.13546037919695883\n",
      "Window size: 140.0s\n",
      "Population EER: 0.135487345744236\n"
     ]
    }
   ],
   "source": [
    "import numpy as np\n",
    "import numpy.linalg as LA\n",
    "from sklearn.metrics import roc_curve\n",
    "\n",
    "from hmog.models import models\n",
    "\n",
    "WINDOW_SIZES = [20000, 40000, 60000, 80000, 100000, 120000, 140000]\n",
    "\n",
    "SE_WINDOW_PEERs = {}\n",
    "\n",
    "for window_size in WINDOW_SIZES:\n",
    "    eer_list = []\n",
    "\n",
    "    for i in range(len(subjects_list)):\n",
    "        subject = subjects_list[i]\n",
    "\n",
    "        train_hmog_vector = np.vstack((session_hmog_matrices[subject][0], session_hmog_matrices[subject][1]))\n",
    "\n",
    "        std_deviations, train_hmog_vector = HmogHelper.calc_std_and_scale(train_hmog_vector)\n",
    "        train_hmog_vector_no_timestamp = np.delete(train_hmog_vector, 0, axis=1)\n",
    "\n",
    "        # We use sessions belonging to the same subject for tests as well (but the sessions are different)\n",
    "        test_hmog_vector_positive = np.vstack((session_hmog_matrices[subject][2], session_hmog_matrices[subject][3]))\n",
    "        test_hmog_vector_positive = HmogHelper.scale_by(test_hmog_vector_positive, std_deviations)\n",
    "\n",
    "        test_hmog_vector_negative = None\n",
    "        \n",
    "        se_model = models.SEClassifier()\n",
    "        se_model.fit(train_hmog_vector_no_timestamp)\n",
    "\n",
    "        other_subjects = subjects_list.copy()\n",
    "        del other_subjects[i]\n",
    "\n",
    "        for another_subject in other_subjects:\n",
    "            test_hmog_vector_new = np.vstack((session_hmog_matrices[another_subject][2], session_hmog_matrices[another_subject][3]))\n",
    "\n",
    "            if test_hmog_vector_new.shape[0] == 0:\n",
    "                continue\n",
    "\n",
    "            if test_hmog_vector_negative is None:\n",
    "                test_hmog_vector_negative = test_hmog_vector_new\n",
    "            else:\n",
    "                test_hmog_vector_negative = np.vstack((test_hmog_vector_negative, test_hmog_vector_new))\n",
    "\n",
    "        # Now we need to scale the whole vector\n",
    "        test_hmog_vector_negative = HmogHelper.scale_by(test_hmog_vector_negative, std_deviations)\n",
    "\n",
    "        predictions_self = HmogHelper.test_hmog_windowed(test_hmog_vector_positive, t_window=window_size, model=se_model)\n",
    "        y_true = [0] * len(predictions_self)\n",
    "\n",
    "        predictions_others = HmogHelper.test_hmog_windowed(test_hmog_vector_negative, t_window=window_size, model=se_model)\n",
    "        y_true += ([1] * len(predictions_others))\n",
    "\n",
    "        scores = predictions_self + predictions_others\n",
    "\n",
    "        fpr, tpr, thresholds = roc_curve(y_true, scores)\n",
    "\n",
    "        # Find the threshold where FPR equals FNR\n",
    "        eer_index = np.argmin(np.abs(fpr - (1 - tpr)))\n",
    "        eer = (fpr[eer_index] + (1 - tpr[eer_index])) / 2\n",
    "        \n",
    "        # Append EER to the list\n",
    "        eer_list.append(eer)\n",
    "    \n",
    "    population_eer = np.mean(eer_list)\n",
    "    SE_WINDOW_PEERs[window_size] = population_eer\n",
    "\n",
    "    print(f'Window size: {window_size / 1000}s\\nPopulation EER: {SE_WINDOW_PEERs[window_size]}')"
   ]
  },
  {
   "cell_type": "code",
   "execution_count": 11,
   "metadata": {},
   "outputs": [
    {
     "data": {
      "text/plain": [
       "[<matplotlib.lines.Line2D at 0x28cd8be10>]"
      ]
     },
     "execution_count": 11,
     "metadata": {},
     "output_type": "execute_result"
    },
    {
     "data": {
      "image/png": "[encoded data removed]",
      "text/plain": [
       "<Figure size 640x480 with 1 Axes>"
      ]
     },
     "metadata": {},
     "output_type": "display_data"
    }
   ],
   "source": [
    "import matplotlib.pyplot as plt\n",
    "\n",
    "plt.plot(WINDOW_SIZES, list(SE_WINDOW_PEERs.values()))"
   ]
  },
  {
   "cell_type": "markdown",
   "metadata": {},
   "source": [
    "## Scaled Manhattan"
   ]
  },
  {
   "cell_type": "code",
   "execution_count": 4,
   "metadata": {},
   "outputs": [
    {
     "name": "stdout",
     "output_type": "stream",
     "text": [
      "Window size: 20.0s\n",
      "Population EER: 0.15035392149542434\n",
      "Window size: 40.0s\n",
      "Population EER: 0.12018275275090154\n",
      "Window size: 60.0s\n",
      "Population EER: 0.11223300931810712\n",
      "Window size: 80.0s\n",
      "Population EER: 0.10529697181317828\n",
      "Window size: 100.0s\n",
      "Population EER: 0.10309369983851503\n",
      "Window size: 120.0s\n",
      "Population EER: 0.10441135233119506\n",
      "Window size: 140.0s\n",
      "Population EER: 0.10393745426387771\n"
     ]
    }
   ],
   "source": [
    "import numpy as np\n",
    "import numpy.linalg as LA\n",
    "from sklearn.metrics import roc_curve\n",
    "\n",
    "from hmog.models import models\n",
    "\n",
    "WINDOW_SIZES = [20000, 40000, 60000, 80000, 100000, 120000, 140000]\n",
    "\n",
    "SM_WINDOW_PEERs = {}\n",
    "\n",
    "for window_size in WINDOW_SIZES:\n",
    "    eer_list = []\n",
    "\n",
    "    for i in range(len(subjects_list)):\n",
    "        subject = subjects_list[i]\n",
    "\n",
    "        train_hmog_vector = np.vstack((session_hmog_matrices[subject][0], session_hmog_matrices[subject][1]))\n",
    "\n",
    "        std_deviations, train_hmog_vector = HmogHelper.calc_std_and_scale(train_hmog_vector)\n",
    "        train_hmog_vector_no_timestamp = np.delete(train_hmog_vector, 0, axis=1)\n",
    "\n",
    "        # We use sessions belonging to the same subject for tests as well (but the sessions are different)\n",
    "        test_hmog_vector_positive = np.vstack((session_hmog_matrices[subject][2], session_hmog_matrices[subject][3]))\n",
    "        test_hmog_vector_positive = HmogHelper.scale_by(test_hmog_vector_positive, std_deviations)\n",
    "\n",
    "        test_hmog_vector_negative = None\n",
    "        \n",
    "        se_model = models.SMClassifier()\n",
    "        se_model.fit(train_hmog_vector_no_timestamp)\n",
    "\n",
    "        other_subjects = subjects_list.copy()\n",
    "        del other_subjects[i]\n",
    "\n",
    "        for another_subject in other_subjects:\n",
    "            test_hmog_vector_new = np.vstack((session_hmog_matrices[another_subject][2], session_hmog_matrices[another_subject][3]))\n",
    "\n",
    "            if test_hmog_vector_new.shape[0] == 0:\n",
    "                continue\n",
    "\n",
    "            if test_hmog_vector_negative is None:\n",
    "                test_hmog_vector_negative = test_hmog_vector_new\n",
    "            else:\n",
    "                test_hmog_vector_negative = np.vstack((test_hmog_vector_negative, test_hmog_vector_new))\n",
    "\n",
    "        # Now we need to scale the whole vector\n",
    "        test_hmog_vector_negative = HmogHelper.scale_by(test_hmog_vector_negative, std_deviations)\n",
    "\n",
    "        predictions_self = HmogHelper.test_hmog_windowed(test_hmog_vector_positive, t_window=window_size, model=se_model)\n",
    "        y_true = [0] * len(predictions_self)\n",
    "\n",
    "        predictions_others = HmogHelper.test_hmog_windowed(test_hmog_vector_negative, t_window=window_size, model=se_model)\n",
    "        y_true += ([1] * len(predictions_others))\n",
    "\n",
    "        scores = predictions_self + predictions_others\n",
    "\n",
    "        fpr, tpr, thresholds = roc_curve(y_true, scores)\n",
    "\n",
    "        # Find the threshold where FPR equals FNR\n",
    "        eer_index = np.argmin(np.abs(fpr - (1 - tpr)))\n",
    "        eer = (fpr[eer_index] + (1 - tpr[eer_index])) / 2\n",
    "        \n",
    "        # Append EER to the list\n",
    "        eer_list.append(eer)\n",
    "    \n",
    "    population_eer = np.mean(eer_list)\n",
    "    SM_WINDOW_PEERs[window_size] = population_eer\n",
    "\n",
    "    print(f'Window size: {window_size / 1000}s\\nPopulation EER: {SM_WINDOW_PEERs[window_size]}')"
   ]
  },
  {
   "cell_type": "code",
   "execution_count": 6,
   "metadata": {},
   "outputs": [
    {
     "data": {
      "text/plain": [
       "[<matplotlib.lines.Line2D at 0x17f33fd90>]"
      ]
     },
     "execution_count": 6,
     "metadata": {},
     "output_type": "execute_result"
    },
    {
     "data": {
      "image/png": "[encoded data removed]",
      "text/plain": [
       "<Figure size 640x480 with 1 Axes>"
      ]
     },
     "metadata": {},
     "output_type": "display_data"
    }
   ],
   "source": [
    "import matplotlib.pyplot as plt\n",
    "\n",
    "plt.plot(WINDOW_SIZES, list(SM_WINDOW_PEERs.values()))"
   ]
  },
  {
   "cell_type": "markdown",
   "metadata": {},
   "source": [
    "# Visualisations\n",
    "\n",
    "## Tables\n",
    "Let's put all results into a table (window_size vs. sm/se/oneclasssvm)"
   ]
  },
  {
   "cell_type": "code",
   "execution_count": 15,
   "metadata": {},
   "outputs": [
    {
     "name": "stdout",
     "output_type": "stream",
     "text": [
      "Model          20.0s.    40.0s.    60.0s.    80.0s.    100.0s.    120.0s.    140.0s.\n",
      "-----------  --------  --------  --------  --------  ---------  ---------  ---------\n",
      "OneClassSVM  0.152999  0.144607  0.143566  0.137088   0.127021   0.140679   0.135514\n",
      "SE           0.16289   0.156494  0.138236  0.132717   0.130496   0.13546    0.135487\n",
      "SM           0.150354  0.120183  0.112233  0.105297   0.103094   0.104411   0.103937\n"
     ]
    }
   ],
   "source": [
    "from tabulate import tabulate\n",
    "\n",
    "windows_seconds = [size / 1000 for size in WINDOW_SIZES]\n",
    "header = ['Model'] + [f'{window_s}s.' for window_s in windows_seconds]\n",
    "\n",
    "table = [header,\n",
    "         ['OneClassSVM'] + list(SVM_WINDOW_PEERs.values()),\n",
    "         ['SE'] + list(SE_WINDOW_PEERs.values()),\n",
    "         ['SM'] + list(SM_WINDOW_PEERs.values())]\n",
    "\n",
    "print(tabulate(table, headers='firstrow'))"
   ]
  },
  {
   "cell_type": "markdown",
   "metadata": {},
   "source": [
    "## Plots"
   ]
  },
  {
   "cell_type": "code",
   "execution_count": 20,
   "metadata": {},
   "outputs": [
    {
     "data": {
      "image/png": "[encoded data removed]",
      "text/plain": [
       "<Figure size 640x480 with 1 Axes>"
      ]
     },
     "metadata": {},
     "output_type": "display_data"
    }
   ],
   "source": [
    "y_lim_lower = 0\n",
    "y_lim_upper = 0.3\n",
    "\n",
    "plt.plot(windows_seconds, list(SVM_WINDOW_PEERs.values()), linestyle='dotted', label='OneClassSVM')\n",
    "plt.plot(windows_seconds, list(SE_WINDOW_PEERs.values()), linestyle='dotted', label='SE')\n",
    "plt.plot(windows_seconds, list(SM_WINDOW_PEERs.values()), linestyle='dotted', label='SM')\n",
    "plt.ylim(y_lim_lower, y_lim_upper)\n",
    "\n",
    "plt.xlabel('Window Size (s)')\n",
    "plt.ylabel('EER')\n",
    "plt.title('EER Comparison of OneClassSVM, SE, and SM')\n",
    "plt.legend()\n",
    "\n",
    "plt.show()"
   ]
  }
 ],
 "metadata": {
  "kernelspec": {
   "display_name": "venv",
   "language": "python",
   "name": "python3"
  },
  "language_info": {
   "codemirror_mode": {
    "name": "ipython",
    "version": 3
   },
   "file_extension": ".py",
   "mimetype": "text/x-python",
   "name": "python",
   "nbconvert_exporter": "python",
   "pygments_lexer": "ipython3",
   "version": "3.11.6"
  }
 },
 "nbformat": 4,
 "nbformat_minor": 2
}
