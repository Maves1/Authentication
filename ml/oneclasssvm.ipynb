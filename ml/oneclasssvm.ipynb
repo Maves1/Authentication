{
 "cells": [
  {
   "cell_type": "code",
   "execution_count": 1,
   "metadata": {},
   "outputs": [],
   "source": [
    "import os\n",
    "import numpy as np\n",
    "\n",
    "from hmog import HmogHelper\n",
    "from tqdm import tqdm\n",
    "\n",
    "dataset_path = 'hmog_public_dataset/'"
   ]
  },
  {
   "cell_type": "code",
   "execution_count": 10,
   "metadata": {},
   "outputs": [],
   "source": [
    "subjects = HmogHelper.list_folder(dataset_path)\n",
    "\n",
    "session_maps = {}\n",
    "\n",
    "for subject in subjects:\n",
    "    ww_subject_sessions = HmogHelper.filter_user_sessions_by_type(os.path.join(dataset_path, subject), HmogHelper.WW_SESSION_TYPES)\n",
    "    \n",
    "    session_maps[subject] = []\n",
    "    for session in ww_subject_sessions:\n",
    "        session_maps[subject].append(HmogHelper.read_person_session(os.path.join(dataset_path, subject, session)))\n",
    "        HmogHelper.preprocess_session_data(session_maps[subject][-1])"
   ]
  },
  {
   "cell_type": "code",
   "execution_count": 16,
   "metadata": {},
   "outputs": [
    {
     "name": "stderr",
     "output_type": "stream",
     "text": [
      " 18%|█▊        | 18/100 [04:02<19:52, 14.54s/it]/Users/maves/Projects/Personal/Thesis/hmog_models/ml/hmog/HmogHelper.py:207: RuntimeWarning: divide by zero encountered in scalar divide\n",
      "  d_max_to_avg = (t_after_center - t_max) / (avg100msAfter - max_during)\n",
      "100%|██████████| 100/100 [26:41<00:00, 16.01s/it]\n"
     ]
    }
   ],
   "source": [
    "session_hmog_matrices = {}\n",
    "\n",
    "for subject in tqdm(session_maps):\n",
    "    session_hmog_matrices[subject] = []\n",
    "\n",
    "    sessions = session_maps[subject]\n",
    "\n",
    "    assert len(sessions) > 2\n",
    "\n",
    "    v1 = HmogHelper.extract_hmog_features(sessions[0], HmogHelper.SENSOR_LIST, HmogHelper.DIMS_LIST)\n",
    "    v2 = HmogHelper.extract_hmog_features(sessions[1], HmogHelper.SENSOR_LIST, HmogHelper.DIMS_LIST)\n",
    "\n",
    "    train_hmog_vector = np.vstack((v1, v2))\n",
    "    test_hmog_vector = HmogHelper.extract_hmog_features(sessions[2], HmogHelper.SENSOR_LIST, HmogHelper.DIMS_LIST)\n",
    "\n",
    "    session_hmog_matrices[subject].append(train_hmog_vector)\n",
    "    session_hmog_matrices[subject].append(test_hmog_vector)\n",
    "\n",
    "# std_deviations, session_hmog_vector = calc_std_and_scale(session_hmog_vector)"
   ]
  },
  {
   "cell_type": "code",
   "execution_count": 17,
   "metadata": {},
   "outputs": [],
   "source": [
    "import pickle\n",
    "\n",
    "# hmog_dataset_file = open('hmog_dataset', 'wb')\n",
    "# pickle.dump(session_hmog_matrices, hmog_dataset_file)\n",
    "# hmog_dataset_file.close()"
   ]
  },
  {
   "cell_type": "code",
   "execution_count": 3,
   "metadata": {},
   "outputs": [],
   "source": [
    "import pickle\n",
    "\n",
    "test_file = open('hmog_dataset', 'rb')\n",
    "session_hmog_matrices = pickle.load(test_file)\n",
    "test_file.close()"
   ]
  },
  {
   "cell_type": "markdown",
   "metadata": {},
   "source": [
    "# Single subject, out-of-session tests\n",
    "\n",
    "Let's test how the model recognizes the owner in a separate session.\n",
    "\n",
    "First two WW sessions are used to fit the model, and the third one is used to conduct the test."
   ]
  },
  {
   "cell_type": "code",
   "execution_count": 7,
   "metadata": {},
   "outputs": [
    {
     "name": "stdout",
     "output_type": "stream",
     "text": [
      "Out-of-session whole dataset average true positive ratio: 0.8459135339934246\n"
     ]
    }
   ],
   "source": [
    "from sklearn.svm import OneClassSVM\n",
    "\n",
    "true_pos_ratio_sum = 0\n",
    "count = len(session_hmog_matrices)\n",
    "\n",
    "for subject in session_hmog_matrices:\n",
    "    std_deviations, session_hmog_vector = HmogHelper.calc_std_and_scale(session_hmog_matrices[subject][0])\n",
    "    test_hmog_vector = HmogHelper.scale_by(session_hmog_matrices[subject][1], std_deviations)\n",
    "\n",
    "    if test_hmog_vector.shape[0] == 0:\n",
    "        count -= 1\n",
    "        continue\n",
    "\n",
    "    svm = OneClassSVM(kernel='rbf', gamma='auto', nu=0.01).fit(session_hmog_vector)\n",
    "    true_pos_ratio_sum += HmogHelper.test_hmog(test_hmog_vector, 1, svm)\n",
    "\n",
    "print(f'Out-of-session whole dataset average true positive ratio: {true_pos_ratio_sum / count}')"
   ]
  }
 ],
 "metadata": {
  "kernelspec": {
   "display_name": "venv",
   "language": "python",
   "name": "python3"
  },
  "language_info": {
   "codemirror_mode": {
    "name": "ipython",
    "version": 3
   },
   "file_extension": ".py",
   "mimetype": "text/x-python",
   "name": "python",
   "nbconvert_exporter": "python",
   "pygments_lexer": "ipython3",
   "version": "3.11.6"
  }
 },
 "nbformat": 4,
 "nbformat_minor": 2
}
