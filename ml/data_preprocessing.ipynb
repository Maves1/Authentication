{
 "cells": [
  {
   "cell_type": "code",
   "execution_count": null,
   "metadata": {},
   "outputs": [],
   "source": [
    "import os\n",
    "import numpy as np\n",
    "\n",
    "from hmog import HmogHelper\n",
    "from tqdm import tqdm\n",
    "\n",
    "dataset_path = 'hmog_public_dataset/'\n",
    "\n",
    "subjects = HmogHelper.list_folder(dataset_path)\n",
    "\n",
    "session_maps = {}\n",
    "\n",
    "for subject in subjects:\n",
    "    ww_subject_sessions = HmogHelper.filter_user_sessions_by_type(os.path.join(dataset_path, subject), HmogHelper.WW_SESSION_TYPES)\n",
    "    \n",
    "    session_maps[subject] = []\n",
    "    for session in ww_subject_sessions:\n",
    "        session_maps[subject].append(HmogHelper.read_person_session(os.path.join(dataset_path, subject, session)))\n",
    "        HmogHelper.preprocess_session_data(session_maps[subject][-1])"
   ]
  },
  {
   "cell_type": "code",
   "execution_count": null,
   "metadata": {},
   "outputs": [],
   "source": [
    "session_hmog_matrices = {}\n",
    "\n",
    "excluded_subjects = []\n",
    "\n",
    "for subject in tqdm(session_maps):\n",
    "    sessions = session_maps[subject]\n",
    "\n",
    "    assert len(sessions) > 2\n",
    "\n",
    "    success_1, v1 = HmogHelper.extract_hmog_features(sessions[0], HmogHelper.SENSOR_LIST, HmogHelper.DIMS_LIST)\n",
    "    success_2, v2 = HmogHelper.extract_hmog_features(sessions[1], HmogHelper.SENSOR_LIST, HmogHelper.DIMS_LIST)\n",
    "\n",
    "    success_3, test_hmog_vector_1 = HmogHelper.extract_hmog_features(sessions[2], HmogHelper.SENSOR_LIST, HmogHelper.DIMS_LIST)\n",
    "    success_4, test_hmog_vector_2 = HmogHelper.extract_hmog_features(sessions[3], HmogHelper.SENSOR_LIST, HmogHelper.DIMS_LIST)\n",
    "\n",
    "    # train_hmog_vector = np.vstack((v1, v2))\n",
    "\n",
    "    if success_1 and success_2 and success_3 and success_4:\n",
    "        session_hmog_matrices[subject] = []\n",
    "        session_hmog_matrices[subject].append(v1)\n",
    "        session_hmog_matrices[subject].append(v2)\n",
    "        session_hmog_matrices[subject].append(test_hmog_vector_1)\n",
    "        session_hmog_matrices[subject].append(test_hmog_vector_2)\n",
    "    else:\n",
    "        excluded_subjects.append(subject)\n",
    "\n",
    "# std_deviations, session_hmog_vector = calc_std_and_scale(session_hmog_vector)"
   ]
  },
  {
   "cell_type": "code",
   "execution_count": null,
   "metadata": {},
   "outputs": [],
   "source": [
    "import pickle\n",
    "\n",
    "pickled_ds_filename = 'hmog_dataset'\n",
    "\n",
    "if not os.path.exists(pickled_ds_filename):\n",
    "    hmog_dataset_file = open(pickled_ds_filename, 'wb')\n",
    "    pickle.dump(session_hmog_matrices, hmog_dataset_file)\n",
    "    hmog_dataset_file.close()"
   ]
  }
 ],
 "metadata": {
  "language_info": {
   "name": "python"
  }
 },
 "nbformat": 4,
 "nbformat_minor": 2
}
