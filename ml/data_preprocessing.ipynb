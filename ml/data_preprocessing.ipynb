{
 "cells": [
  {
   "cell_type": "code",
   "execution_count": 1,
   "metadata": {},
   "outputs": [],
   "source": [
    "import os\n",
    "import numpy as np\n",
    "\n",
    "from hmog import HmogHelper\n",
    "from tqdm import tqdm\n",
    "\n",
    "dataset_path = 'hmog_public_dataset/'\n",
    "\n",
    "subjects = HmogHelper.list_folder(dataset_path)\n",
    "\n",
    "session_maps = {}\n",
    "\n",
    "for subject in subjects:\n",
    "    ww_subject_sessions = HmogHelper.filter_user_sessions_by_type(os.path.join(dataset_path, subject), HmogHelper.WW_SESSION_TYPES)\n",
    "    ws_subject_sessions = HmogHelper.filter_user_sessions_by_type(os.path.join(dataset_path, subject), HmogHelper.WS_SESSION_TYPES)\n",
    "\n",
    "    session_maps[subject] = {'w': [],\n",
    "                             's': []}\n",
    "    for session in ww_subject_sessions:\n",
    "        session_maps[subject]['w'].append(HmogHelper.read_person_session(os.path.join(dataset_path, subject, session)))\n",
    "        HmogHelper.preprocess_session_data(session_maps[subject]['w'][-1])\n",
    "    for session in ws_subject_sessions:\n",
    "        session_maps[subject]['s'].append(HmogHelper.read_person_session(os.path.join(dataset_path, subject, session)))\n",
    "        HmogHelper.preprocess_session_data(session_maps[subject]['s'][-1])"
   ]
  },
  {
   "cell_type": "code",
   "execution_count": 2,
   "metadata": {},
   "outputs": [
    {
     "name": "stderr",
     "output_type": "stream",
     "text": [
      "100%|██████████| 100/100 [1:29:41<00:00, 53.82s/it]"
     ]
    },
    {
     "name": "stdout",
     "output_type": "stream",
     "text": [
      "excluded subjects: ['733162']\n"
     ]
    },
    {
     "name": "stderr",
     "output_type": "stream",
     "text": [
      "\n"
     ]
    }
   ],
   "source": [
    "session_hmog_matrices = {}\n",
    "\n",
    "excluded_subjects = []\n",
    "\n",
    "for subject in tqdm(session_maps):\n",
    "    sessions_w = session_maps[subject]['w']\n",
    "    sessions_s = session_maps[subject]['s']\n",
    "\n",
    "    assert len(sessions_w) > 3\n",
    "    assert len(sessions_s) > 3\n",
    "\n",
    "    success_w1, w1 = HmogHelper.extract_hmog_features(sessions_w[0], HmogHelper.SENSOR_LIST, HmogHelper.DIMS_LIST)\n",
    "    success_w2, w2 = HmogHelper.extract_hmog_features(sessions_w[1], HmogHelper.SENSOR_LIST, HmogHelper.DIMS_LIST)\n",
    "    success_w3, w3 = HmogHelper.extract_hmog_features(sessions_w[2], HmogHelper.SENSOR_LIST, HmogHelper.DIMS_LIST)\n",
    "    success_w4, w4 = HmogHelper.extract_hmog_features(sessions_w[3], HmogHelper.SENSOR_LIST, HmogHelper.DIMS_LIST)\n",
    "\n",
    "    success_s1, s1 = HmogHelper.extract_hmog_features(sessions_s[0], HmogHelper.SENSOR_LIST, HmogHelper.DIMS_LIST)\n",
    "    success_s2, s2 = HmogHelper.extract_hmog_features(sessions_s[1], HmogHelper.SENSOR_LIST, HmogHelper.DIMS_LIST)\n",
    "    success_s3, s3 = HmogHelper.extract_hmog_features(sessions_s[2], HmogHelper.SENSOR_LIST, HmogHelper.DIMS_LIST)\n",
    "    success_s4, s4 = HmogHelper.extract_hmog_features(sessions_s[3], HmogHelper.SENSOR_LIST, HmogHelper.DIMS_LIST)\n",
    "\n",
    "    extract_success = success_w1 and success_w2 and success_w3 and success_w4 and success_s1 and success_s2 and success_s3 and success_s4\n",
    "\n",
    "    if extract_success:\n",
    "        session_hmog_matrices[subject] = {'w': [],\n",
    "                                          's': []}\n",
    "\n",
    "        session_hmog_matrices[subject]['w'] = []\n",
    "        session_hmog_matrices[subject]['w'].append(w1)\n",
    "        session_hmog_matrices[subject]['w'].append(w2)\n",
    "        session_hmog_matrices[subject]['w'].append(w3)\n",
    "        session_hmog_matrices[subject]['w'].append(w4)\n",
    "\n",
    "        session_hmog_matrices[subject]['s'] = []\n",
    "        session_hmog_matrices[subject]['s'].append(s1)\n",
    "        session_hmog_matrices[subject]['s'].append(s2)\n",
    "        session_hmog_matrices[subject]['s'].append(s3)\n",
    "        session_hmog_matrices[subject]['s'].append(s4)\n",
    "    else:\n",
    "        excluded_subjects.append(subject)\n",
    "\n",
    "print(f'excluded subjects: {excluded_subjects}')\n",
    "# std_deviations, session_hmog_vector = calc_std_and_scale(session_hmog_vector)"
   ]
  },
  {
   "cell_type": "code",
   "execution_count": 3,
   "metadata": {},
   "outputs": [],
   "source": [
    "import pickle\n",
    "\n",
    "pickled_ds_filename = 'hmog_dataset_ww_ws'\n",
    "\n",
    "if not os.path.exists(pickled_ds_filename):\n",
    "    hmog_dataset_file = open(pickled_ds_filename, 'wb')\n",
    "    pickle.dump(session_hmog_matrices, hmog_dataset_file)\n",
    "    hmog_dataset_file.close()"
   ]
  }
 ],
 "metadata": {
  "kernelspec": {
   "display_name": "venv",
   "language": "python",
   "name": "python3"
  },
  "language_info": {
   "codemirror_mode": {
    "name": "ipython",
    "version": 3
   },
   "file_extension": ".py",
   "mimetype": "text/x-python",
   "name": "python",
   "nbconvert_exporter": "python",
   "pygments_lexer": "ipython3",
   "version": "3.11.6"
  }
 },
 "nbformat": 4,
 "nbformat_minor": 2
}
