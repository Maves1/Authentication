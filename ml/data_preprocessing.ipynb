{
 "cells": [
  {
   "cell_type": "code",
   "execution_count": 1,
   "metadata": {},
   "outputs": [],
   "source": [
    "import os\n",
    "import numpy as np\n",
    "\n",
    "from hmog import HmogHelper\n",
    "from tqdm import tqdm\n",
    "\n",
    "dataset_path = 'hmog_public_dataset/'\n",
    "\n",
    "subjects = HmogHelper.list_folder(dataset_path)\n",
    "\n",
    "session_maps = {}\n",
    "\n",
    "for subject in subjects:\n",
    "    ww_subject_sessions = HmogHelper.filter_user_sessions_by_type(os.path.join(dataset_path, subject), HmogHelper.WW_SESSION_TYPES)\n",
    "    ws_subject_sessions = HmogHelper.filter_user_sessions_by_type(os.path.join(dataset_path, subject), HmogHelper.WS_SESSION_TYPES)\n",
    "\n",
    "    session_maps[subject] = {'w': [],\n",
    "                             's': []}\n",
    "    for session in ww_subject_sessions:\n",
    "        session_maps[subject]['w'].append(HmogHelper.read_person_session(os.path.join(dataset_path, subject, session)))\n",
    "        HmogHelper.preprocess_session_data(session_maps[subject]['w'][-1])\n",
    "    for session in ws_subject_sessions:\n",
    "        session_maps[subject]['s'].append(HmogHelper.read_person_session(os.path.join(dataset_path, subject, session)))\n",
    "        HmogHelper.preprocess_session_data(session_maps[subject]['s'][-1])"
   ]
  },
  {
   "cell_type": "code",
   "execution_count": 2,
   "metadata": {},
   "outputs": [
    {
     "name": "stderr",
     "output_type": "stream",
     "text": [
      "100%|██████████| 100/100 [1:29:41<00:00, 53.82s/it]"
     ]
    },
    {
     "name": "stdout",
     "output_type": "stream",
     "text": [
      "excluded subjects: ['733162']\n"
     ]
    },
    {
     "name": "stderr",
     "output_type": "stream",
     "text": [
      "\n"
     ]
    }
   ],
   "source": [
    "session_hmog_matrices = {}\n",
    "\n",
    "excluded_subjects = []\n",
    "\n",
    "for subject in tqdm(session_maps):\n",
    "    sessions_w = session_maps[subject]['w']\n",
    "    sessions_s = session_maps[subject]['s']\n",
    "\n",
    "    assert len(sessions_w) > 3\n",
    "    assert len(sessions_s) > 3\n",
    "\n",
    "    success_w1, w1 = HmogHelper.extract_hmog_features(sessions_w[0], HmogHelper.SENSOR_LIST, HmogHelper.DIMS_LIST)\n",
    "    success_w2, w2 = HmogHelper.extract_hmog_features(sessions_w[1], HmogHelper.SENSOR_LIST, HmogHelper.DIMS_LIST)\n",
    "    success_w3, w3 = HmogHelper.extract_hmog_features(sessions_w[2], HmogHelper.SENSOR_LIST, HmogHelper.DIMS_LIST)\n",
    "    success_w4, w4 = HmogHelper.extract_hmog_features(sessions_w[3], HmogHelper.SENSOR_LIST, HmogHelper.DIMS_LIST)\n",
    "\n",
    "    success_s1, s1 = HmogHelper.extract_hmog_features(sessions_s[0], HmogHelper.SENSOR_LIST, HmogHelper.DIMS_LIST)\n",
    "    success_s2, s2 = HmogHelper.extract_hmog_features(sessions_s[1], HmogHelper.SENSOR_LIST, HmogHelper.DIMS_LIST)\n",
    "    success_s3, s3 = HmogHelper.extract_hmog_features(sessions_s[2], HmogHelper.SENSOR_LIST, HmogHelper.DIMS_LIST)\n",
    "    success_s4, s4 = HmogHelper.extract_hmog_features(sessions_s[3], HmogHelper.SENSOR_LIST, HmogHelper.DIMS_LIST)\n",
    "\n",
    "    extract_success = success_w1 and success_w2 and success_w3 and success_w4 and success_s1 and success_s2 and success_s3 and success_s4\n",
    "\n",
    "    if extract_success:\n",
    "        session_hmog_matrices[subject] = {'w': [],\n",
    "                                          's': []}\n",
    "\n",
    "        session_hmog_matrices[subject]['w'] = []\n",
    "        session_hmog_matrices[subject]['w'].append(w1)\n",
    "        session_hmog_matrices[subject]['w'].append(w2)\n",
    "        session_hmog_matrices[subject]['w'].append(w3)\n",
    "        session_hmog_matrices[subject]['w'].append(w4)\n",
    "\n",
    "        session_hmog_matrices[subject]['s'] = []\n",
    "        session_hmog_matrices[subject]['s'].append(s1)\n",
    "        session_hmog_matrices[subject]['s'].append(s2)\n",
    "        session_hmog_matrices[subject]['s'].append(s3)\n",
    "        session_hmog_matrices[subject]['s'].append(s4)\n",
    "    else:\n",
    "        excluded_subjects.append(subject)\n",
    "\n",
    "print(f'excluded subjects: {excluded_subjects}')\n",
    "# std_deviations, session_hmog_vector = calc_std_and_scale(session_hmog_vector)"
   ]
  },
  {
   "cell_type": "code",
   "execution_count": 3,
   "metadata": {},
   "outputs": [],
   "source": [
    "import pickle\n",
    "\n",
    "pickled_ds_filename = 'hmog_dataset_ww_ws'\n",
    "\n",
    "if not os.path.exists(pickled_ds_filename):\n",
    "    hmog_dataset_file = open(pickled_ds_filename, 'wb')\n",
    "    pickle.dump(session_hmog_matrices, hmog_dataset_file)\n",
    "    hmog_dataset_file.close()"
   ]
  },
  {
   "metadata": {},
   "cell_type": "markdown",
   "source": [
    "# Single Dataframe\n",
    "\n",
    "Let's also make a single dataframe with all sessions and users"
   ]
  },
  {
   "metadata": {
    "ExecuteTime": {
     "end_time": "2024-05-09T11:48:23.311108Z",
     "start_time": "2024-05-09T11:48:23.024388Z"
    }
   },
   "cell_type": "code",
   "source": [
    "import pickle\n",
    "\n",
    "test_file = open('preprocessed_data/hmog_dataset_ww_ws', 'rb')\n",
    "session_hmog_matrices = pickle.load(test_file)\n",
    "test_file.close()"
   ],
   "outputs": [],
   "execution_count": 1
  },
  {
   "metadata": {
    "ExecuteTime": {
     "end_time": "2024-05-09T11:48:54.799771Z",
     "start_time": "2024-05-09T11:48:54.795794Z"
    }
   },
   "cell_type": "code",
   "source": [
    "# We need to exclude subjects who used landscape orientation\n",
    "landscape_subjects = ['856302', '751131', '220962', '186676', '980953', '201848', '675397']\n",
    "for l_s in landscape_subjects:\n",
    "    del session_hmog_matrices[l_s]\n",
    "\n",
    "subjects_list = list(session_hmog_matrices.keys())\n",
    "print(f'len: {len(subjects_list)}')"
   ],
   "outputs": [
    {
     "name": "stdout",
     "output_type": "stream",
     "text": [
      "len: 92\n"
     ]
    }
   ],
   "execution_count": 2
  },
  {
   "metadata": {
    "ExecuteTime": {
     "end_time": "2024-05-09T12:26:09.779529Z",
     "start_time": "2024-05-09T12:25:50.174593Z"
    }
   },
   "cell_type": "code",
   "source": [
    "import pandas as pd\n",
    "\n",
    "session_key_to_int = {'s': 0, 'w': 1}\n",
    "\n",
    "header = ['timestamp'] + list(range(1, 65))\n",
    "\n",
    "transformed_df = None\n",
    "\n",
    "for subject_key in session_hmog_matrices.keys():\n",
    "    # 's', 'w'\n",
    "    for session_type in session_hmog_matrices[subject_key].keys():\n",
    "        for session_index in range(len(session_hmog_matrices[subject_key][session_type])):\n",
    "\n",
    "            session = session_hmog_matrices[subject_key][session_type][session_index]\n",
    "            session_df = pd.DataFrame(session,\n",
    "                                      columns=header)\n",
    "            # print(curr_session_df[1] == session[:, 1])\n",
    "            \n",
    "            session_df['user_id'] = subject_key\n",
    "            session_df['session_type'] = session_key_to_int[session_type]\n",
    "            session_df['session_index'] = session_index\n",
    "            \n",
    "            if transformed_df is None:\n",
    "                transformed_df = session_df.copy()\n",
    "            else:\n",
    "                transformed_df = pd.concat([transformed_df, session_df.copy()], ignore_index=True)\n",
    "\n",
    "print(transformed_df.shape)"
   ],
   "outputs": [
    {
     "name": "stdout",
     "output_type": "stream",
     "text": [
      "(521872, 68)\n"
     ]
    }
   ],
   "execution_count": 38
  },
  {
   "metadata": {
    "ExecuteTime": {
     "end_time": "2024-05-09T12:27:56.876578Z",
     "start_time": "2024-05-09T12:27:36.307524Z"
    }
   },
   "cell_type": "code",
   "source": "transformed_df.to_csv('preprocessed_data/hmog_dataset_unified_df_ids_types_indices.csv')",
   "outputs": [],
   "execution_count": 39
  },
  {
   "metadata": {},
   "cell_type": "markdown",
   "source": [
    "## Windowed Split\n",
    "\n",
    "It is also a good idea to apply sliding window in advance"
   ]
  },
  {
   "metadata": {
    "ExecuteTime": {
     "end_time": "2024-05-10T15:23:40.475208Z",
     "start_time": "2024-05-10T15:23:37.265459Z"
    }
   },
   "cell_type": "code",
   "source": [
    "import pandas as pd\n",
    "\n",
    "df = pd.read_csv('preprocessed_data/hmog_dataset_unified_df_ids_types_indices.csv', index_col=0)\n",
    "df['timestamp'] = pd.to_datetime(df['timestamp'], unit='ms')"
   ],
   "outputs": [],
   "execution_count": 6
  },
  {
   "metadata": {
    "ExecuteTime": {
     "end_time": "2024-05-10T15:25:48.429894Z",
     "start_time": "2024-05-10T15:25:48.426282Z"
    }
   },
   "cell_type": "code",
   "source": [
    "def get_windowed_hmog_df(df, window_size_seconds):\n",
    "    df_grouped = df.groupby(by=['user_id', 'session_type', 'session_index']).rolling(f'{window_size_seconds}s', on='timestamp', min_periods=8).mean().dropna().reset_index()\n",
    "    df_grouped.drop(columns=['level_3'], inplace=True)\n",
    "    \n",
    "    return df_grouped"
   ],
   "outputs": [],
   "execution_count": 8
  },
  {
   "metadata": {
    "ExecuteTime": {
     "end_time": "2024-05-10T15:26:56.034723Z",
     "start_time": "2024-05-10T15:26:43.269847Z"
    }
   },
   "cell_type": "code",
   "source": [
    "df_20s = get_windowed_hmog_df(df, window_size_seconds=20)\n",
    "df_40s = get_windowed_hmog_df(df, window_size_seconds=40)\n",
    "df_60s = get_windowed_hmog_df(df, window_size_seconds=60)\n",
    "df_80s = get_windowed_hmog_df(df, window_size_seconds=80)\n",
    "df_100s = get_windowed_hmog_df(df, window_size_seconds=100)\n",
    "df_120s = get_windowed_hmog_df(df, window_size_seconds=120)\n",
    "df_140s = get_windowed_hmog_df(df, window_size_seconds=140)"
   ],
   "outputs": [],
   "execution_count": 11
  },
  {
   "metadata": {
    "ExecuteTime": {
     "end_time": "2024-05-10T15:33:08.914031Z",
     "start_time": "2024-05-10T15:30:30.061411Z"
    }
   },
   "cell_type": "code",
   "source": [
    "df_20s.to_csv('preprocessed_data/hmog_dataset_unified_df_20s.csv')\n",
    "df_40s.to_csv('preprocessed_data/hmog_dataset_unified_df_40s.csv')\n",
    "df_60s.to_csv('preprocessed_data/hmog_dataset_unified_df_60s.csv')\n",
    "df_80s.to_csv('preprocessed_data/hmog_dataset_unified_df_80s.csv')\n",
    "df_100s.to_csv('preprocessed_data/hmog_dataset_unified_df_100s.csv')\n",
    "df_120s.to_csv('preprocessed_data/hmog_dataset_unified_df_120s.csv')\n",
    "df_140s.to_csv('preprocessed_data/hmog_dataset_unified_df_140s.csv')"
   ],
   "outputs": [],
   "execution_count": 19
  }
 ],
 "metadata": {
  "kernelspec": {
   "display_name": "venv",
   "language": "python",
   "name": "python3"
  },
  "language_info": {
   "codemirror_mode": {
    "name": "ipython",
    "version": 3
   },
   "file_extension": ".py",
   "mimetype": "text/x-python",
   "name": "python",
   "nbconvert_exporter": "python",
   "pygments_lexer": "ipython3",
   "version": "3.11.6"
  }
 },
 "nbformat": 4,
 "nbformat_minor": 2
}
