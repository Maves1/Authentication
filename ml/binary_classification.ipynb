{
 "cells": [
  {
   "cell_type": "code",
   "id": "initial_id",
   "metadata": {
    "collapsed": true,
    "ExecuteTime": {
     "end_time": "2024-05-10T15:37:58.184068Z",
     "start_time": "2024-05-10T15:37:58.159798Z"
    }
   },
   "source": [
    "import os\n",
    "import numpy as np\n",
    "import pandas as pd\n",
    "\n",
    "from hmog import HmogHelper\n",
    "from tqdm import tqdm\n",
    "\n",
    "dataset_path = 'preprocessed_data/'"
   ],
   "outputs": [],
   "execution_count": 7
  },
  {
   "metadata": {
    "ExecuteTime": {
     "end_time": "2024-05-10T18:20:58.582388Z",
     "start_time": "2024-05-10T18:20:32.208134Z"
    }
   },
   "cell_type": "code",
   "source": [
    "df = pd.read_csv(os.path.join(dataset_path, 'hmog_dataset_unified_df_ids_types_indices.csv'), index_col=0)\n",
    "df_20s = pd.read_csv(os.path.join(dataset_path, 'hmog_dataset_unified_df_20s.csv'), index_col=0)\n",
    "df_40s = pd.read_csv(os.path.join(dataset_path, 'hmog_dataset_unified_df_40s.csv'), index_col=0)\n",
    "df_60s = pd.read_csv(os.path.join(dataset_path, 'hmog_dataset_unified_df_60s.csv'), index_col=0)\n",
    "df_80s = pd.read_csv(os.path.join(dataset_path, 'hmog_dataset_unified_df_80s.csv'), index_col=0)\n",
    "df_100s = pd.read_csv(os.path.join(dataset_path, 'hmog_dataset_unified_df_100s.csv'), index_col=0)\n",
    "df_120s = pd.read_csv(os.path.join(dataset_path, 'hmog_dataset_unified_df_120s.csv'), index_col=0)\n",
    "df_140s = pd.read_csv(os.path.join(dataset_path, 'hmog_dataset_unified_df_140s.csv'), index_col=0)"
   ],
   "id": "3de88438dd5be04",
   "outputs": [],
   "execution_count": 12
  },
  {
   "metadata": {
    "ExecuteTime": {
     "end_time": "2024-05-10T15:38:03.081314Z",
     "start_time": "2024-05-10T15:38:03.077470Z"
    }
   },
   "cell_type": "code",
   "source": "subjects_list = list(df['user_id'].unique())",
   "id": "6eb5bf0929193388",
   "outputs": [],
   "execution_count": 9
  },
  {
   "metadata": {
    "ExecuteTime": {
     "end_time": "2024-05-10T18:22:50.366617Z",
     "start_time": "2024-05-10T18:22:48.760585Z"
    }
   },
   "cell_type": "code",
   "source": [
    "# Let's scale the data\n",
    "\n",
    "from sklearn.preprocessing import StandardScaler\n",
    "\n",
    "hmog_features = list(map(str, range(1, 65)))\n",
    "\n",
    "df_scaled = df.copy()\n",
    "scaler = StandardScaler()\n",
    "\n",
    "df_scaled[hmog_features] = scaler.fit_transform(df[hmog_features])\n",
    "df_20s[hmog_features] = scaler.transform(df_20s[hmog_features])\n",
    "df_40s[hmog_features] = scaler.transform(df_40s[hmog_features])\n",
    "df_60s[hmog_features] = scaler.transform(df_60s[hmog_features])\n",
    "df_80s[hmog_features] = scaler.transform(df_80s[hmog_features])\n",
    "df_100s[hmog_features] = scaler.transform(df_100s[hmog_features])\n",
    "df_120s[hmog_features] = scaler.transform(df_120s[hmog_features])\n",
    "df_140s[hmog_features] = scaler.transform(df_140s[hmog_features])\n",
    "\n",
    "df = df_scaled"
   ],
   "id": "fe6b472175f9c71f",
   "outputs": [],
   "execution_count": 13
  },
  {
   "metadata": {
    "ExecuteTime": {
     "end_time": "2024-05-10T18:22:54.987820Z",
     "start_time": "2024-05-10T18:22:54.982670Z"
    }
   },
   "cell_type": "code",
   "source": [
    "from tensorflow.keras.models import Sequential\n",
    "from tensorflow.keras.layers import Dense\n",
    "\n",
    "def create_model():\n",
    "    model = Sequential()\n",
    "    model.add(Dense(60, input_shape=(64,), activation='relu'))\n",
    "    model.add(Dense(1, activation='sigmoid'))\n",
    "\n",
    "    model.compile(loss='binary_crossentropy', optimizer='adam', metrics=['accuracy'])\n",
    "    return model"
   ],
   "id": "d23bf3de221b54be",
   "outputs": [],
   "execution_count": 14
  },
  {
   "metadata": {
    "ExecuteTime": {
     "end_time": "2024-05-10T18:55:55.905075Z",
     "start_time": "2024-05-10T18:53:08.846929Z"
    }
   },
   "cell_type": "code",
   "source": [
    "from sklearn.metrics import roc_curve\n",
    "from sklearn.metrics import roc_auc_score\n",
    "from sklearn.model_selection import train_test_split\n",
    "\n",
    "WINDOW_SIZES = [20000, 40000, 60000, 80000, 100000, 120000, 140000]\n",
    "\n",
    "session_key_to_int = {'s': 0, 'w': 1}\n",
    "\n",
    "def test_eer(train_key: str, test_key: str):\n",
    "    window_eers = {}\n",
    "\n",
    "    for window_size in WINDOW_SIZES:\n",
    "        eer_list = []\n",
    "\n",
    "        for i in tqdm(range(len(subjects_list))):\n",
    "            subject = subjects_list[i]\n",
    "            \n",
    "            train_hmog_vector_positive = df[( (df['user_id'] == subject) & (df['session_type'] == session_key_to_int[train_key]) & ( (df['session_index'] == 0) | (df['session_index'] == 1) ) )]\n",
    "            \n",
    "            test_hmog_vector_positive = df[( (df['user_id'] == subject) & (df['session_type'] == session_key_to_int[test_key]) & (( df['session_index'] == 2) | (df['session_index'] == 3) ) )]\n",
    "            \n",
    "            test_hmog_vector_positive_np = test_hmog_vector_positive[hmog_features].to_numpy()\n",
    "            \n",
    "            another_subject_i = i + 1 if i < len(subjects_list) else 0\n",
    "            another_subject = subjects_list[another_subject_i]\n",
    "\n",
    "            train_hmog_vector_negative = df[( (df['user_id'] == another_subject) & (df['session_type'] == session_key_to_int[train_key]) & ( (df['session_index'] == 0) | (df['session_index'] == 1) ) )]\n",
    "            \n",
    "            data = pd.concat([train_hmog_vector_positive, train_hmog_vector_negative], ignore_index=True)\n",
    "            data[data['user_id'] == subject] = 1\n",
    "            data[data['user_id'] == another_subject] = 0\n",
    "            \n",
    "            X, y = data[hmog_features], data['user_id']\n",
    "            # print(X.shape, y.shape)\n",
    "            # print(y.unique())\n",
    "            \n",
    "            model = create_model()\n",
    "            model.fit(X, y, epochs=2, verbose=1)\n",
    "            \n",
    "            test_hmog_vectors_all_users = df_20s[( ~(df_20s['user_id'] == subject) & (df_20s['session_type'] == session_key_to_int[test_key]) & (( df_20s['session_index'] == 2) | (df_20s['session_index'] == 3) ) )]\n",
    "            test_hmog_vectors_all_users_np = test_hmog_vectors_all_users[hmog_features].to_numpy()\n",
    "            \n",
    "            predictions_self = model.predict(test_hmog_vector_positive_np)\n",
    "            predictions_others = model.predict(test_hmog_vectors_all_users_np)\n",
    "            \n",
    "            scores = np.concatenate([predictions_self, predictions_others])\n",
    "            \n",
    "            y_true = [1] * len(predictions_self)\n",
    "            y_true += ([0] * len(predictions_others))\n",
    "            \n",
    "            fpr, tpr, thresholds = roc_curve(y_true, scores)\n",
    "\n",
    "            # Find the threshold where FPR equals FNR\n",
    "            eer_index = np.argmin(np.abs(fpr - (1 - tpr)))\n",
    "            eer = (fpr[eer_index] + (1 - tpr[eer_index])) / 2\n",
    "\n",
    "            # Append EER to the list\n",
    "            eer_list.append(eer)\n",
    "                \n",
    "        population_eer = np.mean(eer_list)\n",
    "        window_eers[window_size] = population_eer\n",
    "        print(f'Window size: {window_size / 1000}s\\nPopulation EER: {window_eers[window_size]}')\n",
    "\n",
    "    print('Done')\n",
    "    return window_eers\n",
    "\n",
    "window_eers = test_eer('w', 'w')"
   ],
   "id": "68f8f03bc5209168",
   "outputs": [
    {
     "name": "stderr",
     "output_type": "stream",
     "text": [
      "  0%|          | 0/92 [00:00<?, ?it/s]"
     ]
    },
    {
     "name": "stdout",
     "output_type": "stream",
     "text": [
      "Epoch 1/2\n",
      "76/76 [==============================] - 0s 526us/step - loss: 0.3955 - accuracy: 0.9537\n",
      "Epoch 2/2\n",
      "76/76 [==============================] - 0s 440us/step - loss: 0.3471 - accuracy: 1.0000\n",
      "33/33 [==============================] - 0s 358us/step\n",
      "3945/3945 [==============================] - 1s 277us/step\n"
     ]
    },
    {
     "name": "stderr",
     "output_type": "stream",
     "text": [
      "  1%|          | 1/92 [00:02<03:15,  2.15s/it]"
     ]
    },
    {
     "name": "stdout",
     "output_type": "stream",
     "text": [
      "Epoch 1/2\n",
      "94/94 [==============================] - 0s 511us/step - loss: 0.3828 - accuracy: 0.9839\n",
      "Epoch 2/2\n",
      "94/94 [==============================] - 0s 426us/step - loss: 0.3490 - accuracy: 1.0000\n",
      "36/36 [==============================] - 0s 332us/step\n",
      "3942/3942 [==============================] - 1s 270us/step\n"
     ]
    },
    {
     "name": "stderr",
     "output_type": "stream",
     "text": [
      "  2%|▏         | 2/92 [00:04<02:58,  1.99s/it]"
     ]
    },
    {
     "name": "stdout",
     "output_type": "stream",
     "text": [
      "Epoch 1/2\n",
      "96/96 [==============================] - 0s 516us/step - loss: 0.3277 - accuracy: 0.9507\n",
      "Epoch 2/2\n",
      "96/96 [==============================] - 0s 433us/step - loss: 0.2869 - accuracy: 1.0000\n",
      "40/40 [==============================] - 0s 316us/step\n",
      "3938/3938 [==============================] - 1s 263us/step\n"
     ]
    },
    {
     "name": "stderr",
     "output_type": "stream",
     "text": [
      "  3%|▎         | 3/92 [00:05<02:49,  1.91s/it]"
     ]
    },
    {
     "name": "stdout",
     "output_type": "stream",
     "text": [
      "Epoch 1/2\n",
      "74/74 [==============================] - 0s 527us/step - loss: 0.2937 - accuracy: 0.9706\n",
      "Epoch 2/2\n",
      "74/74 [==============================] - 0s 455us/step - loss: 0.2595 - accuracy: 1.0000\n",
      "41/41 [==============================] - 0s 331us/step\n",
      "3937/3937 [==============================] - 1s 286us/step\n"
     ]
    },
    {
     "name": "stderr",
     "output_type": "stream",
     "text": [
      "  4%|▍         | 4/92 [00:07<02:46,  1.90s/it]"
     ]
    },
    {
     "name": "stdout",
     "output_type": "stream",
     "text": [
      "Epoch 1/2\n",
      "56/56 [==============================] - 0s 528us/step - loss: 0.4343 - accuracy: 0.7664\n",
      "Epoch 2/2\n",
      "56/56 [==============================] - 0s 485us/step - loss: 0.3117 - accuracy: 1.0000\n",
      "17/17 [==============================] - 0s 382us/step\n",
      "3961/3961 [==============================] - 1s 261us/step\n"
     ]
    },
    {
     "name": "stderr",
     "output_type": "stream",
     "text": [
      "  5%|▌         | 5/92 [00:09<02:41,  1.86s/it]"
     ]
    },
    {
     "name": "stdout",
     "output_type": "stream",
     "text": [
      "Epoch 1/2\n",
      "58/58 [==============================] - 0s 543us/step - loss: 0.3831 - accuracy: 0.9880\n",
      "Epoch 2/2\n",
      "58/58 [==============================] - 0s 485us/step - loss: 0.3633 - accuracy: 1.0000\n",
      "29/29 [==============================] - 0s 348us/step\n",
      "3949/3949 [==============================] - 1s 261us/step\n"
     ]
    },
    {
     "name": "stderr",
     "output_type": "stream",
     "text": [
      "  7%|▋         | 6/92 [00:11<02:37,  1.84s/it]"
     ]
    },
    {
     "name": "stdout",
     "output_type": "stream",
     "text": [
      "Epoch 1/2\n",
      "65/65 [==============================] - 0s 512us/step - loss: 0.3486 - accuracy: 0.9918\n",
      "Epoch 2/2\n",
      "65/65 [==============================] - 0s 468us/step - loss: 0.3257 - accuracy: 1.0000\n",
      "34/34 [==============================] - 0s 328us/step\n",
      "3944/3944 [==============================] - 1s 271us/step\n"
     ]
    },
    {
     "name": "stderr",
     "output_type": "stream",
     "text": [
      "  8%|▊         | 7/92 [00:13<02:52,  2.04s/it]"
     ]
    },
    {
     "name": "stdout",
     "output_type": "stream",
     "text": [
      "Epoch 1/2\n",
      "83/83 [==============================] - 0s 522us/step - loss: 0.4381 - accuracy: 0.9442\n",
      "Epoch 2/2\n",
      "83/83 [==============================] - 0s 439us/step - loss: 0.3866 - accuracy: 1.0000\n",
      "29/29 [==============================] - 0s 342us/step\n",
      "3949/3949 [==============================] - 1s 260us/step\n"
     ]
    },
    {
     "name": "stderr",
     "output_type": "stream",
     "text": [
      "  9%|▊         | 8/92 [00:15<02:44,  1.96s/it]"
     ]
    },
    {
     "name": "stdout",
     "output_type": "stream",
     "text": [
      "Epoch 1/2\n",
      "89/89 [==============================] - 0s 509us/step - loss: 0.3686 - accuracy: 0.8455\n",
      "Epoch 2/2\n",
      "89/89 [==============================] - 0s 429us/step - loss: 0.2809 - accuracy: 1.0000\n",
      "48/48 [==============================] - 0s 330us/step\n",
      "3931/3931 [==============================] - 1s 258us/step\n"
     ]
    },
    {
     "name": "stderr",
     "output_type": "stream",
     "text": [
      " 10%|▉         | 9/92 [00:17<02:37,  1.90s/it]"
     ]
    },
    {
     "name": "stdout",
     "output_type": "stream",
     "text": [
      "Epoch 1/2\n",
      "74/74 [==============================] - 0s 519us/step - loss: 0.3537 - accuracy: 0.9262\n",
      "Epoch 2/2\n",
      "74/74 [==============================] - 0s 443us/step - loss: 0.3070 - accuracy: 1.0000\n",
      "36/36 [==============================] - 0s 320us/step\n",
      "3942/3942 [==============================] - 1s 259us/step\n"
     ]
    },
    {
     "name": "stderr",
     "output_type": "stream",
     "text": [
      " 11%|█         | 10/92 [00:19<02:32,  1.86s/it]"
     ]
    },
    {
     "name": "stdout",
     "output_type": "stream",
     "text": [
      "Epoch 1/2\n",
      "71/71 [==============================] - 0s 516us/step - loss: 0.3552 - accuracy: 0.9778\n",
      "Epoch 2/2\n",
      "71/71 [==============================] - 0s 440us/step - loss: 0.3238 - accuracy: 1.0000\n",
      "35/35 [==============================] - 0s 325us/step\n",
      "3944/3944 [==============================] - 1s 258us/step\n"
     ]
    },
    {
     "name": "stderr",
     "output_type": "stream",
     "text": [
      " 12%|█▏        | 11/92 [00:20<02:27,  1.82s/it]"
     ]
    },
    {
     "name": "stdout",
     "output_type": "stream",
     "text": [
      "Epoch 1/2\n",
      "67/67 [==============================] - 0s 524us/step - loss: 0.3554 - accuracy: 0.9401\n",
      "Epoch 2/2\n",
      "67/67 [==============================] - 0s 451us/step - loss: 0.3013 - accuracy: 1.0000\n",
      "32/32 [==============================] - 0s 314us/step\n",
      "3946/3946 [==============================] - 1s 267us/step\n"
     ]
    },
    {
     "name": "stderr",
     "output_type": "stream",
     "text": [
      " 13%|█▎        | 12/92 [00:22<02:24,  1.81s/it]"
     ]
    },
    {
     "name": "stdout",
     "output_type": "stream",
     "text": [
      "Epoch 1/2\n",
      "65/65 [==============================] - 0s 532us/step - loss: 0.3861 - accuracy: 0.9275\n",
      "Epoch 2/2\n",
      "65/65 [==============================] - 0s 473us/step - loss: 0.3393 - accuracy: 1.0000\n",
      "37/37 [==============================] - 0s 324us/step\n",
      "3942/3942 [==============================] - 1s 259us/step\n"
     ]
    },
    {
     "name": "stderr",
     "output_type": "stream",
     "text": [
      " 14%|█▍        | 13/92 [00:24<02:21,  1.79s/it]"
     ]
    },
    {
     "name": "stdout",
     "output_type": "stream",
     "text": [
      "Epoch 1/2\n",
      "83/83 [==============================] - 0s 515us/step - loss: 0.4149 - accuracy: 0.9808\n",
      "Epoch 2/2\n",
      "83/83 [==============================] - 0s 430us/step - loss: 0.3777 - accuracy: 1.0000\n",
      "27/27 [==============================] - 0s 352us/step\n",
      "3951/3951 [==============================] - 1s 274us/step\n"
     ]
    },
    {
     "name": "stderr",
     "output_type": "stream",
     "text": [
      " 15%|█▌        | 14/92 [00:26<02:20,  1.81s/it]"
     ]
    },
    {
     "name": "stdout",
     "output_type": "stream",
     "text": [
      "Epoch 1/2\n",
      "88/88 [==============================] - 0s 517us/step - loss: 0.3223 - accuracy: 0.9459\n",
      "Epoch 2/2\n",
      "88/88 [==============================] - 0s 441us/step - loss: 0.2762 - accuracy: 1.0000\n",
      "66/66 [==============================] - 0s 298us/step\n",
      "3914/3914 [==============================] - 1s 261us/step\n"
     ]
    },
    {
     "name": "stderr",
     "output_type": "stream",
     "text": [
      " 16%|█▋        | 15/92 [00:27<02:18,  1.80s/it]"
     ]
    },
    {
     "name": "stdout",
     "output_type": "stream",
     "text": [
      "Epoch 1/2\n",
      "104/104 [==============================] - 0s 511us/step - loss: 0.4360 - accuracy: 0.9846\n",
      "Epoch 2/2\n",
      "104/104 [==============================] - 0s 425us/step - loss: 0.3906 - accuracy: 1.0000\n",
      "43/43 [==============================] - 0s 306us/step\n",
      "3935/3935 [==============================] - 1s 262us/step\n"
     ]
    },
    {
     "name": "stderr",
     "output_type": "stream",
     "text": [
      " 17%|█▋        | 16/92 [00:29<02:16,  1.80s/it]"
     ]
    },
    {
     "name": "stdout",
     "output_type": "stream",
     "text": [
      "Epoch 1/2\n",
      "110/110 [==============================] - 0s 486us/step - loss: 0.3144 - accuracy: 0.9028\n",
      "Epoch 2/2\n",
      "110/110 [==============================] - 0s 415us/step - loss: 0.2533 - accuracy: 1.0000\n",
      "56/56 [==============================] - 0s 327us/step\n",
      "3924/3924 [==============================] - 1s 272us/step\n"
     ]
    },
    {
     "name": "stderr",
     "output_type": "stream",
     "text": [
      " 18%|█▊        | 17/92 [00:31<02:16,  1.82s/it]"
     ]
    },
    {
     "name": "stdout",
     "output_type": "stream",
     "text": [
      "Epoch 1/2\n",
      "85/85 [==============================] - 0s 516us/step - loss: 0.3247 - accuracy: 0.9930\n",
      "Epoch 2/2\n",
      "85/85 [==============================] - 0s 450us/step - loss: 0.3001 - accuracy: 1.0000\n",
      "45/45 [==============================] - 0s 309us/step\n",
      "3933/3933 [==============================] - 1s 262us/step\n"
     ]
    },
    {
     "name": "stderr",
     "output_type": "stream",
     "text": [
      " 20%|█▉        | 18/92 [00:33<02:13,  1.80s/it]"
     ]
    },
    {
     "name": "stdout",
     "output_type": "stream",
     "text": [
      "Epoch 1/2\n",
      "90/90 [==============================] - 0s 536us/step - loss: 0.3896 - accuracy: 0.9628\n",
      "Epoch 2/2\n",
      "90/90 [==============================] - 0s 436us/step - loss: 0.3475 - accuracy: 1.0000\n",
      "47/47 [==============================] - 0s 311us/step\n",
      "3931/3931 [==============================] - 1s 261us/step\n"
     ]
    },
    {
     "name": "stderr",
     "output_type": "stream",
     "text": [
      " 21%|██        | 19/92 [00:35<02:11,  1.80s/it]"
     ]
    },
    {
     "name": "stdout",
     "output_type": "stream",
     "text": [
      "Epoch 1/2\n",
      "95/95 [==============================] - 0s 496us/step - loss: 0.3340 - accuracy: 0.9894\n",
      "Epoch 2/2\n",
      "95/95 [==============================] - 0s 424us/step - loss: 0.3017 - accuracy: 1.0000\n",
      "48/48 [==============================] - 0s 303us/step\n",
      "3931/3931 [==============================] - 1s 278us/step\n"
     ]
    },
    {
     "name": "stderr",
     "output_type": "stream",
     "text": [
      " 22%|██▏       | 20/92 [00:37<02:10,  1.81s/it]"
     ]
    },
    {
     "name": "stdout",
     "output_type": "stream",
     "text": [
      "Epoch 1/2\n",
      "97/97 [==============================] - 0s 500us/step - loss: 0.3612 - accuracy: 0.9935\n",
      "Epoch 2/2\n",
      "97/97 [==============================] - 0s 418us/step - loss: 0.3280 - accuracy: 1.0000\n",
      "50/50 [==============================] - 0s 310us/step\n",
      "3929/3929 [==============================] - 1s 268us/step\n"
     ]
    },
    {
     "name": "stderr",
     "output_type": "stream",
     "text": [
      " 23%|██▎       | 21/92 [00:38<02:08,  1.82s/it]"
     ]
    },
    {
     "name": "stdout",
     "output_type": "stream",
     "text": [
      "Epoch 1/2\n",
      "133/133 [==============================] - 0s 480us/step - loss: 0.4117 - accuracy: 0.9969\n",
      "Epoch 2/2\n",
      "133/133 [==============================] - 0s 417us/step - loss: 0.3724 - accuracy: 1.0000\n",
      "56/56 [==============================] - 0s 301us/step\n",
      "3924/3924 [==============================] - 1s 260us/step\n"
     ]
    },
    {
     "name": "stderr",
     "output_type": "stream",
     "text": [
      " 24%|██▍       | 22/92 [00:40<02:07,  1.82s/it]"
     ]
    },
    {
     "name": "stdout",
     "output_type": "stream",
     "text": [
      "Epoch 1/2\n",
      "152/152 [==============================] - 0s 467us/step - loss: 0.3157 - accuracy: 0.9817\n",
      "Epoch 2/2\n",
      "152/152 [==============================] - 0s 419us/step - loss: 0.2721 - accuracy: 1.0000\n",
      "62/62 [==============================] - 0s 298us/step\n",
      "3919/3919 [==============================] - 1s 283us/step\n"
     ]
    },
    {
     "name": "stderr",
     "output_type": "stream",
     "text": [
      " 25%|██▌       | 23/92 [00:42<02:07,  1.85s/it]"
     ]
    },
    {
     "name": "stdout",
     "output_type": "stream",
     "text": [
      "Epoch 1/2\n",
      "131/131 [==============================] - 0s 565us/step - loss: 0.3265 - accuracy: 0.9765\n",
      "Epoch 2/2\n",
      "131/131 [==============================] - 0s 466us/step - loss: 0.2776 - accuracy: 1.0000\n",
      "64/64 [==============================] - 0s 292us/step\n",
      "3916/3916 [==============================] - 1s 292us/step\n"
     ]
    },
    {
     "name": "stderr",
     "output_type": "stream",
     "text": [
      " 26%|██▌       | 24/92 [00:44<02:09,  1.91s/it]"
     ]
    },
    {
     "name": "stdout",
     "output_type": "stream",
     "text": [
      "Epoch 1/2\n",
      "103/103 [==============================] - 0s 478us/step - loss: 0.2808 - accuracy: 0.9923\n",
      "Epoch 2/2\n",
      "103/103 [==============================] - 0s 413us/step - loss: 0.2542 - accuracy: 1.0000\n",
      "47/47 [==============================] - 0s 318us/step\n",
      "3932/3932 [==============================] - 1s 267us/step\n"
     ]
    },
    {
     "name": "stderr",
     "output_type": "stream",
     "text": [
      " 27%|██▋       | 25/92 [00:46<02:07,  1.90s/it]"
     ]
    },
    {
     "name": "stdout",
     "output_type": "stream",
     "text": [
      "Epoch 1/2\n",
      "95/95 [==============================] - 0s 561us/step - loss: 0.4267 - accuracy: 0.9011\n",
      "Epoch 2/2\n",
      "95/95 [==============================] - 0s 579us/step - loss: 0.3531 - accuracy: 1.0000\n",
      "44/44 [==============================] - 0s 328us/step\n",
      "3934/3934 [==============================] - 1s 262us/step\n"
     ]
    },
    {
     "name": "stderr",
     "output_type": "stream",
     "text": [
      " 28%|██▊       | 26/92 [00:48<02:05,  1.89s/it]"
     ]
    },
    {
     "name": "stdout",
     "output_type": "stream",
     "text": [
      "Epoch 1/2\n",
      "102/102 [==============================] - 0s 459us/step - loss: 0.3662 - accuracy: 0.8925\n",
      "Epoch 2/2\n",
      "102/102 [==============================] - 0s 400us/step - loss: 0.3030 - accuracy: 1.0000\n",
      "51/51 [==============================] - 0s 312us/step\n",
      "3927/3927 [==============================] - 1s 261us/step\n"
     ]
    },
    {
     "name": "stderr",
     "output_type": "stream",
     "text": [
      " 29%|██▉       | 27/92 [00:50<02:00,  1.86s/it]"
     ]
    },
    {
     "name": "stdout",
     "output_type": "stream",
     "text": [
      "Epoch 1/2\n",
      "97/97 [==============================] - 0s 506us/step - loss: 0.3499 - accuracy: 0.9784\n",
      "Epoch 2/2\n",
      "97/97 [==============================] - 0s 418us/step - loss: 0.3085 - accuracy: 1.0000\n",
      "52/52 [==============================] - 0s 308us/step\n",
      "3927/3927 [==============================] - 1s 261us/step\n"
     ]
    },
    {
     "name": "stderr",
     "output_type": "stream",
     "text": [
      " 30%|███       | 28/92 [00:51<01:57,  1.84s/it]"
     ]
    },
    {
     "name": "stdout",
     "output_type": "stream",
     "text": [
      "Epoch 1/2\n",
      "92/92 [==============================] - 0s 501us/step - loss: 0.3288 - accuracy: 0.9901\n",
      "Epoch 2/2\n",
      "92/92 [==============================] - 0s 426us/step - loss: 0.3003 - accuracy: 1.0000\n",
      "40/40 [==============================] - 0s 340us/step\n",
      "3939/3939 [==============================] - 1s 265us/step\n"
     ]
    },
    {
     "name": "stderr",
     "output_type": "stream",
     "text": [
      " 32%|███▏      | 29/92 [00:53<01:55,  1.84s/it]"
     ]
    },
    {
     "name": "stdout",
     "output_type": "stream",
     "text": [
      "Epoch 1/2\n",
      "80/80 [==============================] - 0s 516us/step - loss: 0.3089 - accuracy: 0.9814\n",
      "Epoch 2/2\n",
      "80/80 [==============================] - 0s 425us/step - loss: 0.2847 - accuracy: 1.0000\n",
      "55/55 [==============================] - 0s 300us/step\n",
      "3924/3924 [==============================] - 1s 256us/step\n"
     ]
    },
    {
     "name": "stderr",
     "output_type": "stream",
     "text": [
      " 33%|███▎      | 30/92 [00:55<01:52,  1.81s/it]"
     ]
    },
    {
     "name": "stdout",
     "output_type": "stream",
     "text": [
      "Epoch 1/2\n",
      "80/80 [==============================] - 0s 495us/step - loss: 0.4075 - accuracy: 0.9494\n",
      "Epoch 2/2\n",
      "80/80 [==============================] - 0s 433us/step - loss: 0.3527 - accuracy: 1.0000\n",
      "34/34 [==============================] - 0s 320us/step\n",
      "3944/3944 [==============================] - 1s 256us/step\n"
     ]
    },
    {
     "name": "stderr",
     "output_type": "stream",
     "text": [
      " 34%|███▎      | 31/92 [00:57<01:49,  1.80s/it]"
     ]
    },
    {
     "name": "stdout",
     "output_type": "stream",
     "text": [
      "Epoch 1/2\n",
      "94/94 [==============================] - 0s 507us/step - loss: 0.3826 - accuracy: 0.9581\n",
      "Epoch 2/2\n",
      "94/94 [==============================] - 0s 429us/step - loss: 0.3358 - accuracy: 1.0000\n",
      "42/42 [==============================] - 0s 322us/step\n",
      "3936/3936 [==============================] - 1s 264us/step\n"
     ]
    },
    {
     "name": "stderr",
     "output_type": "stream",
     "text": [
      " 35%|███▍      | 32/92 [00:59<01:47,  1.80s/it]"
     ]
    },
    {
     "name": "stdout",
     "output_type": "stream",
     "text": [
      "Epoch 1/2\n",
      "93/93 [==============================] - 0s 500us/step - loss: 0.3828 - accuracy: 0.8362\n",
      "Epoch 2/2\n",
      "93/93 [==============================] - 0s 417us/step - loss: 0.2931 - accuracy: 1.0000\n",
      "60/60 [==============================] - 0s 294us/step\n",
      "3919/3919 [==============================] - 1s 257us/step\n"
     ]
    },
    {
     "name": "stderr",
     "output_type": "stream",
     "text": [
      " 36%|███▌      | 33/92 [01:00<01:45,  1.79s/it]"
     ]
    },
    {
     "name": "stdout",
     "output_type": "stream",
     "text": [
      "Epoch 1/2\n",
      "111/111 [==============================] - 0s 476us/step - loss: 0.4335 - accuracy: 0.9601\n",
      "Epoch 2/2\n",
      "111/111 [==============================] - 0s 409us/step - loss: 0.3813 - accuracy: 1.0000\n",
      "44/44 [==============================] - 0s 307us/step\n",
      "3935/3935 [==============================] - 1s 256us/step\n"
     ]
    },
    {
     "name": "stderr",
     "output_type": "stream",
     "text": [
      " 37%|███▋      | 34/92 [01:02<01:44,  1.80s/it]"
     ]
    },
    {
     "name": "stdout",
     "output_type": "stream",
     "text": [
      "Epoch 1/2\n",
      "128/128 [==============================] - 0s 509us/step - loss: 0.3339 - accuracy: 0.9890\n",
      "Epoch 2/2\n",
      "128/128 [==============================] - 0s 518us/step - loss: 0.2808 - accuracy: 1.0000\n",
      "50/50 [==============================] - 0s 340us/step\n",
      "3928/3928 [==============================] - 1s 278us/step\n"
     ]
    },
    {
     "name": "stderr",
     "output_type": "stream",
     "text": [
      " 38%|███▊      | 35/92 [01:04<01:46,  1.87s/it]"
     ]
    },
    {
     "name": "stdout",
     "output_type": "stream",
     "text": [
      "Epoch 1/2\n",
      "108/108 [==============================] - 0s 507us/step - loss: 0.3143 - accuracy: 0.9861\n",
      "Epoch 2/2\n",
      "108/108 [==============================] - 0s 447us/step - loss: 0.2773 - accuracy: 1.0000\n",
      "60/60 [==============================] - 0s 329us/step\n",
      "3922/3922 [==============================] - 1s 279us/step\n"
     ]
    },
    {
     "name": "stderr",
     "output_type": "stream",
     "text": [
      " 39%|███▉      | 36/92 [01:06<01:46,  1.91s/it]"
     ]
    },
    {
     "name": "stdout",
     "output_type": "stream",
     "text": [
      "Epoch 1/2\n",
      "93/93 [==============================] - 0s 527us/step - loss: 0.3296 - accuracy: 0.9892\n",
      "Epoch 2/2\n",
      "93/93 [==============================] - 0s 460us/step - loss: 0.3013 - accuracy: 1.0000\n",
      "46/46 [==============================] - 0s 336us/step\n",
      "3932/3932 [==============================] - 1s 300us/step\n"
     ]
    },
    {
     "name": "stderr",
     "output_type": "stream",
     "text": [
      " 40%|████      | 37/92 [01:08<01:45,  1.92s/it]"
     ]
    },
    {
     "name": "stdout",
     "output_type": "stream",
     "text": [
      "Epoch 1/2\n",
      "75/75 [==============================] - 0s 496us/step - loss: 0.3626 - accuracy: 0.8088\n",
      "Epoch 2/2\n",
      "75/75 [==============================] - 0s 454us/step - loss: 0.2665 - accuracy: 1.0000\n",
      "48/48 [==============================] - 0s 302us/step\n",
      "3932/3932 [==============================] - 1s 281us/step\n"
     ]
    },
    {
     "name": "stderr",
     "output_type": "stream",
     "text": [
      " 41%|████▏     | 38/92 [01:10<01:42,  1.91s/it]"
     ]
    },
    {
     "name": "stdout",
     "output_type": "stream",
     "text": [
      "Epoch 1/2\n",
      "75/75 [==============================] - 0s 525us/step - loss: 0.4349 - accuracy: 0.9779\n",
      "Epoch 2/2\n",
      "75/75 [==============================] - 0s 465us/step - loss: 0.3850 - accuracy: 1.0000\n",
      "38/38 [==============================] - 0s 321us/step\n",
      "3940/3940 [==============================] - 1s 268us/step\n"
     ]
    },
    {
     "name": "stderr",
     "output_type": "stream",
     "text": [
      " 42%|████▏     | 39/92 [01:12<01:39,  1.88s/it]"
     ]
    },
    {
     "name": "stdout",
     "output_type": "stream",
     "text": [
      "Epoch 1/2\n",
      "89/89 [==============================] - 0s 547us/step - loss: 0.3312 - accuracy: 0.9954\n",
      "Epoch 2/2\n",
      "89/89 [==============================] - 0s 440us/step - loss: 0.3090 - accuracy: 1.0000\n",
      "73/73 [==============================] - 0s 336us/step\n",
      "3907/3907 [==============================] - 1s 262us/step\n"
     ]
    },
    {
     "name": "stderr",
     "output_type": "stream",
     "text": [
      " 43%|████▎     | 40/92 [01:14<01:36,  1.86s/it]"
     ]
    },
    {
     "name": "stdout",
     "output_type": "stream",
     "text": [
      "Epoch 1/2\n",
      "90/90 [==============================] - 0s 509us/step - loss: 0.3648 - accuracy: 0.9868\n",
      "Epoch 2/2\n",
      "90/90 [==============================] - 0s 441us/step - loss: 0.3259 - accuracy: 1.0000\n",
      "44/44 [==============================] - 0s 312us/step\n",
      "3937/3937 [==============================] - 1s 260us/step\n"
     ]
    },
    {
     "name": "stderr",
     "output_type": "stream",
     "text": [
      " 45%|████▍     | 41/92 [01:16<01:33,  1.84s/it]"
     ]
    },
    {
     "name": "stdout",
     "output_type": "stream",
     "text": [
      "Epoch 1/2\n",
      "91/91 [==============================] - 0s 500us/step - loss: 0.3326 - accuracy: 0.9931\n",
      "Epoch 2/2\n",
      "91/91 [==============================] - 0s 444us/step - loss: 0.3054 - accuracy: 1.0000\n",
      "48/48 [==============================] - 0s 315us/step\n",
      "3930/3930 [==============================] - 1s 260us/step\n"
     ]
    },
    {
     "name": "stderr",
     "output_type": "stream",
     "text": [
      " 46%|████▌     | 42/92 [01:17<01:31,  1.82s/it]"
     ]
    },
    {
     "name": "stdout",
     "output_type": "stream",
     "text": [
      "Epoch 1/2\n",
      "83/83 [==============================] - 0s 495us/step - loss: 0.4131 - accuracy: 0.7909\n",
      "Epoch 2/2\n",
      "83/83 [==============================] - 0s 448us/step - loss: 0.3032 - accuracy: 1.0000\n",
      "42/42 [==============================] - 0s 298us/step\n",
      "3936/3936 [==============================] - 1s 262us/step\n"
     ]
    },
    {
     "name": "stderr",
     "output_type": "stream",
     "text": [
      " 47%|████▋     | 43/92 [01:19<01:28,  1.81s/it]"
     ]
    },
    {
     "name": "stdout",
     "output_type": "stream",
     "text": [
      "Epoch 1/2\n",
      "84/84 [==============================] - 0s 505us/step - loss: 0.4000 - accuracy: 0.9720\n",
      "Epoch 2/2\n",
      "84/84 [==============================] - 0s 416us/step - loss: 0.3442 - accuracy: 1.0000\n",
      "41/41 [==============================] - 0s 336us/step\n",
      "3937/3937 [==============================] - 1s 258us/step\n"
     ]
    },
    {
     "name": "stderr",
     "output_type": "stream",
     "text": [
      " 48%|████▊     | 44/92 [01:21<01:26,  1.80s/it]"
     ]
    },
    {
     "name": "stdout",
     "output_type": "stream",
     "text": [
      "Epoch 1/2\n",
      "100/100 [==============================] - 0s 481us/step - loss: 0.3835 - accuracy: 0.9654\n",
      "Epoch 2/2\n",
      "100/100 [==============================] - 0s 420us/step - loss: 0.3380 - accuracy: 1.0000\n",
      "53/53 [==============================] - 1s 322us/step\n",
      "3925/3925 [==============================] - 1s 260us/step\n"
     ]
    },
    {
     "name": "stderr",
     "output_type": "stream",
     "text": [
      " 49%|████▉     | 45/92 [01:23<01:34,  2.00s/it]"
     ]
    },
    {
     "name": "stdout",
     "output_type": "stream",
     "text": [
      "Epoch 1/2\n",
      "130/130 [==============================] - 0s 474us/step - loss: 0.4273 - accuracy: 0.9218\n",
      "Epoch 2/2\n",
      "130/130 [==============================] - 0s 431us/step - loss: 0.3539 - accuracy: 1.0000\n",
      "54/54 [==============================] - 0s 309us/step\n",
      "3925/3925 [==============================] - 1s 261us/step\n"
     ]
    },
    {
     "name": "stderr",
     "output_type": "stream",
     "text": [
      " 50%|█████     | 46/92 [01:25<01:29,  1.95s/it]"
     ]
    },
    {
     "name": "stdout",
     "output_type": "stream",
     "text": [
      "Epoch 1/2\n",
      "138/138 [==============================] - 0s 484us/step - loss: 0.3008 - accuracy: 0.9934\n",
      "Epoch 2/2\n",
      "138/138 [==============================] - 0s 423us/step - loss: 0.2702 - accuracy: 1.0000\n",
      "49/49 [==============================] - 0s 305us/step\n",
      "3929/3929 [==============================] - 1s 258us/step\n"
     ]
    },
    {
     "name": "stderr",
     "output_type": "stream",
     "text": [
      " 51%|█████     | 47/92 [01:27<01:25,  1.91s/it]"
     ]
    },
    {
     "name": "stdout",
     "output_type": "stream",
     "text": [
      "Epoch 1/2\n",
      "97/97 [==============================] - 0s 505us/step - loss: 0.2704 - accuracy: 0.9333\n",
      "Epoch 2/2\n",
      "97/97 [==============================] - 0s 422us/step - loss: 0.2258 - accuracy: 1.0000\n",
      "53/53 [==============================] - 0s 323us/step\n",
      "3926/3926 [==============================] - 1s 260us/step\n"
     ]
    },
    {
     "name": "stderr",
     "output_type": "stream",
     "text": [
      " 52%|█████▏    | 48/92 [01:29<01:22,  1.87s/it]"
     ]
    },
    {
     "name": "stdout",
     "output_type": "stream",
     "text": [
      "Epoch 1/2\n",
      "82/82 [==============================] - 0s 519us/step - loss: 0.4234 - accuracy: 0.9312\n",
      "Epoch 2/2\n",
      "82/82 [==============================] - 0s 441us/step - loss: 0.3694 - accuracy: 1.0000\n",
      "38/38 [==============================] - 0s 317us/step\n",
      "3941/3941 [==============================] - 1s 257us/step\n"
     ]
    },
    {
     "name": "stderr",
     "output_type": "stream",
     "text": [
      " 53%|█████▎    | 49/92 [01:30<01:18,  1.83s/it]"
     ]
    },
    {
     "name": "stdout",
     "output_type": "stream",
     "text": [
      "Epoch 1/2\n",
      "101/101 [==============================] - 0s 483us/step - loss: 0.3789 - accuracy: 0.9742\n",
      "Epoch 2/2\n",
      "101/101 [==============================] - 0s 418us/step - loss: 0.3287 - accuracy: 1.0000\n",
      "47/47 [==============================] - 0s 301us/step\n",
      "3931/3931 [==============================] - 1s 259us/step\n"
     ]
    },
    {
     "name": "stderr",
     "output_type": "stream",
     "text": [
      " 54%|█████▍    | 50/92 [01:32<01:17,  1.85s/it]"
     ]
    },
    {
     "name": "stdout",
     "output_type": "stream",
     "text": [
      "Epoch 1/2\n",
      "88/88 [==============================] - 0s 517us/step - loss: 0.3650 - accuracy: 0.7911\n",
      "Epoch 2/2\n",
      "88/88 [==============================] - 0s 439us/step - loss: 0.2570 - accuracy: 1.0000\n",
      "54/54 [==============================] - 0s 299us/step\n",
      "3924/3924 [==============================] - 1s 257us/step\n"
     ]
    },
    {
     "name": "stderr",
     "output_type": "stream",
     "text": [
      " 55%|█████▌    | 51/92 [01:34<01:14,  1.82s/it]"
     ]
    },
    {
     "name": "stdout",
     "output_type": "stream",
     "text": [
      "Epoch 1/2\n",
      "87/87 [==============================] - 0s 488us/step - loss: 0.4225 - accuracy: 0.9856\n",
      "Epoch 2/2\n",
      "87/87 [==============================] - 0s 430us/step - loss: 0.3807 - accuracy: 1.0000\n",
      "40/40 [==============================] - 0s 309us/step\n",
      "3939/3939 [==============================] - 1s 259us/step\n"
     ]
    },
    {
     "name": "stderr",
     "output_type": "stream",
     "text": [
      " 57%|█████▋    | 52/92 [01:36<01:12,  1.80s/it]"
     ]
    },
    {
     "name": "stdout",
     "output_type": "stream",
     "text": [
      "Epoch 1/2\n",
      "108/108 [==============================] - 0s 463us/step - loss: 0.3438 - accuracy: 0.9965\n",
      "Epoch 2/2\n",
      "108/108 [==============================] - 0s 428us/step - loss: 0.3170 - accuracy: 1.0000\n",
      "58/58 [==============================] - 0s 307us/step\n",
      "3920/3920 [==============================] - 1s 258us/step\n"
     ]
    },
    {
     "name": "stderr",
     "output_type": "stream",
     "text": [
      " 58%|█████▊    | 53/92 [01:38<01:09,  1.79s/it]"
     ]
    },
    {
     "name": "stdout",
     "output_type": "stream",
     "text": [
      "Epoch 1/2\n",
      "80/80 [==============================] - 0s 522us/step - loss: 0.2319 - accuracy: 0.9483\n",
      "Epoch 2/2\n",
      "80/80 [==============================] - 0s 433us/step - loss: 0.1950 - accuracy: 1.0000\n",
      "49/49 [==============================] - 0s 312us/step\n",
      "3929/3929 [==============================] - 1s 258us/step\n"
     ]
    },
    {
     "name": "stderr",
     "output_type": "stream",
     "text": [
      " 59%|█████▊    | 54/92 [01:39<01:07,  1.78s/it]"
     ]
    },
    {
     "name": "stdout",
     "output_type": "stream",
     "text": [
      "Epoch 1/2\n",
      "57/57 [==============================] - 0s 498us/step - loss: 0.4520 - accuracy: 0.9443\n",
      "Epoch 2/2\n",
      "57/57 [==============================] - 0s 479us/step - loss: 0.3745 - accuracy: 1.0000\n",
      "22/22 [==============================] - 0s 363us/step\n",
      "3956/3956 [==============================] - 1s 257us/step\n"
     ]
    },
    {
     "name": "stderr",
     "output_type": "stream",
     "text": [
      " 60%|█████▉    | 55/92 [01:41<01:05,  1.77s/it]"
     ]
    },
    {
     "name": "stdout",
     "output_type": "stream",
     "text": [
      "Epoch 1/2\n",
      "68/68 [==============================] - 0s 513us/step - loss: 0.3636 - accuracy: 0.9834\n",
      "Epoch 2/2\n",
      "68/68 [==============================] - 0s 469us/step - loss: 0.3395 - accuracy: 1.0000\n",
      "29/29 [==============================] - 0s 343us/step\n",
      "3949/3949 [==============================] - 1s 258us/step\n"
     ]
    },
    {
     "name": "stderr",
     "output_type": "stream",
     "text": [
      " 61%|██████    | 56/92 [01:43<01:03,  1.76s/it]"
     ]
    },
    {
     "name": "stdout",
     "output_type": "stream",
     "text": [
      "Epoch 1/2\n",
      "88/88 [==============================] - 0s 522us/step - loss: 0.4160 - accuracy: 0.9925\n",
      "Epoch 2/2\n",
      "88/88 [==============================] - 0s 438us/step - loss: 0.3722 - accuracy: 1.0000\n",
      "37/37 [==============================] - 0s 324us/step\n",
      "3941/3941 [==============================] - 1s 258us/step\n"
     ]
    },
    {
     "name": "stderr",
     "output_type": "stream",
     "text": [
      " 62%|██████▏   | 57/92 [01:45<01:01,  1.76s/it]"
     ]
    },
    {
     "name": "stdout",
     "output_type": "stream",
     "text": [
      "Epoch 1/2\n",
      "89/89 [==============================] - 0s 516us/step - loss: 0.2889 - accuracy: 0.9901\n",
      "Epoch 2/2\n",
      "89/89 [==============================] - 0s 431us/step - loss: 0.2629 - accuracy: 1.0000\n",
      "52/52 [==============================] - 0s 295us/step\n",
      "3927/3927 [==============================] - 1s 262us/step\n"
     ]
    },
    {
     "name": "stderr",
     "output_type": "stream",
     "text": [
      " 63%|██████▎   | 58/92 [01:46<01:00,  1.77s/it]"
     ]
    },
    {
     "name": "stdout",
     "output_type": "stream",
     "text": [
      "Epoch 1/2\n",
      "71/71 [==============================] - 0s 557us/step - loss: 0.4013 - accuracy: 0.8437\n",
      "Epoch 2/2\n",
      "71/71 [==============================] - 0s 499us/step - loss: 0.3127 - accuracy: 1.0000\n",
      "35/35 [==============================] - 0s 351us/step\n",
      "3943/3943 [==============================] - 1s 284us/step\n"
     ]
    },
    {
     "name": "stderr",
     "output_type": "stream",
     "text": [
      " 64%|██████▍   | 59/92 [01:48<00:59,  1.81s/it]"
     ]
    },
    {
     "name": "stdout",
     "output_type": "stream",
     "text": [
      "Epoch 1/2\n",
      "64/64 [==============================] - 0s 549us/step - loss: 0.3318 - accuracy: 0.9838\n",
      "Epoch 2/2\n",
      "64/64 [==============================] - 0s 514us/step - loss: 0.3051 - accuracy: 1.0000\n",
      "31/31 [==============================] - 0s 336us/step\n",
      "3946/3946 [==============================] - 1s 262us/step\n"
     ]
    },
    {
     "name": "stderr",
     "output_type": "stream",
     "text": [
      " 65%|██████▌   | 60/92 [01:50<00:57,  1.79s/it]"
     ]
    },
    {
     "name": "stdout",
     "output_type": "stream",
     "text": [
      "Epoch 1/2\n",
      "75/75 [==============================] - 0s 533us/step - loss: 0.4153 - accuracy: 0.9777\n",
      "Epoch 2/2\n",
      "75/75 [==============================] - 0s 475us/step - loss: 0.3809 - accuracy: 1.0000\n",
      "32/32 [==============================] - 0s 330us/step\n",
      "3947/3947 [==============================] - 1s 261us/step\n"
     ]
    },
    {
     "name": "stderr",
     "output_type": "stream",
     "text": [
      " 66%|██████▋   | 61/92 [01:52<00:55,  1.78s/it]"
     ]
    },
    {
     "name": "stdout",
     "output_type": "stream",
     "text": [
      "Epoch 1/2\n",
      "80/80 [==============================] - 0s 533us/step - loss: 0.3269 - accuracy: 0.9557\n",
      "Epoch 2/2\n",
      "80/80 [==============================] - 0s 447us/step - loss: 0.2855 - accuracy: 1.0000\n",
      "66/66 [==============================] - 0s 302us/step\n",
      "3913/3913 [==============================] - 1s 264us/step\n"
     ]
    },
    {
     "name": "stderr",
     "output_type": "stream",
     "text": [
      " 67%|██████▋   | 62/92 [01:54<00:53,  1.79s/it]"
     ]
    },
    {
     "name": "stdout",
     "output_type": "stream",
     "text": [
      "Epoch 1/2\n",
      "78/78 [==============================] - 0s 521us/step - loss: 0.3788 - accuracy: 0.9852\n",
      "Epoch 2/2\n",
      "78/78 [==============================] - 0s 462us/step - loss: 0.3466 - accuracy: 1.0000\n",
      "40/40 [==============================] - 0s 311us/step\n",
      "3938/3938 [==============================] - 1s 261us/step\n"
     ]
    },
    {
     "name": "stderr",
     "output_type": "stream",
     "text": [
      " 68%|██████▊   | 63/92 [01:55<00:51,  1.79s/it]"
     ]
    },
    {
     "name": "stdout",
     "output_type": "stream",
     "text": [
      "Epoch 1/2\n",
      "89/89 [==============================] - 0s 517us/step - loss: 0.3609 - accuracy: 0.9887\n",
      "Epoch 2/2\n",
      "89/89 [==============================] - 0s 445us/step - loss: 0.3286 - accuracy: 1.0000\n",
      "44/44 [==============================] - 0s 314us/step\n",
      "3934/3934 [==============================] - 1s 262us/step\n"
     ]
    },
    {
     "name": "stderr",
     "output_type": "stream",
     "text": [
      " 70%|██████▉   | 64/92 [01:57<00:50,  1.79s/it]"
     ]
    },
    {
     "name": "stdout",
     "output_type": "stream",
     "text": [
      "Epoch 1/2\n",
      "78/78 [==============================] - 0s 542us/step - loss: 0.2759 - accuracy: 0.9899\n",
      "Epoch 2/2\n",
      "78/78 [==============================] - 0s 479us/step - loss: 0.2575 - accuracy: 1.0000\n",
      "47/47 [==============================] - 0s 317us/step\n",
      "3932/3932 [==============================] - 1s 260us/step\n"
     ]
    },
    {
     "name": "stderr",
     "output_type": "stream",
     "text": [
      " 71%|███████   | 65/92 [01:59<00:48,  1.79s/it]"
     ]
    },
    {
     "name": "stdout",
     "output_type": "stream",
     "text": [
      "Epoch 1/2\n",
      "69/69 [==============================] - 0s 546us/step - loss: 0.3980 - accuracy: 0.9423\n",
      "Epoch 2/2\n",
      "69/69 [==============================] - 0s 473us/step - loss: 0.3526 - accuracy: 1.0000\n",
      "52/52 [==============================] - 0s 309us/step\n",
      "3926/3926 [==============================] - 1s 259us/step\n"
     ]
    },
    {
     "name": "stderr",
     "output_type": "stream",
     "text": [
      " 72%|███████▏  | 66/92 [02:01<00:46,  1.78s/it]"
     ]
    },
    {
     "name": "stdout",
     "output_type": "stream",
     "text": [
      "Epoch 1/2\n",
      "68/68 [==============================] - 0s 514us/step - loss: 0.3179 - accuracy: 0.9778\n",
      "Epoch 2/2\n",
      "68/68 [==============================] - 0s 466us/step - loss: 0.2877 - accuracy: 1.0000\n",
      "55/55 [==============================] - 0s 313us/step\n",
      "3923/3923 [==============================] - 1s 258us/step\n"
     ]
    },
    {
     "name": "stderr",
     "output_type": "stream",
     "text": [
      " 73%|███████▎  | 67/92 [02:03<00:44,  1.77s/it]"
     ]
    },
    {
     "name": "stdout",
     "output_type": "stream",
     "text": [
      "Epoch 1/2\n",
      "75/75 [==============================] - 0s 502us/step - loss: 0.4066 - accuracy: 0.9928\n",
      "Epoch 2/2\n",
      "75/75 [==============================] - 0s 449us/step - loss: 0.3795 - accuracy: 1.0000\n",
      "38/38 [==============================] - 0s 307us/step\n",
      "3940/3940 [==============================] - 1s 261us/step\n"
     ]
    },
    {
     "name": "stderr",
     "output_type": "stream",
     "text": [
      " 74%|███████▍  | 68/92 [02:04<00:42,  1.77s/it]"
     ]
    },
    {
     "name": "stdout",
     "output_type": "stream",
     "text": [
      "Epoch 1/2\n",
      "78/78 [==============================] - 0s 510us/step - loss: 0.3406 - accuracy: 0.8973\n",
      "Epoch 2/2\n",
      "78/78 [==============================] - 0s 446us/step - loss: 0.2810 - accuracy: 1.0000\n",
      "41/41 [==============================] - 0s 314us/step\n",
      "3937/3937 [==============================] - 1s 257us/step\n"
     ]
    },
    {
     "name": "stderr",
     "output_type": "stream",
     "text": [
      " 75%|███████▌  | 69/92 [02:06<00:40,  1.76s/it]"
     ]
    },
    {
     "name": "stdout",
     "output_type": "stream",
     "text": [
      "Epoch 1/2\n",
      "71/71 [==============================] - 0s 530us/step - loss: 0.3768 - accuracy: 0.9769\n",
      "Epoch 2/2\n",
      "71/71 [==============================] - 0s 468us/step - loss: 0.3344 - accuracy: 1.0000\n",
      "31/31 [==============================] - 0s 341us/step\n",
      "3947/3947 [==============================] - 1s 258us/step\n"
     ]
    },
    {
     "name": "stderr",
     "output_type": "stream",
     "text": [
      " 76%|███████▌  | 70/92 [02:08<00:38,  1.76s/it]"
     ]
    },
    {
     "name": "stdout",
     "output_type": "stream",
     "text": [
      "Epoch 1/2\n",
      "118/118 [==============================] - 0s 484us/step - loss: 0.4688 - accuracy: 0.9947\n",
      "Epoch 2/2\n",
      "118/118 [==============================] - 0s 425us/step - loss: 0.4204 - accuracy: 1.0000\n",
      "48/48 [==============================] - 0s 315us/step\n",
      "3932/3932 [==============================] - 1s 258us/step\n"
     ]
    },
    {
     "name": "stderr",
     "output_type": "stream",
     "text": [
      " 77%|███████▋  | 71/92 [02:10<00:37,  1.77s/it]"
     ]
    },
    {
     "name": "stdout",
     "output_type": "stream",
     "text": [
      "Epoch 1/2\n",
      "119/119 [==============================] - 0s 496us/step - loss: 0.2311 - accuracy: 0.9491\n",
      "Epoch 2/2\n",
      "119/119 [==============================] - 0s 424us/step - loss: 0.1947 - accuracy: 1.0000\n",
      "50/50 [==============================] - 0s 299us/step\n",
      "3929/3929 [==============================] - 1s 258us/step\n"
     ]
    },
    {
     "name": "stderr",
     "output_type": "stream",
     "text": [
      " 78%|███████▊  | 72/92 [02:11<00:35,  1.78s/it]"
     ]
    },
    {
     "name": "stdout",
     "output_type": "stream",
     "text": [
      "Epoch 1/2\n",
      "69/69 [==============================] - 0s 524us/step - loss: 0.3121 - accuracy: 0.9936\n",
      "Epoch 2/2\n",
      "69/69 [==============================] - 0s 472us/step - loss: 0.2923 - accuracy: 1.0000\n",
      "45/45 [==============================] - 0s 302us/step\n",
      "3934/3934 [==============================] - 1s 259us/step\n"
     ]
    },
    {
     "name": "stderr",
     "output_type": "stream",
     "text": [
      " 79%|███████▉  | 73/92 [02:13<00:33,  1.77s/it]"
     ]
    },
    {
     "name": "stdout",
     "output_type": "stream",
     "text": [
      "Epoch 1/2\n",
      "85/85 [==============================] - 0s 492us/step - loss: 0.4451 - accuracy: 0.9771\n",
      "Epoch 2/2\n",
      "85/85 [==============================] - 0s 434us/step - loss: 0.4009 - accuracy: 1.0000\n",
      "44/44 [==============================] - 0s 314us/step\n",
      "3935/3935 [==============================] - 1s 257us/step\n"
     ]
    },
    {
     "name": "stderr",
     "output_type": "stream",
     "text": [
      " 80%|████████  | 74/92 [02:15<00:31,  1.76s/it]"
     ]
    },
    {
     "name": "stdout",
     "output_type": "stream",
     "text": [
      "Epoch 1/2\n",
      "113/113 [==============================] - 0s 493us/step - loss: 0.3676 - accuracy: 0.9652\n",
      "Epoch 2/2\n",
      "113/113 [==============================] - 0s 425us/step - loss: 0.3224 - accuracy: 1.0000\n",
      "60/60 [==============================] - 0s 295us/step\n",
      "3919/3919 [==============================] - 1s 273us/step\n"
     ]
    },
    {
     "name": "stderr",
     "output_type": "stream",
     "text": [
      " 82%|████████▏ | 75/92 [02:17<00:30,  1.80s/it]"
     ]
    },
    {
     "name": "stdout",
     "output_type": "stream",
     "text": [
      "Epoch 1/2\n",
      "89/89 [==============================] - 0s 520us/step - loss: 0.2332 - accuracy: 0.9912\n",
      "Epoch 2/2\n",
      "89/89 [==============================] - 0s 483us/step - loss: 0.2134 - accuracy: 1.0000\n",
      "62/62 [==============================] - 0s 362us/step\n",
      "3918/3918 [==============================] - 1s 276us/step\n"
     ]
    },
    {
     "name": "stderr",
     "output_type": "stream",
     "text": [
      " 83%|████████▎ | 76/92 [02:19<00:29,  1.82s/it]"
     ]
    },
    {
     "name": "stdout",
     "output_type": "stream",
     "text": [
      "Epoch 1/2\n",
      "89/89 [==============================] - 0s 547us/step - loss: 0.4546 - accuracy: 0.9863\n",
      "Epoch 2/2\n",
      "89/89 [==============================] - 0s 479us/step - loss: 0.4170 - accuracy: 1.0000\n",
      "27/27 [==============================] - 0s 332us/step\n",
      "3951/3951 [==============================] - 1s 272us/step\n"
     ]
    },
    {
     "name": "stderr",
     "output_type": "stream",
     "text": [
      " 84%|████████▎ | 77/92 [02:20<00:27,  1.82s/it]"
     ]
    },
    {
     "name": "stdout",
     "output_type": "stream",
     "text": [
      "Epoch 1/2\n",
      "121/121 [==============================] - 0s 504us/step - loss: 0.3738 - accuracy: 0.9441\n",
      "Epoch 2/2\n",
      "121/121 [==============================] - 0s 442us/step - loss: 0.3140 - accuracy: 1.0000\n",
      "59/59 [==============================] - 0s 293us/step\n",
      "3921/3921 [==============================] - 1s 261us/step\n"
     ]
    },
    {
     "name": "stderr",
     "output_type": "stream",
     "text": [
      " 85%|████████▍ | 78/92 [02:22<00:25,  1.82s/it]"
     ]
    },
    {
     "name": "stdout",
     "output_type": "stream",
     "text": [
      "Epoch 1/2\n",
      "100/100 [==============================] - 0s 518us/step - loss: 0.2662 - accuracy: 0.9809\n",
      "Epoch 2/2\n",
      "100/100 [==============================] - 0s 448us/step - loss: 0.2368 - accuracy: 1.0000\n",
      "58/58 [==============================] - 0s 299us/step\n",
      "3922/3922 [==============================] - 1s 261us/step\n"
     ]
    },
    {
     "name": "stderr",
     "output_type": "stream",
     "text": [
      " 86%|████████▌ | 79/92 [02:24<00:23,  1.81s/it]"
     ]
    },
    {
     "name": "stdout",
     "output_type": "stream",
     "text": [
      "Epoch 1/2\n",
      "69/69 [==============================] - 0s 509us/step - loss: 0.3576 - accuracy: 0.8802\n",
      "Epoch 2/2\n",
      "69/69 [==============================] - 0s 443us/step - loss: 0.2930 - accuracy: 1.0000\n",
      "37/37 [==============================] - 0s 329us/step\n",
      "3941/3941 [==============================] - 1s 271us/step\n"
     ]
    },
    {
     "name": "stderr",
     "output_type": "stream",
     "text": [
      " 87%|████████▋ | 80/92 [02:26<00:21,  1.80s/it]"
     ]
    },
    {
     "name": "stdout",
     "output_type": "stream",
     "text": [
      "Epoch 1/2\n",
      "56/56 [==============================] - 0s 562us/step - loss: 0.3247 - accuracy: 0.9675\n",
      "Epoch 2/2\n",
      "56/56 [==============================] - 0s 464us/step - loss: 0.2922 - accuracy: 1.0000\n",
      "28/28 [==============================] - 0s 366us/step\n",
      "3950/3950 [==============================] - 1s 261us/step\n"
     ]
    },
    {
     "name": "stderr",
     "output_type": "stream",
     "text": [
      " 88%|████████▊ | 81/92 [02:28<00:19,  1.79s/it]"
     ]
    },
    {
     "name": "stdout",
     "output_type": "stream",
     "text": [
      "Epoch 1/2\n",
      "78/78 [==============================] - 0s 519us/step - loss: 0.4624 - accuracy: 0.9903\n",
      "Epoch 2/2\n",
      "78/78 [==============================] - 0s 462us/step - loss: 0.4329 - accuracy: 1.0000\n",
      "25/25 [==============================] - 0s 343us/step\n",
      "3953/3953 [==============================] - 1s 263us/step\n"
     ]
    },
    {
     "name": "stderr",
     "output_type": "stream",
     "text": [
      " 89%|████████▉ | 82/92 [02:29<00:18,  1.80s/it]"
     ]
    },
    {
     "name": "stdout",
     "output_type": "stream",
     "text": [
      "Epoch 1/2\n",
      "113/113 [==============================] - 0s 514us/step - loss: 0.3825 - accuracy: 0.9436\n",
      "Epoch 2/2\n",
      "113/113 [==============================] - 0s 429us/step - loss: 0.3290 - accuracy: 1.0000\n",
      "56/56 [==============================] - 0s 303us/step\n",
      "3922/3922 [==============================] - 1s 261us/step\n"
     ]
    },
    {
     "name": "stderr",
     "output_type": "stream",
     "text": [
      " 90%|█████████ | 83/92 [02:31<00:16,  1.81s/it]"
     ]
    },
    {
     "name": "stdout",
     "output_type": "stream",
     "text": [
      "Epoch 1/2\n",
      "89/89 [==============================] - 0s 513us/step - loss: 0.2267 - accuracy: 0.9795\n",
      "Epoch 2/2\n",
      "89/89 [==============================] - 0s 443us/step - loss: 0.2044 - accuracy: 1.0000\n",
      "43/43 [==============================] - 0s 321us/step\n",
      "3935/3935 [==============================] - 1s 269us/step\n"
     ]
    },
    {
     "name": "stderr",
     "output_type": "stream",
     "text": [
      " 91%|█████████▏| 84/92 [02:33<00:14,  1.81s/it]"
     ]
    },
    {
     "name": "stdout",
     "output_type": "stream",
     "text": [
      "Epoch 1/2\n",
      "67/67 [==============================] - 0s 550us/step - loss: 0.4067 - accuracy: 0.9778\n",
      "Epoch 2/2\n",
      "67/67 [==============================] - 0s 493us/step - loss: 0.3659 - accuracy: 1.0000\n",
      "22/22 [==============================] - 0s 370us/step\n",
      "3956/3956 [==============================] - 1s 267us/step\n"
     ]
    },
    {
     "name": "stderr",
     "output_type": "stream",
     "text": [
      " 92%|█████████▏| 85/92 [02:36<00:14,  2.04s/it]"
     ]
    },
    {
     "name": "stdout",
     "output_type": "stream",
     "text": [
      "Epoch 1/2\n",
      "94/94 [==============================] - 0s 518us/step - loss: 0.4097 - accuracy: 0.9870\n",
      "Epoch 2/2\n",
      "94/94 [==============================] - 0s 448us/step - loss: 0.3746 - accuracy: 1.0000\n",
      "25/25 [==============================] - 0s 357us/step\n",
      "3953/3953 [==============================] - 1s 261us/step\n"
     ]
    },
    {
     "name": "stderr",
     "output_type": "stream",
     "text": [
      " 93%|█████████▎| 86/92 [02:37<00:11,  1.97s/it]"
     ]
    },
    {
     "name": "stdout",
     "output_type": "stream",
     "text": [
      "Epoch 1/2\n",
      "112/112 [==============================] - 0s 513us/step - loss: 0.3477 - accuracy: 0.9724\n",
      "Epoch 2/2\n",
      "112/112 [==============================] - 0s 444us/step - loss: 0.3074 - accuracy: 1.0000\n",
      "45/45 [==============================] - 0s 319us/step\n",
      "3934/3934 [==============================] - 1s 263us/step\n"
     ]
    },
    {
     "name": "stderr",
     "output_type": "stream",
     "text": [
      " 95%|█████████▍| 87/92 [02:39<00:09,  1.92s/it]"
     ]
    },
    {
     "name": "stdout",
     "output_type": "stream",
     "text": [
      "Epoch 1/2\n",
      "92/92 [==============================] - 0s 519us/step - loss: 0.2644 - accuracy: 0.9945\n",
      "Epoch 2/2\n",
      "92/92 [==============================] - 0s 450us/step - loss: 0.2459 - accuracy: 1.0000\n",
      "99/99 [==============================] - 0s 337us/step\n",
      "3881/3881 [==============================] - 1s 264us/step\n"
     ]
    },
    {
     "name": "stderr",
     "output_type": "stream",
     "text": [
      " 96%|█████████▌| 88/92 [02:41<00:07,  1.89s/it]"
     ]
    },
    {
     "name": "stdout",
     "output_type": "stream",
     "text": [
      "Epoch 1/2\n",
      "86/86 [==============================] - 0s 510us/step - loss: 0.3948 - accuracy: 0.9923\n",
      "Epoch 2/2\n",
      "86/86 [==============================] - 0s 456us/step - loss: 0.3662 - accuracy: 1.0000\n",
      "38/38 [==============================] - 0s 308us/step\n",
      "3940/3940 [==============================] - 1s 259us/step\n"
     ]
    },
    {
     "name": "stderr",
     "output_type": "stream",
     "text": [
      " 97%|█████████▋| 89/92 [02:43<00:05,  1.86s/it]"
     ]
    },
    {
     "name": "stdout",
     "output_type": "stream",
     "text": [
      "Epoch 1/2\n",
      "97/97 [==============================] - 0s 523us/step - loss: 0.3369 - accuracy: 0.9887\n",
      "Epoch 2/2\n",
      "97/97 [==============================] - 0s 443us/step - loss: 0.3064 - accuracy: 1.0000\n",
      "51/51 [==============================] - 0s 313us/step\n",
      "3928/3928 [==============================] - 1s 260us/step\n"
     ]
    },
    {
     "name": "stderr",
     "output_type": "stream",
     "text": [
      " 98%|█████████▊| 90/92 [02:45<00:03,  1.84s/it]"
     ]
    },
    {
     "name": "stdout",
     "output_type": "stream",
     "text": [
      "Epoch 1/2\n",
      "90/90 [==============================] - 0s 546us/step - loss: 0.3452 - accuracy: 0.9679\n",
      "Epoch 2/2\n",
      "90/90 [==============================] - 0s 488us/step - loss: 0.2951 - accuracy: 1.0000\n",
      "40/40 [==============================] - 0s 334us/step\n",
      "3939/3939 [==============================] - 1s 278us/step\n"
     ]
    },
    {
     "name": "stderr",
     "output_type": "stream",
     "text": [
      " 99%|█████████▉| 91/92 [02:47<00:01,  1.84s/it]\n"
     ]
    },
    {
     "ename": "IndexError",
     "evalue": "list index out of range",
     "output_type": "error",
     "traceback": [
      "\u001B[0;31m---------------------------------------------------------------------------\u001B[0m",
      "\u001B[0;31mIndexError\u001B[0m                                Traceback (most recent call last)",
      "Cell \u001B[0;32mIn[33], line 67\u001B[0m\n\u001B[1;32m     64\u001B[0m     \u001B[38;5;28mprint\u001B[39m(\u001B[38;5;124m'\u001B[39m\u001B[38;5;124mDone\u001B[39m\u001B[38;5;124m'\u001B[39m)\n\u001B[1;32m     65\u001B[0m     \u001B[38;5;28;01mreturn\u001B[39;00m window_eers\n\u001B[0;32m---> 67\u001B[0m window_eers \u001B[38;5;241m=\u001B[39m \u001B[43mtest_eer\u001B[49m\u001B[43m(\u001B[49m\u001B[38;5;124;43m'\u001B[39;49m\u001B[38;5;124;43mw\u001B[39;49m\u001B[38;5;124;43m'\u001B[39;49m\u001B[43m,\u001B[49m\u001B[43m \u001B[49m\u001B[38;5;124;43m'\u001B[39;49m\u001B[38;5;124;43mw\u001B[39;49m\u001B[38;5;124;43m'\u001B[39;49m\u001B[43m)\u001B[49m\n",
      "Cell \u001B[0;32mIn[33], line 25\u001B[0m, in \u001B[0;36mtest_eer\u001B[0;34m(train_key, test_key)\u001B[0m\n\u001B[1;32m     22\u001B[0m test_hmog_vector_positive_np \u001B[38;5;241m=\u001B[39m test_hmog_vector_positive[hmog_features]\u001B[38;5;241m.\u001B[39mto_numpy()\n\u001B[1;32m     24\u001B[0m another_subject_i \u001B[38;5;241m=\u001B[39m i \u001B[38;5;241m+\u001B[39m \u001B[38;5;241m1\u001B[39m \u001B[38;5;28;01mif\u001B[39;00m i \u001B[38;5;241m<\u001B[39m \u001B[38;5;28mlen\u001B[39m(subjects_list) \u001B[38;5;28;01melse\u001B[39;00m \u001B[38;5;241m0\u001B[39m\n\u001B[0;32m---> 25\u001B[0m another_subject \u001B[38;5;241m=\u001B[39m \u001B[43msubjects_list\u001B[49m\u001B[43m[\u001B[49m\u001B[43manother_subject_i\u001B[49m\u001B[43m]\u001B[49m\n\u001B[1;32m     27\u001B[0m train_hmog_vector_negative \u001B[38;5;241m=\u001B[39m df[( (df[\u001B[38;5;124m'\u001B[39m\u001B[38;5;124muser_id\u001B[39m\u001B[38;5;124m'\u001B[39m] \u001B[38;5;241m==\u001B[39m another_subject) \u001B[38;5;241m&\u001B[39m (df[\u001B[38;5;124m'\u001B[39m\u001B[38;5;124msession_type\u001B[39m\u001B[38;5;124m'\u001B[39m] \u001B[38;5;241m==\u001B[39m session_key_to_int[train_key]) \u001B[38;5;241m&\u001B[39m ( (df[\u001B[38;5;124m'\u001B[39m\u001B[38;5;124msession_index\u001B[39m\u001B[38;5;124m'\u001B[39m] \u001B[38;5;241m==\u001B[39m \u001B[38;5;241m0\u001B[39m) \u001B[38;5;241m|\u001B[39m (df[\u001B[38;5;124m'\u001B[39m\u001B[38;5;124msession_index\u001B[39m\u001B[38;5;124m'\u001B[39m] \u001B[38;5;241m==\u001B[39m \u001B[38;5;241m1\u001B[39m) ) )]\n\u001B[1;32m     29\u001B[0m data \u001B[38;5;241m=\u001B[39m pd\u001B[38;5;241m.\u001B[39mconcat([train_hmog_vector_positive, train_hmog_vector_negative], ignore_index\u001B[38;5;241m=\u001B[39m\u001B[38;5;28;01mTrue\u001B[39;00m)\n",
      "\u001B[0;31mIndexError\u001B[0m: list index out of range"
     ]
    }
   ],
   "execution_count": 33
  },
  {
   "metadata": {
    "ExecuteTime": {
     "end_time": "2024-05-10T18:39:44.525570Z",
     "start_time": "2024-05-10T18:39:44.508274Z"
    }
   },
   "cell_type": "code",
   "source": "print(eer_list)",
   "id": "63ace2c70d567996",
   "outputs": [
    {
     "ename": "NameError",
     "evalue": "name 'eer_list' is not defined",
     "output_type": "error",
     "traceback": [
      "\u001B[0;31m---------------------------------------------------------------------------\u001B[0m",
      "\u001B[0;31mNameError\u001B[0m                                 Traceback (most recent call last)",
      "Cell \u001B[0;32mIn[22], line 1\u001B[0m\n\u001B[0;32m----> 1\u001B[0m \u001B[38;5;28mprint\u001B[39m(\u001B[43meer_list\u001B[49m)\n",
      "\u001B[0;31mNameError\u001B[0m: name 'eer_list' is not defined"
     ]
    }
   ],
   "execution_count": 22
  },
  {
   "metadata": {
    "ExecuteTime": {
     "end_time": "2024-05-09T20:33:09.329928Z",
     "start_time": "2024-05-09T20:33:09.315762Z"
    }
   },
   "cell_type": "code",
   "source": "",
   "id": "475a86f2ecb77c04",
   "outputs": [
    {
     "ename": "NameError",
     "evalue": "name 'eer_list' is not defined",
     "output_type": "error",
     "traceback": [
      "\u001B[0;31m---------------------------------------------------------------------------\u001B[0m",
      "\u001B[0;31mNameError\u001B[0m                                 Traceback (most recent call last)",
      "Cell \u001B[0;32mIn[85], line 1\u001B[0m\n\u001B[0;32m----> 1\u001B[0m \u001B[38;5;28mprint\u001B[39m(\u001B[43meer_list\u001B[49m)\n",
      "\u001B[0;31mNameError\u001B[0m: name 'eer_list' is not defined"
     ]
    }
   ],
   "execution_count": 85
  }
 ],
 "metadata": {
  "kernelspec": {
   "display_name": "Python 3",
   "language": "python",
   "name": "python3"
  },
  "language_info": {
   "codemirror_mode": {
    "name": "ipython",
    "version": 2
   },
   "file_extension": ".py",
   "mimetype": "text/x-python",
   "name": "python",
   "nbconvert_exporter": "python",
   "pygments_lexer": "ipython2",
   "version": "2.7.6"
  }
 },
 "nbformat": 4,
 "nbformat_minor": 5
}
