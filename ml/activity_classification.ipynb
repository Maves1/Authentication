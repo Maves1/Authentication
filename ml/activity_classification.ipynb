{
 "cells": [
  {
   "cell_type": "code",
   "metadata": {
    "ExecuteTime": {
     "end_time": "2024-05-12T16:16:02.959558Z",
     "start_time": "2024-05-12T16:16:00.715635Z"
    }
   },
   "source": [
    "import os\n",
    "import numpy as np\n",
    "\n",
    "import torch\n",
    "import torch.nn as nn\n",
    "import torch.nn.functional as F\n",
    "from torch.utils.data import Dataset, DataLoader\n",
    "\n",
    "import torchvision.transforms as transforms\n",
    "\n",
    "from hmog import HmogHelper\n",
    "from tqdm import tqdm\n",
    "\n",
    "dataset_path = 'preprocessed_data/'"
   ],
   "outputs": [],
   "execution_count": 1
  },
  {
   "cell_type": "code",
   "metadata": {
    "ExecuteTime": {
     "end_time": "2024-05-12T16:16:02.962413Z",
     "start_time": "2024-05-12T16:16:02.960484Z"
    }
   },
   "source": "WINDOW_SIZES = [20000, 40000, 60000, 80000, 100000, 120000, 140000]",
   "outputs": [],
   "execution_count": 2
  },
  {
   "cell_type": "code",
   "metadata": {
    "ExecuteTime": {
     "end_time": "2024-05-12T16:16:03.589559Z",
     "start_time": "2024-05-12T16:16:03.585263Z"
    }
   },
   "source": [
    "class SimpleNeuralNet(nn.Module):\n",
    "    def __init__(self) -> None:\n",
    "        super(SimpleNeuralNet, self).__init__()\n",
    "\n",
    "        input_shape = 64\n",
    "\n",
    "        self.fc1 = nn.Linear(input_shape, 32)\n",
    "        self.relu1 = nn.ReLU()\n",
    "        self.fc2 = nn.Linear(in_features=32, out_features=16)\n",
    "        self.relu2 = nn.ReLU()\n",
    "        self.fc3 = nn.Linear(in_features=16, out_features=1)\n",
    "        self.out = nn.Sigmoid()\n",
    "\n",
    "    def forward(self, x):\n",
    "        x = self.fc1(x)\n",
    "        x = self.relu1(x)\n",
    "        x = self.fc2(x)\n",
    "        x = self.relu2(x)\n",
    "        x = self.fc3(x)\n",
    "        x = self.out(x)\n",
    "\n",
    "        return x"
   ],
   "outputs": [],
   "execution_count": 3
  },
  {
   "metadata": {
    "ExecuteTime": {
     "end_time": "2024-05-12T16:17:13.212974Z",
     "start_time": "2024-05-12T16:17:13.208620Z"
    }
   },
   "cell_type": "code",
   "source": [
    "class MyDataset(Dataset):\n",
    "    def __init__(self, X, y, transform=None):\n",
    "        # self.dataset = np.load(file_path)\n",
    "        self.X = X\n",
    "        self.y = y\n",
    "        self.transform = transform\n",
    "        \n",
    "        # self.X = self.dataset[:, 1:-1]\n",
    "        # self.y = self.dataset[:, -1]\n",
    "    \n",
    "    def __len__(self):\n",
    "        return self.X.shape[0]\n",
    "    \n",
    "    def __getitem__(self, idx):\n",
    "        # if self.transform is not None:\n",
    "        #     curr_item_x = self.transform(self.X[idx])\n",
    "        #     curr_item_y = self.transform(self.y[idx])\n",
    "        #     \n",
    "        #     return curr_item_x, curr_item_y\n",
    "    \n",
    "        return self.X[idx], self.y[idx]"
   ],
   "outputs": [],
   "execution_count": 5
  },
  {
   "metadata": {
    "ExecuteTime": {
     "end_time": "2024-05-12T16:18:28.430130Z",
     "start_time": "2024-05-12T16:18:27.848839Z"
    }
   },
   "cell_type": "code",
   "source": [
    "from sklearn.model_selection import train_test_split\n",
    "from sklearn.preprocessing import StandardScaler\n",
    "\n",
    "whole_dataset = np.load(os.path.join(dataset_path, 'hmog_vectors_with_labels.npy'))\n",
    "whole_dataset = whole_dataset.astype(np.float32)\n",
    "\n",
    "scaler = StandardScaler()\n",
    "\n",
    "X, y = whole_dataset[:, 1:-1], whole_dataset[:, -1]\n",
    "X = scaler.fit_transform(X)\n",
    "\n",
    "X_train, X_test, y_train, y_test = train_test_split(X, y, test_size=0.2, random_state=42)\n",
    "X_train, X_val, y_train, y_val = train_test_split(X_train, y_train, test_size=0.2, random_state=42)\n",
    "\n",
    "# transform = transforms.Compose([transforms.ToTensor()])\n",
    "\n",
    "train_dataset = MyDataset(X_train, y_train, transform=None)\n",
    "val_dataset = MyDataset(X_val, y_val, transform=None)\n",
    "test_dataset = MyDataset(X_test, y_test, transform=None)\n",
    "\n",
    "print(len(train_dataset), len(val_dataset), len(test_dataset))"
   ],
   "outputs": [
    {
     "name": "stdout",
     "output_type": "stream",
     "text": [
      "333997 83500 104375\n"
     ]
    }
   ],
   "execution_count": 12
  },
  {
   "metadata": {
    "ExecuteTime": {
     "end_time": "2024-05-12T16:18:29.993343Z",
     "start_time": "2024-05-12T16:18:29.988638Z"
    }
   },
   "cell_type": "code",
   "source": [
    "def train_one_epoch(model, dataloader, loss_fn, device):\n",
    "    running_loss = 0.\n",
    "    last_loss = 0.\n",
    "    \n",
    "    model.train()\n",
    "\n",
    "    for i, data in enumerate(dataloader):\n",
    "        inputs, labels = data\n",
    "        inputs, labels = inputs.to(device, dtype=torch.float32), labels.to(device, dtype=torch.float32)\n",
    "\n",
    "        optimizer.zero_grad()\n",
    "\n",
    "        outputs = model(inputs).reshape(-1)\n",
    "\n",
    "        # Compute the loss and its gradients\n",
    "        loss = loss_fn(outputs, labels)\n",
    "        loss.backward()\n",
    "\n",
    "        # Adjust learning weights\n",
    "        optimizer.step()\n",
    "\n",
    "        # Gather data and report\n",
    "        running_loss += loss.item()\n",
    "        if i % 1000 == 999:\n",
    "            last_loss = running_loss / 1000 # loss per batch\n",
    "            print('  batch {} loss: {}'.format(i + 1, last_loss))\n",
    "            running_loss = 0.\n",
    "\n",
    "    return last_loss"
   ],
   "outputs": [],
   "execution_count": 13
  },
  {
   "metadata": {
    "ExecuteTime": {
     "end_time": "2024-05-12T16:18:32.018064Z",
     "start_time": "2024-05-12T16:18:32.012806Z"
    }
   },
   "cell_type": "code",
   "source": [
    "model = SimpleNeuralNet()\n",
    "device = torch.device('cuda' if torch.cuda.is_available() else 'cpu')\n",
    "model.to(device)\n",
    "criterion = nn.BCELoss()\n",
    "optimizer = torch.optim.AdamW(model.parameters(), lr=0.001, weight_decay=1e-2)"
   ],
   "outputs": [],
   "execution_count": 14
  },
  {
   "metadata": {
    "ExecuteTime": {
     "end_time": "2024-05-12T16:18:32.967395Z",
     "start_time": "2024-05-12T16:18:32.961536Z"
    }
   },
   "cell_type": "code",
   "source": [
    "train_dataloader = DataLoader(train_dataset, batch_size=64, shuffle=True)\n",
    "val_dataloader = DataLoader(val_dataset, batch_size=64, shuffle=True)\n",
    "test_dataloader = DataLoader(test_dataset, batch_size=64, shuffle=True)"
   ],
   "outputs": [],
   "execution_count": 15
  },
  {
   "metadata": {
    "ExecuteTime": {
     "end_time": "2024-05-12T16:18:34.386362Z",
     "start_time": "2024-05-12T16:18:34.383931Z"
    }
   },
   "cell_type": "code",
   "source": [
    "EPOCHS = 50\n",
    "\n",
    "vlosses = []\n",
    "tlosses = []"
   ],
   "outputs": [],
   "execution_count": 16
  },
  {
   "metadata": {
    "ExecuteTime": {
     "end_time": "2024-05-12T16:20:39.165054Z",
     "start_time": "2024-05-12T16:18:35.948003Z"
    }
   },
   "cell_type": "code",
   "source": [
    "for epoch in tqdm(range(EPOCHS)):\n",
    "    avg_loss = train_one_epoch(model, train_dataloader, criterion, device)\n",
    "    tlosses.append(avg_loss)\n",
    "\n",
    "    running_vloss = 0.0\n",
    "\n",
    "    model.eval()\n",
    "\n",
    "    # Disable gradient computation and reduce memory consumption.\n",
    "    with torch.no_grad():\n",
    "        for i, vdata in enumerate(val_dataloader):\n",
    "            vinputs, vlabels = vdata\n",
    "            vinputs, vlabels = vinputs.to(device, dtype=torch.float32), vlabels.to(device, dtype=torch.float32)\n",
    "            \n",
    "            voutputs = model(vinputs).reshape(-1)\n",
    "            vloss = criterion(voutputs, vlabels)\n",
    "            running_vloss += vloss\n",
    "\n",
    "    avg_vloss = running_vloss / (i + 1)\n",
    "    vlosses.append(avg_vloss)\n",
    "    print('LOSS train {} valid {}'.format(avg_loss, avg_vloss))"
   ],
   "outputs": [
    {
     "name": "stderr",
     "output_type": "stream",
     "text": [
      "  0%|          | 0/50 [00:00<?, ?it/s]"
     ]
    },
    {
     "name": "stdout",
     "output_type": "stream",
     "text": [
      "  batch 1000 loss: 0.35093071483075616\n",
      "  batch 2000 loss: 0.2621492743045092\n",
      "  batch 3000 loss: 0.23309322221577167\n",
      "  batch 4000 loss: 0.23138762754946948\n",
      "  batch 5000 loss: 0.22354943090304732\n"
     ]
    },
    {
     "name": "stderr",
     "output_type": "stream",
     "text": [
      "  2%|▏         | 1/50 [00:02<02:04,  2.53s/it]"
     ]
    },
    {
     "name": "stdout",
     "output_type": "stream",
     "text": [
      "LOSS train 0.22354943090304732 valid 0.21721602976322174\n",
      "  batch 1000 loss: 0.21007226038724183\n",
      "  batch 2000 loss: 0.2132428049221635\n",
      "  batch 3000 loss: 0.21252148574590682\n",
      "  batch 4000 loss: 0.20589394792169333\n",
      "  batch 5000 loss: 0.20649509567022323\n"
     ]
    },
    {
     "name": "stderr",
     "output_type": "stream",
     "text": [
      "  4%|▍         | 2/50 [00:05<02:00,  2.52s/it]"
     ]
    },
    {
     "name": "stdout",
     "output_type": "stream",
     "text": [
      "LOSS train 0.20649509567022323 valid 0.2032816857099533\n",
      "  batch 1000 loss: 0.2075821570791304\n",
      "  batch 2000 loss: 0.19854251343384385\n",
      "  batch 3000 loss: 0.20232576383277773\n",
      "  batch 4000 loss: 0.20556514340639115\n",
      "  batch 5000 loss: 0.1994351653084159\n"
     ]
    },
    {
     "name": "stderr",
     "output_type": "stream",
     "text": [
      "  6%|▌         | 3/50 [00:07<01:57,  2.51s/it]"
     ]
    },
    {
     "name": "stdout",
     "output_type": "stream",
     "text": [
      "LOSS train 0.1994351653084159 valid 0.20044425129890442\n",
      "  batch 1000 loss: 0.19326941744238138\n",
      "  batch 2000 loss: 0.19449310257285835\n",
      "  batch 3000 loss: 0.1980221923664212\n",
      "  batch 4000 loss: 0.19671694488450886\n",
      "  batch 5000 loss: 0.1954161761254072\n"
     ]
    },
    {
     "name": "stderr",
     "output_type": "stream",
     "text": [
      "  8%|▊         | 4/50 [00:10<01:55,  2.50s/it]"
     ]
    },
    {
     "name": "stdout",
     "output_type": "stream",
     "text": [
      "LOSS train 0.1954161761254072 valid 0.19576138257980347\n",
      "  batch 1000 loss: 0.19243293141946197\n",
      "  batch 2000 loss: 0.19050916606932877\n",
      "  batch 3000 loss: 0.19334993246570228\n",
      "  batch 4000 loss: 0.19192960022762418\n",
      "  batch 5000 loss: 0.19026510667428373\n"
     ]
    },
    {
     "name": "stderr",
     "output_type": "stream",
     "text": [
      " 10%|█         | 5/50 [00:12<01:51,  2.48s/it]"
     ]
    },
    {
     "name": "stdout",
     "output_type": "stream",
     "text": [
      "LOSS train 0.19026510667428373 valid 0.19147072732448578\n",
      "  batch 1000 loss: 0.18902918572351338\n",
      "  batch 2000 loss: 0.18809711388126016\n",
      "  batch 3000 loss: 0.19287570720911026\n",
      "  batch 4000 loss: 0.19159074508026241\n",
      "  batch 5000 loss: 0.18928196819499135\n"
     ]
    },
    {
     "name": "stderr",
     "output_type": "stream",
     "text": [
      " 12%|█▏        | 6/50 [00:14<01:48,  2.46s/it]"
     ]
    },
    {
     "name": "stdout",
     "output_type": "stream",
     "text": [
      "LOSS train 0.18928196819499135 valid 0.1869448572397232\n",
      "  batch 1000 loss: 0.1852723897509277\n",
      "  batch 2000 loss: 0.1874197268858552\n",
      "  batch 3000 loss: 0.18843851149827243\n",
      "  batch 4000 loss: 0.18478238799795507\n",
      "  batch 5000 loss: 0.18607707979902624\n"
     ]
    },
    {
     "name": "stderr",
     "output_type": "stream",
     "text": [
      " 14%|█▍        | 7/50 [00:17<01:46,  2.47s/it]"
     ]
    },
    {
     "name": "stdout",
     "output_type": "stream",
     "text": [
      "LOSS train 0.18607707979902624 valid 0.18478168547153473\n",
      "  batch 1000 loss: 0.18197128646820784\n",
      "  batch 2000 loss: 0.18563985151425005\n",
      "  batch 3000 loss: 0.1823291972465813\n",
      "  batch 4000 loss: 0.18498887746781112\n",
      "  batch 5000 loss: 0.1869858956411481\n"
     ]
    },
    {
     "name": "stderr",
     "output_type": "stream",
     "text": [
      " 16%|█▌        | 8/50 [00:19<01:43,  2.47s/it]"
     ]
    },
    {
     "name": "stdout",
     "output_type": "stream",
     "text": [
      "LOSS train 0.1869858956411481 valid 0.1835128515958786\n",
      "  batch 1000 loss: 0.18097757988795637\n",
      "  batch 2000 loss: 0.18282843399420382\n",
      "  batch 3000 loss: 0.18160505099222063\n",
      "  batch 4000 loss: 0.18116054717823862\n",
      "  batch 5000 loss: 0.18218559558689595\n"
     ]
    },
    {
     "name": "stderr",
     "output_type": "stream",
     "text": [
      " 18%|█▊        | 9/50 [00:22<01:41,  2.46s/it]"
     ]
    },
    {
     "name": "stdout",
     "output_type": "stream",
     "text": [
      "LOSS train 0.18218559558689595 valid 0.18754781782627106\n",
      "  batch 1000 loss: 0.18064640610292554\n",
      "  batch 2000 loss: 0.18093996304646134\n",
      "  batch 3000 loss: 0.17991032534092666\n",
      "  batch 4000 loss: 0.1849480132199824\n",
      "  batch 5000 loss: 0.18264903097972274\n"
     ]
    },
    {
     "name": "stderr",
     "output_type": "stream",
     "text": [
      " 20%|██        | 10/50 [00:24<01:39,  2.48s/it]"
     ]
    },
    {
     "name": "stdout",
     "output_type": "stream",
     "text": [
      "LOSS train 0.18264903097972274 valid 0.18255339562892914\n",
      "  batch 1000 loss: 0.18216565779596566\n",
      "  batch 2000 loss: 0.18015992538630962\n",
      "  batch 3000 loss: 0.18326117952913046\n",
      "  batch 4000 loss: 0.17850268529355526\n",
      "  batch 5000 loss: 0.18356476400792598\n"
     ]
    },
    {
     "name": "stderr",
     "output_type": "stream",
     "text": [
      " 22%|██▏       | 11/50 [00:27<01:36,  2.47s/it]"
     ]
    },
    {
     "name": "stdout",
     "output_type": "stream",
     "text": [
      "LOSS train 0.18356476400792598 valid 0.18171384930610657\n",
      "  batch 1000 loss: 0.17858430431038141\n",
      "  batch 2000 loss: 0.1808349059149623\n",
      "  batch 3000 loss: 0.17970049782842398\n",
      "  batch 4000 loss: 0.18017843278497458\n",
      "  batch 5000 loss: 0.17978287163376808\n"
     ]
    },
    {
     "name": "stderr",
     "output_type": "stream",
     "text": [
      " 24%|██▍       | 12/50 [00:29<01:33,  2.46s/it]"
     ]
    },
    {
     "name": "stdout",
     "output_type": "stream",
     "text": [
      "LOSS train 0.17978287163376808 valid 0.18134135007858276\n",
      "  batch 1000 loss: 0.17716134721413254\n",
      "  batch 2000 loss: 0.17844184205681085\n",
      "  batch 3000 loss: 0.1800147708542645\n",
      "  batch 4000 loss: 0.17916747911274433\n",
      "  batch 5000 loss: 0.1809387044198811\n"
     ]
    },
    {
     "name": "stderr",
     "output_type": "stream",
     "text": [
      " 26%|██▌       | 13/50 [00:32<01:30,  2.45s/it]"
     ]
    },
    {
     "name": "stdout",
     "output_type": "stream",
     "text": [
      "LOSS train 0.1809387044198811 valid 0.1787773221731186\n",
      "  batch 1000 loss: 0.1745883348248899\n",
      "  batch 2000 loss: 0.17705246121436358\n",
      "  batch 3000 loss: 0.1814943326152861\n",
      "  batch 4000 loss: 0.17995233906432986\n",
      "  batch 5000 loss: 0.18087485115230084\n"
     ]
    },
    {
     "name": "stderr",
     "output_type": "stream",
     "text": [
      " 28%|██▊       | 14/50 [00:34<01:28,  2.46s/it]"
     ]
    },
    {
     "name": "stdout",
     "output_type": "stream",
     "text": [
      "LOSS train 0.18087485115230084 valid 0.18187470734119415\n",
      "  batch 1000 loss: 0.1766961138434708\n",
      "  batch 2000 loss: 0.17504200493171812\n",
      "  batch 3000 loss: 0.18110387521982194\n",
      "  batch 4000 loss: 0.1798424362950027\n",
      "  batch 5000 loss: 0.17903010699898003\n"
     ]
    },
    {
     "name": "stderr",
     "output_type": "stream",
     "text": [
      " 30%|███       | 15/50 [00:37<01:25,  2.45s/it]"
     ]
    },
    {
     "name": "stdout",
     "output_type": "stream",
     "text": [
      "LOSS train 0.17903010699898003 valid 0.17931081354618073\n",
      "  batch 1000 loss: 0.17839762178435922\n",
      "  batch 2000 loss: 0.17709864072874187\n",
      "  batch 3000 loss: 0.17653606604412198\n",
      "  batch 4000 loss: 0.1768282647393644\n",
      "  batch 5000 loss: 0.17977909160032868\n"
     ]
    },
    {
     "name": "stderr",
     "output_type": "stream",
     "text": [
      " 32%|███▏      | 16/50 [00:39<01:23,  2.45s/it]"
     ]
    },
    {
     "name": "stdout",
     "output_type": "stream",
     "text": [
      "LOSS train 0.17977909160032868 valid 0.17804555594921112\n",
      "  batch 1000 loss: 0.18206404688581823\n",
      "  batch 2000 loss: 0.17567014728859068\n",
      "  batch 3000 loss: 0.17807745373994113\n",
      "  batch 4000 loss: 0.17469071156159044\n",
      "  batch 5000 loss: 0.1764716368801892\n"
     ]
    },
    {
     "name": "stderr",
     "output_type": "stream",
     "text": [
      " 34%|███▍      | 17/50 [00:41<01:20,  2.45s/it]"
     ]
    },
    {
     "name": "stdout",
     "output_type": "stream",
     "text": [
      "LOSS train 0.1764716368801892 valid 0.17720212042331696\n",
      "  batch 1000 loss: 0.17274323373660444\n",
      "  batch 2000 loss: 0.18021288365498186\n",
      "  batch 3000 loss: 0.1739770965948701\n",
      "  batch 4000 loss: 0.18297773235291243\n",
      "  batch 5000 loss: 0.17920980475097895\n"
     ]
    },
    {
     "name": "stderr",
     "output_type": "stream",
     "text": [
      " 36%|███▌      | 18/50 [00:44<01:18,  2.45s/it]"
     ]
    },
    {
     "name": "stdout",
     "output_type": "stream",
     "text": [
      "LOSS train 0.17920980475097895 valid 0.18047384917736053\n",
      "  batch 1000 loss: 0.17803162160143257\n",
      "  batch 2000 loss: 0.17443773744255303\n",
      "  batch 3000 loss: 0.17502229491248728\n",
      "  batch 4000 loss: 0.1753958114311099\n",
      "  batch 5000 loss: 0.17459500158578156\n"
     ]
    },
    {
     "name": "stderr",
     "output_type": "stream",
     "text": [
      " 38%|███▊      | 19/50 [00:46<01:15,  2.45s/it]"
     ]
    },
    {
     "name": "stdout",
     "output_type": "stream",
     "text": [
      "LOSS train 0.17459500158578156 valid 0.17816492915153503\n",
      "  batch 1000 loss: 0.17317960214987396\n",
      "  batch 2000 loss: 0.17655605698749424\n",
      "  batch 3000 loss: 0.1776871254518628\n",
      "  batch 4000 loss: 0.17423074765503407\n",
      "  batch 5000 loss: 0.17405273048952222\n"
     ]
    },
    {
     "name": "stderr",
     "output_type": "stream",
     "text": [
      " 40%|████      | 20/50 [00:49<01:13,  2.44s/it]"
     ]
    },
    {
     "name": "stdout",
     "output_type": "stream",
     "text": [
      "LOSS train 0.17405273048952222 valid 0.17757156491279602\n",
      "  batch 1000 loss: 0.17097277810424566\n",
      "  batch 2000 loss: 0.17311178085580467\n",
      "  batch 3000 loss: 0.17693811782822014\n",
      "  batch 4000 loss: 0.1758127569705248\n",
      "  batch 5000 loss: 0.17895351023972034\n"
     ]
    },
    {
     "name": "stderr",
     "output_type": "stream",
     "text": [
      " 42%|████▏     | 21/50 [00:51<01:10,  2.44s/it]"
     ]
    },
    {
     "name": "stdout",
     "output_type": "stream",
     "text": [
      "LOSS train 0.17895351023972034 valid 0.17870840430259705\n",
      "  batch 1000 loss: 0.17415529041364788\n",
      "  batch 2000 loss: 0.17479495079070329\n",
      "  batch 3000 loss: 0.17423016291111706\n",
      "  batch 4000 loss: 0.17606066005304455\n",
      "  batch 5000 loss: 0.17789978816732765\n"
     ]
    },
    {
     "name": "stderr",
     "output_type": "stream",
     "text": [
      " 44%|████▍     | 22/50 [00:54<01:08,  2.45s/it]"
     ]
    },
    {
     "name": "stdout",
     "output_type": "stream",
     "text": [
      "LOSS train 0.17789978816732765 valid 0.1757228970527649\n",
      "  batch 1000 loss: 0.17447228079661728\n",
      "  batch 2000 loss: 0.1759102325439453\n",
      "  batch 3000 loss: 0.17527718334645032\n",
      "  batch 4000 loss: 0.17371777863800525\n",
      "  batch 5000 loss: 0.17449793380126358\n"
     ]
    },
    {
     "name": "stderr",
     "output_type": "stream",
     "text": [
      " 46%|████▌     | 23/50 [00:56<01:06,  2.46s/it]"
     ]
    },
    {
     "name": "stdout",
     "output_type": "stream",
     "text": [
      "LOSS train 0.17449793380126358 valid 0.1746957004070282\n",
      "  batch 1000 loss: 0.17237328193709253\n",
      "  batch 2000 loss: 0.17250346144288778\n",
      "  batch 3000 loss: 0.1731755299977958\n",
      "  batch 4000 loss: 0.17831164142489433\n",
      "  batch 5000 loss: 0.17387106968834995\n"
     ]
    },
    {
     "name": "stderr",
     "output_type": "stream",
     "text": [
      " 48%|████▊     | 24/50 [00:59<01:04,  2.47s/it]"
     ]
    },
    {
     "name": "stdout",
     "output_type": "stream",
     "text": [
      "LOSS train 0.17387106968834995 valid 0.1769145280122757\n",
      "  batch 1000 loss: 0.1703780459165573\n",
      "  batch 2000 loss: 0.17563186225295066\n",
      "  batch 3000 loss: 0.1737906302176416\n",
      "  batch 4000 loss: 0.17317731788754462\n",
      "  batch 5000 loss: 0.18014062439277767\n"
     ]
    },
    {
     "name": "stderr",
     "output_type": "stream",
     "text": [
      " 50%|█████     | 25/50 [01:01<01:02,  2.48s/it]"
     ]
    },
    {
     "name": "stdout",
     "output_type": "stream",
     "text": [
      "LOSS train 0.18014062439277767 valid 0.17680296301841736\n",
      "  batch 1000 loss: 0.17268109509535134\n",
      "  batch 2000 loss: 0.17911243829131127\n",
      "  batch 3000 loss: 0.17413990538753568\n",
      "  batch 4000 loss: 0.17268796446174384\n",
      "  batch 5000 loss: 0.17234029038250445\n"
     ]
    },
    {
     "name": "stderr",
     "output_type": "stream",
     "text": [
      " 52%|█████▏    | 26/50 [01:04<00:59,  2.48s/it]"
     ]
    },
    {
     "name": "stdout",
     "output_type": "stream",
     "text": [
      "LOSS train 0.17234029038250445 valid 0.1748649924993515\n",
      "  batch 1000 loss: 0.172401478856802\n",
      "  batch 2000 loss: 0.17195392506569623\n",
      "  batch 3000 loss: 0.17274369330331682\n",
      "  batch 4000 loss: 0.17768802223727106\n",
      "  batch 5000 loss: 0.17601372822746633\n"
     ]
    },
    {
     "name": "stderr",
     "output_type": "stream",
     "text": [
      " 54%|█████▍    | 27/50 [01:06<00:57,  2.48s/it]"
     ]
    },
    {
     "name": "stdout",
     "output_type": "stream",
     "text": [
      "LOSS train 0.17601372822746633 valid 0.17693178355693817\n",
      "  batch 1000 loss: 0.17180341363325716\n",
      "  batch 2000 loss: 0.1721805481314659\n",
      "  batch 3000 loss: 0.17419144953042268\n",
      "  batch 4000 loss: 0.17612179223448038\n",
      "  batch 5000 loss: 0.17590007416531445\n"
     ]
    },
    {
     "name": "stderr",
     "output_type": "stream",
     "text": [
      " 56%|█████▌    | 28/50 [01:09<00:54,  2.48s/it]"
     ]
    },
    {
     "name": "stdout",
     "output_type": "stream",
     "text": [
      "LOSS train 0.17590007416531445 valid 0.1749429702758789\n",
      "  batch 1000 loss: 0.17085166593641044\n",
      "  batch 2000 loss: 0.17171084268391132\n",
      "  batch 3000 loss: 0.17731510558351873\n",
      "  batch 4000 loss: 0.17111625527590513\n",
      "  batch 5000 loss: 0.17562634393572807\n"
     ]
    },
    {
     "name": "stderr",
     "output_type": "stream",
     "text": [
      " 58%|█████▊    | 29/50 [01:11<00:52,  2.49s/it]"
     ]
    },
    {
     "name": "stdout",
     "output_type": "stream",
     "text": [
      "LOSS train 0.17562634393572807 valid 0.1747339516878128\n",
      "  batch 1000 loss: 0.17180195494741202\n",
      "  batch 2000 loss: 0.17291726703569293\n",
      "  batch 3000 loss: 0.17815675685554744\n",
      "  batch 4000 loss: 0.17229009448364377\n",
      "  batch 5000 loss: 0.17181868610531092\n"
     ]
    },
    {
     "name": "stderr",
     "output_type": "stream",
     "text": [
      " 60%|██████    | 30/50 [01:14<00:49,  2.49s/it]"
     ]
    },
    {
     "name": "stdout",
     "output_type": "stream",
     "text": [
      "LOSS train 0.17181868610531092 valid 0.1723361611366272\n",
      "  batch 1000 loss: 0.1766257863305509\n",
      "  batch 2000 loss: 0.17291714352555573\n",
      "  batch 3000 loss: 0.17383814999833702\n",
      "  batch 4000 loss: 0.1714707088395953\n",
      "  batch 5000 loss: 0.17277301328256725\n"
     ]
    },
    {
     "name": "stderr",
     "output_type": "stream",
     "text": [
      " 62%|██████▏   | 31/50 [01:16<00:47,  2.49s/it]"
     ]
    },
    {
     "name": "stdout",
     "output_type": "stream",
     "text": [
      "LOSS train 0.17277301328256725 valid 0.17256899178028107\n",
      "  batch 1000 loss: 0.17111276620998978\n",
      "  batch 2000 loss: 0.17125370483845473\n",
      "  batch 3000 loss: 0.1745404737405479\n",
      "  batch 4000 loss: 0.17325125309079886\n",
      "  batch 5000 loss: 0.1696422432921827\n"
     ]
    },
    {
     "name": "stderr",
     "output_type": "stream",
     "text": [
      " 64%|██████▍   | 32/50 [01:19<00:44,  2.48s/it]"
     ]
    },
    {
     "name": "stdout",
     "output_type": "stream",
     "text": [
      "LOSS train 0.1696422432921827 valid 0.17324109375476837\n",
      "  batch 1000 loss: 0.17361534909904003\n",
      "  batch 2000 loss: 0.172923334505409\n",
      "  batch 3000 loss: 0.1742912122607231\n",
      "  batch 4000 loss: 0.17187391804531216\n",
      "  batch 5000 loss: 0.1737957781571895\n"
     ]
    },
    {
     "name": "stderr",
     "output_type": "stream",
     "text": [
      " 66%|██████▌   | 33/50 [01:21<00:42,  2.48s/it]"
     ]
    },
    {
     "name": "stdout",
     "output_type": "stream",
     "text": [
      "LOSS train 0.1737957781571895 valid 0.17557749152183533\n",
      "  batch 1000 loss: 0.17516302321478724\n",
      "  batch 2000 loss: 0.17505426093935966\n",
      "  batch 3000 loss: 0.17032119101285934\n",
      "  batch 4000 loss: 0.17076308236271143\n",
      "  batch 5000 loss: 0.16860219625011086\n"
     ]
    },
    {
     "name": "stderr",
     "output_type": "stream",
     "text": [
      " 68%|██████▊   | 34/50 [01:23<00:39,  2.46s/it]"
     ]
    },
    {
     "name": "stdout",
     "output_type": "stream",
     "text": [
      "LOSS train 0.16860219625011086 valid 0.17242084443569183\n",
      "  batch 1000 loss: 0.16927142475545406\n",
      "  batch 2000 loss: 0.17459591310098768\n",
      "  batch 3000 loss: 0.17470006331056356\n",
      "  batch 4000 loss: 0.17451249953359366\n",
      "  batch 5000 loss: 0.17238194892555475\n"
     ]
    },
    {
     "name": "stderr",
     "output_type": "stream",
     "text": [
      " 70%|███████   | 35/50 [01:26<00:36,  2.45s/it]"
     ]
    },
    {
     "name": "stdout",
     "output_type": "stream",
     "text": [
      "LOSS train 0.17238194892555475 valid 0.17226706445217133\n",
      "  batch 1000 loss: 0.16845573031902314\n",
      "  batch 2000 loss: 0.17489768673107028\n",
      "  batch 3000 loss: 0.17494256496801971\n",
      "  batch 4000 loss: 0.16990379301831127\n",
      "  batch 5000 loss: 0.17255823081918062\n"
     ]
    },
    {
     "name": "stderr",
     "output_type": "stream",
     "text": [
      " 72%|███████▏  | 36/50 [01:28<00:34,  2.44s/it]"
     ]
    },
    {
     "name": "stdout",
     "output_type": "stream",
     "text": [
      "LOSS train 0.17255823081918062 valid 0.17140886187553406\n",
      "  batch 1000 loss: 0.16790707967057825\n",
      "  batch 2000 loss: 0.17213850504532457\n",
      "  batch 3000 loss: 0.1744801749512553\n",
      "  batch 4000 loss: 0.16695279017835857\n",
      "  batch 5000 loss: 0.17350976559147238\n"
     ]
    },
    {
     "name": "stderr",
     "output_type": "stream",
     "text": [
      " 74%|███████▍  | 37/50 [01:31<00:31,  2.43s/it]"
     ]
    },
    {
     "name": "stdout",
     "output_type": "stream",
     "text": [
      "LOSS train 0.17350976559147238 valid 0.1758469194173813\n",
      "  batch 1000 loss: 0.1712495918534696\n",
      "  batch 2000 loss: 0.16899981452897192\n",
      "  batch 3000 loss: 0.17209190977737307\n",
      "  batch 4000 loss: 0.16953936606645584\n",
      "  batch 5000 loss: 0.17452071722224355\n"
     ]
    },
    {
     "name": "stderr",
     "output_type": "stream",
     "text": [
      " 76%|███████▌  | 38/50 [01:33<00:29,  2.42s/it]"
     ]
    },
    {
     "name": "stdout",
     "output_type": "stream",
     "text": [
      "LOSS train 0.17452071722224355 valid 0.17047962546348572\n",
      "  batch 1000 loss: 0.17027458663284778\n",
      "  batch 2000 loss: 0.17147167951241135\n",
      "  batch 3000 loss: 0.17205093037523328\n",
      "  batch 4000 loss: 0.17258720872923733\n",
      "  batch 5000 loss: 0.17477246902137994\n"
     ]
    },
    {
     "name": "stderr",
     "output_type": "stream",
     "text": [
      " 78%|███████▊  | 39/50 [01:36<00:26,  2.42s/it]"
     ]
    },
    {
     "name": "stdout",
     "output_type": "stream",
     "text": [
      "LOSS train 0.17477246902137994 valid 0.1722639799118042\n",
      "  batch 1000 loss: 0.17130917899310588\n",
      "  batch 2000 loss: 0.17013699574768543\n",
      "  batch 3000 loss: 0.1697310580164194\n",
      "  batch 4000 loss: 0.1763912267498672\n",
      "  batch 5000 loss: 0.16729679633677005\n"
     ]
    },
    {
     "name": "stderr",
     "output_type": "stream",
     "text": [
      " 80%|████████  | 40/50 [01:38<00:24,  2.44s/it]"
     ]
    },
    {
     "name": "stdout",
     "output_type": "stream",
     "text": [
      "LOSS train 0.16729679633677005 valid 0.1736057847738266\n",
      "  batch 1000 loss: 0.17426244749501346\n",
      "  batch 2000 loss: 0.168866030421108\n",
      "  batch 3000 loss: 0.17079273230955005\n",
      "  batch 4000 loss: 0.16981713499873877\n",
      "  batch 5000 loss: 0.1715065098591149\n"
     ]
    },
    {
     "name": "stderr",
     "output_type": "stream",
     "text": [
      " 82%|████████▏ | 41/50 [01:40<00:21,  2.44s/it]"
     ]
    },
    {
     "name": "stdout",
     "output_type": "stream",
     "text": [
      "LOSS train 0.1715065098591149 valid 0.17140927910804749\n",
      "  batch 1000 loss: 0.17179928836971523\n",
      "  batch 2000 loss: 0.17146403114125133\n",
      "  batch 3000 loss: 0.16705999986827375\n",
      "  batch 4000 loss: 0.17173358175903558\n",
      "  batch 5000 loss: 0.17558967248722912\n"
     ]
    },
    {
     "name": "stderr",
     "output_type": "stream",
     "text": [
      " 84%|████████▍ | 42/50 [01:43<00:19,  2.45s/it]"
     ]
    },
    {
     "name": "stdout",
     "output_type": "stream",
     "text": [
      "LOSS train 0.17558967248722912 valid 0.1732484996318817\n",
      "  batch 1000 loss: 0.16892724465206266\n",
      "  batch 2000 loss: 0.1692470816373825\n",
      "  batch 3000 loss: 0.17332540338858962\n",
      "  batch 4000 loss: 0.17096913401037456\n",
      "  batch 5000 loss: 0.17077520383521916\n"
     ]
    },
    {
     "name": "stderr",
     "output_type": "stream",
     "text": [
      " 86%|████████▌ | 43/50 [01:45<00:17,  2.46s/it]"
     ]
    },
    {
     "name": "stdout",
     "output_type": "stream",
     "text": [
      "LOSS train 0.17077520383521916 valid 0.17401157319545746\n",
      "  batch 1000 loss: 0.17004066279157995\n",
      "  batch 2000 loss: 0.16759356274828316\n",
      "  batch 3000 loss: 0.17327371676638723\n",
      "  batch 4000 loss: 0.1717992825061083\n",
      "  batch 5000 loss: 0.16981426810473205\n"
     ]
    },
    {
     "name": "stderr",
     "output_type": "stream",
     "text": [
      " 88%|████████▊ | 44/50 [01:48<00:14,  2.46s/it]"
     ]
    },
    {
     "name": "stdout",
     "output_type": "stream",
     "text": [
      "LOSS train 0.16981426810473205 valid 0.17124344408512115\n",
      "  batch 1000 loss: 0.1672007253691554\n",
      "  batch 2000 loss: 0.16870761118084193\n",
      "  batch 3000 loss: 0.1721731520742178\n",
      "  batch 4000 loss: 0.1707423397563398\n",
      "  batch 5000 loss: 0.17237907943502068\n"
     ]
    },
    {
     "name": "stderr",
     "output_type": "stream",
     "text": [
      " 90%|█████████ | 45/50 [01:50<00:12,  2.49s/it]"
     ]
    },
    {
     "name": "stdout",
     "output_type": "stream",
     "text": [
      "LOSS train 0.17237907943502068 valid 0.1719641089439392\n",
      "  batch 1000 loss: 0.17136738887429237\n",
      "  batch 2000 loss: 0.17045200754702092\n",
      "  batch 3000 loss: 0.17179988618195058\n",
      "  batch 4000 loss: 0.17123867778480054\n",
      "  batch 5000 loss: 0.1710343882739544\n"
     ]
    },
    {
     "name": "stderr",
     "output_type": "stream",
     "text": [
      " 92%|█████████▏| 46/50 [01:53<00:09,  2.48s/it]"
     ]
    },
    {
     "name": "stdout",
     "output_type": "stream",
     "text": [
      "LOSS train 0.1710343882739544 valid 0.1720549464225769\n",
      "  batch 1000 loss: 0.17115232283622026\n",
      "  batch 2000 loss: 0.17374776856601237\n",
      "  batch 3000 loss: 0.16701367258280517\n",
      "  batch 4000 loss: 0.16932243841141462\n",
      "  batch 5000 loss: 0.16925269754603506\n"
     ]
    },
    {
     "name": "stderr",
     "output_type": "stream",
     "text": [
      " 94%|█████████▍| 47/50 [01:55<00:07,  2.49s/it]"
     ]
    },
    {
     "name": "stdout",
     "output_type": "stream",
     "text": [
      "LOSS train 0.16925269754603506 valid 0.16859079897403717\n",
      "  batch 1000 loss: 0.16873031678050757\n",
      "  batch 2000 loss: 0.17265603305771948\n",
      "  batch 3000 loss: 0.17124615794420242\n",
      "  batch 4000 loss: 0.17002917014434935\n",
      "  batch 5000 loss: 0.1739763842113316\n"
     ]
    },
    {
     "name": "stderr",
     "output_type": "stream",
     "text": [
      " 96%|█████████▌| 48/50 [01:58<00:04,  2.48s/it]"
     ]
    },
    {
     "name": "stdout",
     "output_type": "stream",
     "text": [
      "LOSS train 0.1739763842113316 valid 0.17126435041427612\n",
      "  batch 1000 loss: 0.16741049310564995\n",
      "  batch 2000 loss: 0.17180835762247443\n",
      "  batch 3000 loss: 0.16790551981329918\n",
      "  batch 4000 loss: 0.1776295178346336\n",
      "  batch 5000 loss: 0.16903822174668312\n"
     ]
    },
    {
     "name": "stderr",
     "output_type": "stream",
     "text": [
      " 98%|█████████▊| 49/50 [02:00<00:02,  2.47s/it]"
     ]
    },
    {
     "name": "stdout",
     "output_type": "stream",
     "text": [
      "LOSS train 0.16903822174668312 valid 0.16986779868602753\n",
      "  batch 1000 loss: 0.16530320486798883\n",
      "  batch 2000 loss: 0.17146087159961462\n",
      "  batch 3000 loss: 0.16767760932072998\n",
      "  batch 4000 loss: 0.17406102666258813\n",
      "  batch 5000 loss: 0.16854994595050812\n"
     ]
    },
    {
     "name": "stderr",
     "output_type": "stream",
     "text": [
      "100%|██████████| 50/50 [02:03<00:00,  2.46s/it]"
     ]
    },
    {
     "name": "stdout",
     "output_type": "stream",
     "text": [
      "LOSS train 0.16854994595050812 valid 0.17032672464847565\n"
     ]
    },
    {
     "name": "stderr",
     "output_type": "stream",
     "text": [
      "\n"
     ]
    }
   ],
   "execution_count": 17
  },
  {
   "metadata": {
    "ExecuteTime": {
     "end_time": "2024-05-12T16:21:13.333767Z",
     "start_time": "2024-05-12T16:21:13.329290Z"
    }
   },
   "cell_type": "code",
   "source": "  # torch.save(model, 'classification_model_auc_0xx')",
   "outputs": [],
   "execution_count": 23
  },
  {
   "metadata": {
    "ExecuteTime": {
     "end_time": "2024-05-12T16:20:43.361344Z",
     "start_time": "2024-05-12T16:20:43.211614Z"
    }
   },
   "cell_type": "code",
   "source": [
    "import matplotlib.pyplot as plt\n",
    "\n",
    "vlosses_values = [t.item() for t in vlosses]\n",
    "plt.xlabel('Epoch')\n",
    "plt.ylabel('loss')\n",
    "plt.plot(range(EPOCHS), vlosses_values, label='val_loss')\n",
    "plt.plot(range(EPOCHS), tlosses, label='train_loss')\n",
    "plt.legend()"
   ],
   "outputs": [
    {
     "data": {
      "text/plain": [
       "<matplotlib.legend.Legend at 0x309d7e3d0>"
      ]
     },
     "execution_count": 18,
     "metadata": {},
     "output_type": "execute_result"
    },
    {
     "data": {
      "text/plain": [
       "<Figure size 640x480 with 1 Axes>"
      ],
      "image/png": "[encoded data removed]"
     },
     "metadata": {},
     "output_type": "display_data"
    }
   ],
   "execution_count": 18
  },
  {
   "metadata": {
    "ExecuteTime": {
     "end_time": "2024-05-12T16:20:49.564119Z",
     "start_time": "2024-05-12T16:20:49.377682Z"
    }
   },
   "cell_type": "code",
   "source": [
    "import matplotlib.pyplot as plt\n",
    "from sklearn.metrics import roc_auc_score, roc_curve, confusion_matrix, ConfusionMatrixDisplay\n",
    "\n",
    "# model = torch.load('classification_model_auc_083')\n",
    "model.eval()\n",
    "device = torch.device('cuda' if torch.cuda.is_available() else 'cpu')\n",
    "\n",
    "X_test_tensor = torch.from_numpy(X_test).float().to(device)\n",
    "y_test = y_test.astype(dtype=np.int32)\n",
    "\n",
    "with torch.no_grad():\n",
    "    predictions = (model(X_test_tensor).reshape(-1)).cpu().detach().numpy()\n",
    "    predictions_labels = [1 if p >= 0.5 else 0 for p in predictions]\n",
    "\n",
    "cm = confusion_matrix(y_test, predictions_labels)\n",
    "tn, fp, fn, tp = cm.ravel()\n",
    "\n",
    "disp = ConfusionMatrixDisplay(confusion_matrix=cm)\n",
    "disp.plot()\n"
   ],
   "outputs": [
    {
     "data": {
      "text/plain": [
       "<sklearn.metrics._plot.confusion_matrix.ConfusionMatrixDisplay at 0x16a43a550>"
      ]
     },
     "execution_count": 19,
     "metadata": {},
     "output_type": "execute_result"
    },
    {
     "data": {
      "text/plain": [
       "<Figure size 640x480 with 2 Axes>"
      ],
      "image/png": "[encoded data removed]"
     },
     "metadata": {},
     "output_type": "display_data"
    }
   ],
   "execution_count": 19
  },
  {
   "metadata": {
    "ExecuteTime": {
     "end_time": "2024-05-12T16:20:51.952382Z",
     "start_time": "2024-05-12T16:20:51.916915Z"
    }
   },
   "cell_type": "code",
   "source": "auc = roc_auc_score(y_test, predictions)",
   "outputs": [],
   "execution_count": 20
  },
  {
   "metadata": {
    "ExecuteTime": {
     "end_time": "2024-05-12T16:20:53.091316Z",
     "start_time": "2024-05-12T16:20:53.088792Z"
    }
   },
   "cell_type": "code",
   "source": "print(auc)",
   "outputs": [
    {
     "name": "stdout",
     "output_type": "stream",
     "text": [
      "0.9796447045130878\n"
     ]
    }
   ],
   "execution_count": 21
  },
  {
   "metadata": {
    "ExecuteTime": {
     "end_time": "2024-05-04T20:01:54.871105Z",
     "start_time": "2024-05-04T20:01:54.850641Z"
    }
   },
   "cell_type": "code",
   "source": "fpr, tpr, thresholds = roc_curve(y_test, predictions)",
   "outputs": [],
   "execution_count": 60
  },
  {
   "metadata": {
    "ExecuteTime": {
     "end_time": "2024-05-04T20:01:55.022105Z",
     "start_time": "2024-05-04T20:01:55.019718Z"
    }
   },
   "cell_type": "code",
   "source": "print(fpr, tpr, thresholds)",
   "outputs": [
    {
     "name": "stdout",
     "output_type": "stream",
     "text": [
      "[0.         0.13299416 0.13299416 ... 0.99843309 0.99990328 1.        ] [0.         0.49091703 0.49093601 ... 1.         1.         1.        ] [          inf 7.7792710e-01 7.7792144e-01 ... 4.3074385e-13 1.3034530e-33\n",
      " 0.0000000e+00]\n"
     ]
    }
   ],
   "execution_count": 61
  },
  {
   "metadata": {
    "ExecuteTime": {
     "end_time": "2024-05-04T20:01:55.630148Z",
     "start_time": "2024-05-04T20:01:55.558698Z"
    }
   },
   "cell_type": "code",
   "source": "plt.plot(fpr, tpr)",
   "outputs": [
    {
     "data": {
      "text/plain": [
       "[<matplotlib.lines.Line2D at 0x31f6d7d90>]"
      ]
     },
     "execution_count": 62,
     "metadata": {},
     "output_type": "execute_result"
    },
    {
     "data": {
      "text/plain": [
       "<Figure size 640x480 with 1 Axes>"
      ],
      "image/png": "[encoded data removed]"
     },
     "metadata": {},
     "output_type": "display_data"
    }
   ],
   "execution_count": 62
  },
  {
   "metadata": {
    "ExecuteTime": {
     "end_time": "2024-05-12T16:21:05.039356Z",
     "start_time": "2024-05-12T16:21:05.034364Z"
    }
   },
   "cell_type": "code",
   "source": [
    "unique, counts = np.unique(y_test, return_counts=True)\n",
    "\n",
    "print(unique, counts)"
   ],
   "outputs": [
    {
     "name": "stdout",
     "output_type": "stream",
     "text": [
      "[0 1] [51694 52681]\n"
     ]
    }
   ],
   "execution_count": 22
  },
  {
   "metadata": {
    "ExecuteTime": {
     "end_time": "2024-05-02T19:03:01.577259Z",
     "start_time": "2024-05-02T19:03:01.574633Z"
    }
   },
   "cell_type": "code",
   "source": "print(model)",
   "outputs": [
    {
     "name": "stdout",
     "output_type": "stream",
     "text": [
      "SimpleNeuralNet(\n",
      "  (fc1): Linear(in_features=64, out_features=32, bias=True)\n",
      "  (relu1): ReLU()\n",
      "  (fc2): Linear(in_features=32, out_features=16, bias=True)\n",
      "  (relu2): ReLU()\n",
      "  (fc3): Linear(in_features=16, out_features=1, bias=True)\n",
      "  (out): Sigmoid()\n",
      ")\n"
     ]
    }
   ],
   "execution_count": 61
  }
 ],
 "metadata": {
  "kernelspec": {
   "display_name": "venv",
   "language": "python",
   "name": "python3"
  },
  "language_info": {
   "codemirror_mode": {
    "name": "ipython",
    "version": 3
   },
   "file_extension": ".py",
   "mimetype": "text/x-python",
   "name": "python",
   "nbconvert_exporter": "python",
   "pygments_lexer": "ipython3",
   "version": "3.11.6"
  }
 },
 "nbformat": 4,
 "nbformat_minor": 2
}
