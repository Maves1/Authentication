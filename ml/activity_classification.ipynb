{
 "cells": [
  {
   "cell_type": "code",
   "metadata": {
    "ExecuteTime": {
     "end_time": "2024-05-04T19:46:52.344236Z",
     "start_time": "2024-05-04T19:46:52.341541Z"
    }
   },
   "source": [
    "import os\n",
    "import numpy as np\n",
    "\n",
    "import torch\n",
    "import torch.nn as nn\n",
    "import torch.nn.functional as F\n",
    "from torch.utils.data import Dataset, DataLoader\n",
    "\n",
    "import torchvision.transforms as transforms\n",
    "\n",
    "from hmog import HmogHelper\n",
    "from tqdm import tqdm\n",
    "\n",
    "dataset_path = 'preprocessed_data/'"
   ],
   "outputs": [],
   "execution_count": 47
  },
  {
   "cell_type": "code",
   "metadata": {
    "ExecuteTime": {
     "end_time": "2024-05-04T19:38:24.543546Z",
     "start_time": "2024-05-04T19:38:24.541578Z"
    }
   },
   "source": [
    "WINDOW_SIZE = 40000  # ms\n",
    "WINDOW_SIZES = [20000, 40000, 60000, 80000, 100000, 120000, 140000]"
   ],
   "outputs": [],
   "execution_count": 2
  },
  {
   "cell_type": "code",
   "metadata": {
    "ExecuteTime": {
     "end_time": "2024-05-04T19:47:02.275773Z",
     "start_time": "2024-05-04T19:47:02.273078Z"
    }
   },
   "source": [
    "class SimpleNeuralNet(nn.Module):\n",
    "    def __init__(self) -> None:\n",
    "        super(SimpleNeuralNet, self).__init__()\n",
    "\n",
    "        input_shape = 64\n",
    "\n",
    "        self.fc1 = nn.Linear(input_shape, 32)\n",
    "        self.relu1 = nn.ReLU()\n",
    "        self.fc2 = nn.Linear(in_features=32, out_features=16)\n",
    "        self.relu2 = nn.ReLU()\n",
    "        self.fc3 = nn.Linear(in_features=16, out_features=1)\n",
    "        self.out = nn.Sigmoid()\n",
    "\n",
    "    def forward(self, x):\n",
    "        x = self.fc1(x)\n",
    "        x = self.relu1(x)\n",
    "        x = self.fc2(x)\n",
    "        x = self.relu2(x)\n",
    "        x = self.fc3(x)\n",
    "        x = self.out(x)\n",
    "\n",
    "        return x"
   ],
   "outputs": [],
   "execution_count": 48
  },
  {
   "metadata": {
    "ExecuteTime": {
     "end_time": "2024-05-04T19:47:02.661699Z",
     "start_time": "2024-05-04T19:47:02.658757Z"
    }
   },
   "cell_type": "code",
   "source": [
    "class MyDataset(Dataset):\n",
    "    def __init__(self, X, y, transform=None):\n",
    "        # self.dataset = np.load(file_path)\n",
    "        self.X = X\n",
    "        self.y = y\n",
    "        self.transform = transform\n",
    "        \n",
    "        # self.X = self.dataset[:, 1:-1]\n",
    "        # self.y = self.dataset[:, -1]\n",
    "    \n",
    "    def __len__(self):\n",
    "        return self.X.shape[0]\n",
    "    \n",
    "    def __getitem__(self, idx):\n",
    "        # if self.transform is not None:\n",
    "        #     curr_item_x = self.transform(self.X[idx])\n",
    "        #     curr_item_y = self.transform(self.y[idx])\n",
    "        #     \n",
    "        #     return curr_item_x, curr_item_y\n",
    "    \n",
    "        return self.X[idx], self.y[idx]"
   ],
   "outputs": [],
   "execution_count": 49
  },
  {
   "metadata": {
    "ExecuteTime": {
     "end_time": "2024-05-04T19:47:03.101851Z",
     "start_time": "2024-05-04T19:47:02.921953Z"
    }
   },
   "cell_type": "code",
   "source": [
    "from sklearn.model_selection import train_test_split\n",
    "\n",
    "whole_dataset = np.load(os.path.join(dataset_path, 'hmog_vectors_with_labels.npy'))\n",
    "whole_dataset = whole_dataset.astype(np.float32)\n",
    "X, y = whole_dataset[:, 1:-1], whole_dataset[:, -1]\n",
    "\n",
    "X_train, X_test, y_train, y_test = train_test_split(X, y, test_size=0.2, random_state=42)\n",
    "X_train, X_val, y_train, y_val = train_test_split(X_train, y_train, test_size=0.2, random_state=42)\n",
    "\n",
    "# transform = transforms.Compose([transforms.ToTensor()])\n",
    "\n",
    "train_dataset = MyDataset(X_train, y_train, transform=None)\n",
    "val_dataset = MyDataset(X_val, y_val, transform=None)\n",
    "test_dataset = MyDataset(X_test, y_test, transform=None)\n",
    "\n",
    "print(len(train_dataset), len(val_dataset), len(test_dataset))"
   ],
   "outputs": [
    {
     "name": "stdout",
     "output_type": "stream",
     "text": [
      "333997 83500 104375\n"
     ]
    }
   ],
   "execution_count": 50
  },
  {
   "metadata": {
    "ExecuteTime": {
     "end_time": "2024-05-04T19:47:03.184170Z",
     "start_time": "2024-05-04T19:47:03.180604Z"
    }
   },
   "cell_type": "code",
   "source": [
    "def train_one_epoch(model, dataloader, loss_fn, device):\n",
    "    running_loss = 0.\n",
    "    last_loss = 0.\n",
    "    \n",
    "    model.train()\n",
    "\n",
    "    for i, data in enumerate(dataloader):\n",
    "        inputs, labels = data\n",
    "        inputs, labels = inputs.to(device, dtype=torch.float32), labels.to(device, dtype=torch.float32)\n",
    "\n",
    "        optimizer.zero_grad()\n",
    "\n",
    "        outputs = model(inputs).reshape(-1)\n",
    "\n",
    "        # Compute the loss and its gradients\n",
    "        loss = loss_fn(outputs, labels)\n",
    "        loss.backward()\n",
    "\n",
    "        # Adjust learning weights\n",
    "        optimizer.step()\n",
    "\n",
    "        # Gather data and report\n",
    "        running_loss += loss.item()\n",
    "        if i % 1000 == 999:\n",
    "            last_loss = running_loss / 1000 # loss per batch\n",
    "            print('  batch {} loss: {}'.format(i + 1, last_loss))\n",
    "            running_loss = 0.\n",
    "\n",
    "    return last_loss"
   ],
   "outputs": [],
   "execution_count": 51
  },
  {
   "metadata": {
    "ExecuteTime": {
     "end_time": "2024-05-04T19:47:03.624794Z",
     "start_time": "2024-05-04T19:47:03.621752Z"
    }
   },
   "cell_type": "code",
   "source": [
    "model = SimpleNeuralNet()\n",
    "device = torch.device('cuda' if torch.cuda.is_available() else 'cpu')\n",
    "model.to(device)\n",
    "criterion = nn.BCELoss()\n",
    "optimizer = torch.optim.AdamW(model.parameters(), lr=0.001, weight_decay=1e-2)"
   ],
   "outputs": [],
   "execution_count": 52
  },
  {
   "metadata": {
    "ExecuteTime": {
     "end_time": "2024-05-04T19:47:03.841617Z",
     "start_time": "2024-05-04T19:47:03.837618Z"
    }
   },
   "cell_type": "code",
   "source": [
    "train_dataloader = DataLoader(train_dataset, batch_size=64, shuffle=True)\n",
    "val_dataloader = DataLoader(val_dataset, batch_size=64, shuffle=True)\n",
    "test_dataloader = DataLoader(test_dataset, batch_size=64, shuffle=True)"
   ],
   "outputs": [],
   "execution_count": 53
  },
  {
   "metadata": {
    "ExecuteTime": {
     "end_time": "2024-05-04T19:47:04.034212Z",
     "start_time": "2024-05-04T19:47:04.031990Z"
    }
   },
   "cell_type": "code",
   "source": [
    "EPOCHS = 50\n",
    "\n",
    "vlosses = []\n",
    "tlosses = []"
   ],
   "outputs": [],
   "execution_count": 54
  },
  {
   "metadata": {
    "ExecuteTime": {
     "end_time": "2024-05-04T19:48:45.569252Z",
     "start_time": "2024-05-04T19:47:04.309669Z"
    }
   },
   "cell_type": "code",
   "source": [
    "for epoch in tqdm(range(EPOCHS)):\n",
    "    avg_loss = train_one_epoch(model, train_dataloader, criterion, device)\n",
    "    tlosses.append(avg_loss)\n",
    "\n",
    "    running_vloss = 0.0\n",
    "\n",
    "    model.eval()\n",
    "\n",
    "    # Disable gradient computation and reduce memory consumption.\n",
    "    with torch.no_grad():\n",
    "        for i, vdata in enumerate(val_dataloader):\n",
    "            vinputs, vlabels = vdata\n",
    "            vinputs, vlabels = vinputs.to(device, dtype=torch.float32), vlabels.to(device, dtype=torch.float32)\n",
    "            \n",
    "            voutputs = model(vinputs).reshape(-1)\n",
    "            vloss = criterion(voutputs, vlabels)\n",
    "            running_vloss += vloss\n",
    "\n",
    "    avg_vloss = running_vloss / (i + 1)\n",
    "    vlosses.append(avg_vloss)\n",
    "    print('LOSS train {} valid {}'.format(avg_loss, avg_vloss))"
   ],
   "outputs": [
    {
     "name": "stderr",
     "output_type": "stream",
     "text": [
      "  0%|          | 0/50 [00:00<?, ?it/s]"
     ]
    },
    {
     "name": "stdout",
     "output_type": "stream",
     "text": [
      "  batch 1000 loss: 36.41809907722473\n",
      "  batch 2000 loss: 27.948796075105665\n",
      "  batch 3000 loss: 3.615182898759842\n",
      "  batch 4000 loss: 0.7452625122666359\n",
      "  batch 5000 loss: 0.6839453160762787\n"
     ]
    },
    {
     "name": "stderr",
     "output_type": "stream",
     "text": [
      "  2%|▏         | 1/50 [00:02<01:40,  2.05s/it]"
     ]
    },
    {
     "name": "stdout",
     "output_type": "stream",
     "text": [
      "LOSS train 0.6839453160762787 valid 0.6646052002906799\n",
      "  batch 1000 loss: 0.6789466724991798\n",
      "  batch 2000 loss: 0.6768145139813423\n",
      "  batch 3000 loss: 0.6895702987909317\n",
      "  batch 4000 loss: 0.6574310103058815\n",
      "  batch 5000 loss: 0.6574597347676754\n"
     ]
    },
    {
     "name": "stderr",
     "output_type": "stream",
     "text": [
      "  4%|▍         | 2/50 [00:04<01:38,  2.05s/it]"
     ]
    },
    {
     "name": "stdout",
     "output_type": "stream",
     "text": [
      "LOSS train 0.6574597347676754 valid 0.6390221118927002\n",
      "  batch 1000 loss: 0.6443125272989273\n",
      "  batch 2000 loss: 0.6373988445997238\n",
      "  batch 3000 loss: 0.6323159258663654\n",
      "  batch 4000 loss: 0.6279588050544261\n",
      "  batch 5000 loss: 0.6406193384826183\n"
     ]
    },
    {
     "name": "stderr",
     "output_type": "stream",
     "text": [
      "  6%|▌         | 3/50 [00:06<01:35,  2.04s/it]"
     ]
    },
    {
     "name": "stdout",
     "output_type": "stream",
     "text": [
      "LOSS train 0.6406193384826183 valid 0.6517730355262756\n",
      "  batch 1000 loss: 0.6332499518096447\n",
      "  batch 2000 loss: 0.6169333235025406\n",
      "  batch 3000 loss: 0.6436504198908806\n",
      "  batch 4000 loss: 0.6185499712824821\n",
      "  batch 5000 loss: 0.6037120087146759\n"
     ]
    },
    {
     "name": "stderr",
     "output_type": "stream",
     "text": [
      "  8%|▊         | 4/50 [00:08<01:34,  2.04s/it]"
     ]
    },
    {
     "name": "stdout",
     "output_type": "stream",
     "text": [
      "LOSS train 0.6037120087146759 valid 0.5910869240760803\n",
      "  batch 1000 loss: 0.6266775194108486\n",
      "  batch 2000 loss: 0.6041645354628563\n",
      "  batch 3000 loss: 0.5969881172478199\n",
      "  batch 4000 loss: 0.6016825985908508\n",
      "  batch 5000 loss: 0.6248319106698036\n"
     ]
    },
    {
     "name": "stderr",
     "output_type": "stream",
     "text": [
      " 10%|█         | 5/50 [00:10<01:31,  2.04s/it]"
     ]
    },
    {
     "name": "stdout",
     "output_type": "stream",
     "text": [
      "LOSS train 0.6248319106698036 valid 0.5915687680244446\n",
      "  batch 1000 loss: 0.5957340249717236\n",
      "  batch 2000 loss: 0.595986789226532\n",
      "  batch 3000 loss: 0.5890810223519802\n",
      "  batch 4000 loss: 0.5938369844257831\n",
      "  batch 5000 loss: 0.588358979344368\n"
     ]
    },
    {
     "name": "stderr",
     "output_type": "stream",
     "text": [
      " 12%|█▏        | 6/50 [00:12<01:29,  2.03s/it]"
     ]
    },
    {
     "name": "stdout",
     "output_type": "stream",
     "text": [
      "LOSS train 0.588358979344368 valid 0.5832543969154358\n",
      "  batch 1000 loss: 0.6093230438828469\n",
      "  batch 2000 loss: 0.5987659994661808\n",
      "  batch 3000 loss: 0.5913154789209366\n",
      "  batch 4000 loss: 0.587076786339283\n",
      "  batch 5000 loss: 0.5856740944087505\n"
     ]
    },
    {
     "name": "stderr",
     "output_type": "stream",
     "text": [
      " 14%|█▍        | 7/50 [00:14<01:26,  2.02s/it]"
     ]
    },
    {
     "name": "stdout",
     "output_type": "stream",
     "text": [
      "LOSS train 0.5856740944087505 valid 0.586268961429596\n",
      "  batch 1000 loss: 0.5851316582262516\n",
      "  batch 2000 loss: 0.5925964143872261\n",
      "  batch 3000 loss: 0.6142523686289787\n",
      "  batch 4000 loss: 0.5852187072634697\n",
      "  batch 5000 loss: 0.5822859950065613\n"
     ]
    },
    {
     "name": "stderr",
     "output_type": "stream",
     "text": [
      " 16%|█▌        | 8/50 [00:16<01:24,  2.01s/it]"
     ]
    },
    {
     "name": "stdout",
     "output_type": "stream",
     "text": [
      "LOSS train 0.5822859950065613 valid 0.5968285202980042\n",
      "  batch 1000 loss: 0.5861782364547252\n",
      "  batch 2000 loss: 0.59801093262434\n",
      "  batch 3000 loss: 0.5847398765981198\n",
      "  batch 4000 loss: 0.597551816046238\n",
      "  batch 5000 loss: 0.5783714305460453\n"
     ]
    },
    {
     "name": "stderr",
     "output_type": "stream",
     "text": [
      " 18%|█▊        | 9/50 [00:18<01:22,  2.01s/it]"
     ]
    },
    {
     "name": "stdout",
     "output_type": "stream",
     "text": [
      "LOSS train 0.5783714305460453 valid 0.5698497891426086\n",
      "  batch 1000 loss: 0.5781704180538655\n",
      "  batch 2000 loss: 0.5824952980577945\n",
      "  batch 3000 loss: 0.5792342800498008\n",
      "  batch 4000 loss: 0.5782289905846119\n",
      "  batch 5000 loss: 0.5900506750047206\n"
     ]
    },
    {
     "name": "stderr",
     "output_type": "stream",
     "text": [
      " 20%|██        | 10/50 [00:20<01:20,  2.00s/it]"
     ]
    },
    {
     "name": "stdout",
     "output_type": "stream",
     "text": [
      "LOSS train 0.5900506750047206 valid 0.5703784227371216\n",
      "  batch 1000 loss: 0.5741643636524677\n",
      "  batch 2000 loss: 0.5816315394639969\n",
      "  batch 3000 loss: 0.5805751389861107\n",
      "  batch 4000 loss: 0.5835926769375801\n",
      "  batch 5000 loss: 0.5796174561977386\n"
     ]
    },
    {
     "name": "stderr",
     "output_type": "stream",
     "text": [
      " 22%|██▏       | 11/50 [00:22<01:18,  2.00s/it]"
     ]
    },
    {
     "name": "stdout",
     "output_type": "stream",
     "text": [
      "LOSS train 0.5796174561977386 valid 0.5819900631904602\n",
      "  batch 1000 loss: 0.5721714676618576\n",
      "  batch 2000 loss: 0.6027667398750782\n",
      "  batch 3000 loss: 0.5969076517522335\n",
      "  batch 4000 loss: 0.577625771254301\n",
      "  batch 5000 loss: 0.580996353983879\n"
     ]
    },
    {
     "name": "stderr",
     "output_type": "stream",
     "text": [
      " 24%|██▍       | 12/50 [00:24<01:15,  2.00s/it]"
     ]
    },
    {
     "name": "stdout",
     "output_type": "stream",
     "text": [
      "LOSS train 0.580996353983879 valid 0.5691824555397034\n",
      "  batch 1000 loss: 0.5863154865801334\n",
      "  batch 2000 loss: 0.573895112812519\n",
      "  batch 3000 loss: 0.5752874546945095\n",
      "  batch 4000 loss: 0.5685093669593334\n",
      "  batch 5000 loss: 0.582647865921259\n"
     ]
    },
    {
     "name": "stderr",
     "output_type": "stream",
     "text": [
      " 26%|██▌       | 13/50 [00:26<01:13,  1.99s/it]"
     ]
    },
    {
     "name": "stdout",
     "output_type": "stream",
     "text": [
      "LOSS train 0.582647865921259 valid 0.5679048895835876\n",
      "  batch 1000 loss: 0.5784806723296643\n",
      "  batch 2000 loss: 0.5651374751627445\n",
      "  batch 3000 loss: 0.5750837364196777\n",
      "  batch 4000 loss: 0.5697985544204712\n",
      "  batch 5000 loss: 0.5752321827411652\n"
     ]
    },
    {
     "name": "stderr",
     "output_type": "stream",
     "text": [
      " 28%|██▊       | 14/50 [00:28<01:11,  1.99s/it]"
     ]
    },
    {
     "name": "stdout",
     "output_type": "stream",
     "text": [
      "LOSS train 0.5752321827411652 valid 0.5595802068710327\n",
      "  batch 1000 loss: 0.5691379165649414\n",
      "  batch 2000 loss: 0.573253270894289\n",
      "  batch 3000 loss: 0.5831503159105778\n",
      "  batch 4000 loss: 0.5822561088502407\n",
      "  batch 5000 loss: 0.575528960287571\n"
     ]
    },
    {
     "name": "stderr",
     "output_type": "stream",
     "text": [
      " 30%|███       | 15/50 [00:30<01:09,  1.99s/it]"
     ]
    },
    {
     "name": "stdout",
     "output_type": "stream",
     "text": [
      "LOSS train 0.575528960287571 valid 0.5618846416473389\n",
      "  batch 1000 loss: 0.5756742421984673\n",
      "  batch 2000 loss: 0.5760449088215828\n",
      "  batch 3000 loss: 0.5759307698011399\n",
      "  batch 4000 loss: 0.5749922812581062\n",
      "  batch 5000 loss: 0.575862165749073\n"
     ]
    },
    {
     "name": "stderr",
     "output_type": "stream",
     "text": [
      " 32%|███▏      | 16/50 [00:32<01:08,  2.00s/it]"
     ]
    },
    {
     "name": "stdout",
     "output_type": "stream",
     "text": [
      "LOSS train 0.575862165749073 valid 0.5926386117935181\n",
      "  batch 1000 loss: 0.5741322565078736\n",
      "  batch 2000 loss: 0.5713779191076755\n",
      "  batch 3000 loss: 0.5720280740559102\n",
      "  batch 4000 loss: 0.568560770213604\n",
      "  batch 5000 loss: 0.5690095643103122\n"
     ]
    },
    {
     "name": "stderr",
     "output_type": "stream",
     "text": [
      " 34%|███▍      | 17/50 [00:34<01:07,  2.04s/it]"
     ]
    },
    {
     "name": "stdout",
     "output_type": "stream",
     "text": [
      "LOSS train 0.5690095643103122 valid 0.5961877107620239\n",
      "  batch 1000 loss: 0.5700817647874356\n",
      "  batch 2000 loss: 0.5745948434770107\n",
      "  batch 3000 loss: 0.5782759656310081\n",
      "  batch 4000 loss: 0.5772145534455776\n",
      "  batch 5000 loss: 0.571998302012682\n"
     ]
    },
    {
     "name": "stderr",
     "output_type": "stream",
     "text": [
      " 36%|███▌      | 18/50 [00:36<01:06,  2.09s/it]"
     ]
    },
    {
     "name": "stdout",
     "output_type": "stream",
     "text": [
      "LOSS train 0.571998302012682 valid 0.5526430606842041\n",
      "  batch 1000 loss: 0.5674771989285946\n",
      "  batch 2000 loss: 0.5689438644051552\n",
      "  batch 3000 loss: 0.5680805283784867\n",
      "  batch 4000 loss: 0.5677449524998665\n",
      "  batch 5000 loss: 0.5671061726808548\n"
     ]
    },
    {
     "name": "stderr",
     "output_type": "stream",
     "text": [
      " 38%|███▊      | 19/50 [00:38<01:05,  2.11s/it]"
     ]
    },
    {
     "name": "stdout",
     "output_type": "stream",
     "text": [
      "LOSS train 0.5671061726808548 valid 0.5778178572654724\n",
      "  batch 1000 loss: 0.5666551088690758\n",
      "  batch 2000 loss: 0.5748038638234139\n",
      "  batch 3000 loss: 0.563599743694067\n",
      "  batch 4000 loss: 0.574173686772585\n",
      "  batch 5000 loss: 0.5791587119102478\n"
     ]
    },
    {
     "name": "stderr",
     "output_type": "stream",
     "text": [
      " 40%|████      | 20/50 [00:40<01:02,  2.07s/it]"
     ]
    },
    {
     "name": "stdout",
     "output_type": "stream",
     "text": [
      "LOSS train 0.5791587119102478 valid 0.5674872994422913\n",
      "  batch 1000 loss: 0.5699483308494091\n",
      "  batch 2000 loss: 0.5726742132008076\n",
      "  batch 3000 loss: 0.5735630622804165\n",
      "  batch 4000 loss: 0.5640916861891746\n",
      "  batch 5000 loss: 0.566365217089653\n"
     ]
    },
    {
     "name": "stderr",
     "output_type": "stream",
     "text": [
      " 42%|████▏     | 21/50 [00:42<00:59,  2.05s/it]"
     ]
    },
    {
     "name": "stdout",
     "output_type": "stream",
     "text": [
      "LOSS train 0.566365217089653 valid 0.5759540796279907\n",
      "  batch 1000 loss: 0.5841075601875783\n",
      "  batch 2000 loss: 0.5644246281683445\n",
      "  batch 3000 loss: 0.5797314913570881\n",
      "  batch 4000 loss: 0.5742568481564522\n",
      "  batch 5000 loss: 0.5850521195828915\n"
     ]
    },
    {
     "name": "stderr",
     "output_type": "stream",
     "text": [
      " 44%|████▍     | 22/50 [00:44<00:56,  2.03s/it]"
     ]
    },
    {
     "name": "stdout",
     "output_type": "stream",
     "text": [
      "LOSS train 0.5850521195828915 valid 0.5703972578048706\n",
      "  batch 1000 loss: 0.5726979361176491\n",
      "  batch 2000 loss: 0.5669172618091106\n",
      "  batch 3000 loss: 0.5638266468942166\n",
      "  batch 4000 loss: 0.5723439079225063\n",
      "  batch 5000 loss: 0.5685071401298046\n"
     ]
    },
    {
     "name": "stderr",
     "output_type": "stream",
     "text": [
      " 46%|████▌     | 23/50 [00:46<00:54,  2.02s/it]"
     ]
    },
    {
     "name": "stdout",
     "output_type": "stream",
     "text": [
      "LOSS train 0.5685071401298046 valid 0.5529460310935974\n",
      "  batch 1000 loss: 0.5740580953359604\n",
      "  batch 2000 loss: 0.5749364000856876\n",
      "  batch 3000 loss: 0.5708941541612148\n",
      "  batch 4000 loss: 0.5633020416796207\n",
      "  batch 5000 loss: 0.5752294470071793\n"
     ]
    },
    {
     "name": "stderr",
     "output_type": "stream",
     "text": [
      " 48%|████▊     | 24/50 [00:48<00:52,  2.01s/it]"
     ]
    },
    {
     "name": "stdout",
     "output_type": "stream",
     "text": [
      "LOSS train 0.5752294470071793 valid 0.5618009567260742\n",
      "  batch 1000 loss: 0.5693065085709095\n",
      "  batch 2000 loss: 0.5719504598379135\n",
      "  batch 3000 loss: 0.5630172814726829\n",
      "  batch 4000 loss: 0.5684491637051106\n",
      "  batch 5000 loss: 0.5667802141010762\n"
     ]
    },
    {
     "name": "stderr",
     "output_type": "stream",
     "text": [
      " 50%|█████     | 25/50 [00:50<00:49,  2.00s/it]"
     ]
    },
    {
     "name": "stdout",
     "output_type": "stream",
     "text": [
      "LOSS train 0.5667802141010762 valid 0.5790973901748657\n",
      "  batch 1000 loss: 0.562828193128109\n",
      "  batch 2000 loss: 0.5596194461882115\n",
      "  batch 3000 loss: 0.5603420694768428\n",
      "  batch 4000 loss: 0.5585502778291702\n",
      "  batch 5000 loss: 0.5667554311156273\n"
     ]
    },
    {
     "name": "stderr",
     "output_type": "stream",
     "text": [
      " 52%|█████▏    | 26/50 [00:52<00:47,  2.00s/it]"
     ]
    },
    {
     "name": "stdout",
     "output_type": "stream",
     "text": [
      "LOSS train 0.5667554311156273 valid 0.7351303100585938\n",
      "  batch 1000 loss: 0.5697817721366882\n",
      "  batch 2000 loss: 0.5789037924110889\n",
      "  batch 3000 loss: 0.5669606871306896\n",
      "  batch 4000 loss: 0.5791134058833122\n",
      "  batch 5000 loss: 0.5660126565396786\n"
     ]
    },
    {
     "name": "stderr",
     "output_type": "stream",
     "text": [
      " 54%|█████▍    | 27/50 [00:54<00:46,  2.04s/it]"
     ]
    },
    {
     "name": "stdout",
     "output_type": "stream",
     "text": [
      "LOSS train 0.5660126565396786 valid 0.5506554245948792\n",
      "  batch 1000 loss: 0.5613055201768875\n",
      "  batch 2000 loss: 0.5690643540024758\n",
      "  batch 3000 loss: 0.5585772581398487\n",
      "  batch 4000 loss: 0.5720209295749664\n",
      "  batch 5000 loss: 0.5645320459604263\n"
     ]
    },
    {
     "name": "stderr",
     "output_type": "stream",
     "text": [
      " 56%|█████▌    | 28/50 [00:56<00:44,  2.04s/it]"
     ]
    },
    {
     "name": "stdout",
     "output_type": "stream",
     "text": [
      "LOSS train 0.5645320459604263 valid 0.5562395453453064\n",
      "  batch 1000 loss: 0.5646897056400776\n",
      "  batch 2000 loss: 0.5662479896247387\n",
      "  batch 3000 loss: 0.5657801809608937\n",
      "  batch 4000 loss: 0.5702260447740555\n",
      "  batch 5000 loss: 0.574409756153822\n"
     ]
    },
    {
     "name": "stderr",
     "output_type": "stream",
     "text": [
      " 58%|█████▊    | 29/50 [00:58<00:42,  2.03s/it]"
     ]
    },
    {
     "name": "stdout",
     "output_type": "stream",
     "text": [
      "LOSS train 0.574409756153822 valid 0.5557798147201538\n",
      "  batch 1000 loss: 0.57243856087327\n",
      "  batch 2000 loss: 0.5620973455011845\n",
      "  batch 3000 loss: 0.5782946257591247\n",
      "  batch 4000 loss: 0.5648385938107967\n",
      "  batch 5000 loss: 0.5676420566737652\n"
     ]
    },
    {
     "name": "stderr",
     "output_type": "stream",
     "text": [
      " 60%|██████    | 30/50 [01:00<00:40,  2.02s/it]"
     ]
    },
    {
     "name": "stdout",
     "output_type": "stream",
     "text": [
      "LOSS train 0.5676420566737652 valid 0.5558497309684753\n",
      "  batch 1000 loss: 0.5736682212352753\n",
      "  batch 2000 loss: 0.5722423889636994\n",
      "  batch 3000 loss: 0.5601653560996056\n",
      "  batch 4000 loss: 0.5636809817254543\n",
      "  batch 5000 loss: 0.564550389200449\n"
     ]
    },
    {
     "name": "stderr",
     "output_type": "stream",
     "text": [
      " 62%|██████▏   | 31/50 [01:02<00:38,  2.03s/it]"
     ]
    },
    {
     "name": "stdout",
     "output_type": "stream",
     "text": [
      "LOSS train 0.564550389200449 valid 0.5703163146972656\n",
      "  batch 1000 loss: 0.5708140480220318\n",
      "  batch 2000 loss: 0.5704156759083271\n",
      "  batch 3000 loss: 0.5645386962890625\n",
      "  batch 4000 loss: 0.5651016384959221\n",
      "  batch 5000 loss: 0.5592395927906036\n"
     ]
    },
    {
     "name": "stderr",
     "output_type": "stream",
     "text": [
      " 64%|██████▍   | 32/50 [01:04<00:36,  2.03s/it]"
     ]
    },
    {
     "name": "stdout",
     "output_type": "stream",
     "text": [
      "LOSS train 0.5592395927906036 valid 0.5440852642059326\n",
      "  batch 1000 loss: 0.5604749249815941\n",
      "  batch 2000 loss: 0.5653208436667919\n",
      "  batch 3000 loss: 0.5728795428872109\n",
      "  batch 4000 loss: 0.5615573778152466\n",
      "  batch 5000 loss: 0.5688387146294117\n"
     ]
    },
    {
     "name": "stderr",
     "output_type": "stream",
     "text": [
      " 66%|██████▌   | 33/50 [01:06<00:34,  2.01s/it]"
     ]
    },
    {
     "name": "stdout",
     "output_type": "stream",
     "text": [
      "LOSS train 0.5688387146294117 valid 0.55072420835495\n",
      "  batch 1000 loss: 0.5694520787000656\n",
      "  batch 2000 loss: 0.570517842233181\n",
      "  batch 3000 loss: 0.5631146918833255\n",
      "  batch 4000 loss: 0.5610545372366905\n",
      "  batch 5000 loss: 0.5681851657032967\n"
     ]
    },
    {
     "name": "stderr",
     "output_type": "stream",
     "text": [
      " 68%|██████▊   | 34/50 [01:08<00:32,  2.00s/it]"
     ]
    },
    {
     "name": "stdout",
     "output_type": "stream",
     "text": [
      "LOSS train 0.5681851657032967 valid 0.6064959168434143\n",
      "  batch 1000 loss: 0.5678450074791909\n",
      "  batch 2000 loss: 0.5620173095464707\n",
      "  batch 3000 loss: 0.5743327096402645\n",
      "  batch 4000 loss: 0.5772778412401676\n",
      "  batch 5000 loss: 0.5652740592956543\n"
     ]
    },
    {
     "name": "stderr",
     "output_type": "stream",
     "text": [
      " 70%|███████   | 35/50 [01:10<00:29,  2.00s/it]"
     ]
    },
    {
     "name": "stdout",
     "output_type": "stream",
     "text": [
      "LOSS train 0.5652740592956543 valid 0.5521460175514221\n",
      "  batch 1000 loss: 0.5615539593994617\n",
      "  batch 2000 loss: 0.5891418069303036\n",
      "  batch 3000 loss: 0.5723853202164173\n",
      "  batch 4000 loss: 0.5698015676736832\n",
      "  batch 5000 loss: 0.5623556288778782\n"
     ]
    },
    {
     "name": "stderr",
     "output_type": "stream",
     "text": [
      " 72%|███████▏  | 36/50 [01:12<00:27,  1.99s/it]"
     ]
    },
    {
     "name": "stdout",
     "output_type": "stream",
     "text": [
      "LOSS train 0.5623556288778782 valid 0.5937184691429138\n",
      "  batch 1000 loss: 0.565724851489067\n",
      "  batch 2000 loss: 0.5496849291920662\n",
      "  batch 3000 loss: 0.5712193385362625\n",
      "  batch 4000 loss: 0.5643751475214959\n",
      "  batch 5000 loss: 0.5571456639170647\n"
     ]
    },
    {
     "name": "stderr",
     "output_type": "stream",
     "text": [
      " 74%|███████▍  | 37/50 [01:14<00:25,  1.99s/it]"
     ]
    },
    {
     "name": "stdout",
     "output_type": "stream",
     "text": [
      "LOSS train 0.5571456639170647 valid 0.5623210072517395\n",
      "  batch 1000 loss: 0.5667479055225849\n",
      "  batch 2000 loss: 0.5723647346794605\n",
      "  batch 3000 loss: 0.5510064264535904\n",
      "  batch 4000 loss: 0.5643838679790497\n",
      "  batch 5000 loss: 0.5585959254205227\n"
     ]
    },
    {
     "name": "stderr",
     "output_type": "stream",
     "text": [
      " 76%|███████▌  | 38/50 [01:16<00:23,  1.97s/it]"
     ]
    },
    {
     "name": "stdout",
     "output_type": "stream",
     "text": [
      "LOSS train 0.5585959254205227 valid 0.5474547147750854\n",
      "  batch 1000 loss: 0.5644476904869079\n",
      "  batch 2000 loss: 0.5623713338375091\n",
      "  batch 3000 loss: 0.5598959361314774\n",
      "  batch 4000 loss: 0.5472216420471668\n",
      "  batch 5000 loss: 0.5626028057038784\n"
     ]
    },
    {
     "name": "stderr",
     "output_type": "stream",
     "text": [
      " 78%|███████▊  | 39/50 [01:18<00:21,  1.96s/it]"
     ]
    },
    {
     "name": "stdout",
     "output_type": "stream",
     "text": [
      "LOSS train 0.5626028057038784 valid 0.5637913942337036\n",
      "  batch 1000 loss: 0.558138802409172\n",
      "  batch 2000 loss: 0.5554434698224068\n",
      "  batch 3000 loss: 0.5584542127549649\n",
      "  batch 4000 loss: 0.5596131580471992\n",
      "  batch 5000 loss: 0.5671464504897594\n"
     ]
    },
    {
     "name": "stderr",
     "output_type": "stream",
     "text": [
      " 80%|████████  | 40/50 [01:20<00:19,  1.95s/it]"
     ]
    },
    {
     "name": "stdout",
     "output_type": "stream",
     "text": [
      "LOSS train 0.5671464504897594 valid 0.5687897205352783\n",
      "  batch 1000 loss: 0.5406404227614403\n",
      "  batch 2000 loss: 0.5534272232055664\n",
      "  batch 3000 loss: 0.5522225124835968\n",
      "  batch 4000 loss: 0.5488935653865338\n",
      "  batch 5000 loss: 0.5599785523116588\n"
     ]
    },
    {
     "name": "stderr",
     "output_type": "stream",
     "text": [
      " 82%|████████▏ | 41/50 [01:22<00:17,  1.94s/it]"
     ]
    },
    {
     "name": "stdout",
     "output_type": "stream",
     "text": [
      "LOSS train 0.5599785523116588 valid 0.5823489427566528\n",
      "  batch 1000 loss: 0.5577781528234482\n",
      "  batch 2000 loss: 0.5465623680949211\n",
      "  batch 3000 loss: 0.5617183682024479\n",
      "  batch 4000 loss: 0.547821004152298\n",
      "  batch 5000 loss: 0.5577028715312481\n"
     ]
    },
    {
     "name": "stderr",
     "output_type": "stream",
     "text": [
      " 84%|████████▍ | 42/50 [01:24<00:15,  1.94s/it]"
     ]
    },
    {
     "name": "stdout",
     "output_type": "stream",
     "text": [
      "LOSS train 0.5577028715312481 valid 0.5699491500854492\n",
      "  batch 1000 loss: 0.5536225248277188\n",
      "  batch 2000 loss: 0.5563876155018807\n",
      "  batch 3000 loss: 0.5478999235332013\n",
      "  batch 4000 loss: 0.5546782800257206\n",
      "  batch 5000 loss: 0.5627004577815533\n"
     ]
    },
    {
     "name": "stderr",
     "output_type": "stream",
     "text": [
      " 86%|████████▌ | 43/50 [01:26<00:13,  1.95s/it]"
     ]
    },
    {
     "name": "stdout",
     "output_type": "stream",
     "text": [
      "LOSS train 0.5627004577815533 valid 0.5958893299102783\n",
      "  batch 1000 loss: 0.5591237082183361\n",
      "  batch 2000 loss: 0.5667325429320336\n",
      "  batch 3000 loss: 0.561227214127779\n",
      "  batch 4000 loss: 0.547241114974022\n",
      "  batch 5000 loss: 0.5576184107363225\n"
     ]
    },
    {
     "name": "stderr",
     "output_type": "stream",
     "text": [
      " 88%|████████▊ | 44/50 [01:28<00:11,  1.94s/it]"
     ]
    },
    {
     "name": "stdout",
     "output_type": "stream",
     "text": [
      "LOSS train 0.5576184107363225 valid 0.5301056504249573\n",
      "  batch 1000 loss: 0.5650248272418976\n",
      "  batch 2000 loss: 0.5445882753133774\n",
      "  batch 3000 loss: 0.547801185876131\n",
      "  batch 4000 loss: 0.5607924109101295\n",
      "  batch 5000 loss: 0.5439663442075252\n"
     ]
    },
    {
     "name": "stderr",
     "output_type": "stream",
     "text": [
      " 90%|█████████ | 45/50 [01:30<00:09,  1.98s/it]"
     ]
    },
    {
     "name": "stdout",
     "output_type": "stream",
     "text": [
      "LOSS train 0.5439663442075252 valid 0.5532318949699402\n",
      "  batch 1000 loss: 0.5441407297253609\n",
      "  batch 2000 loss: 0.5410666007697582\n",
      "  batch 3000 loss: 0.5712507494688034\n",
      "  batch 4000 loss: 0.5616710513532162\n",
      "  batch 5000 loss: 0.5478421508073806\n"
     ]
    },
    {
     "name": "stderr",
     "output_type": "stream",
     "text": [
      " 92%|█████████▏| 46/50 [01:32<00:08,  2.10s/it]"
     ]
    },
    {
     "name": "stdout",
     "output_type": "stream",
     "text": [
      "LOSS train 0.5478421508073806 valid 0.5471475124359131\n",
      "  batch 1000 loss: 0.5570170058310032\n",
      "  batch 2000 loss: 0.5469358794093132\n",
      "  batch 3000 loss: 0.5341657963097095\n",
      "  batch 4000 loss: 0.5566858224868775\n",
      "  batch 5000 loss: 0.5533140361905098\n"
     ]
    },
    {
     "name": "stderr",
     "output_type": "stream",
     "text": [
      " 94%|█████████▍| 47/50 [01:34<00:06,  2.11s/it]"
     ]
    },
    {
     "name": "stdout",
     "output_type": "stream",
     "text": [
      "LOSS train 0.5533140361905098 valid 1.2557604312896729\n",
      "  batch 1000 loss: 0.5447365599870682\n",
      "  batch 2000 loss: 0.5445148205161094\n",
      "  batch 3000 loss: 0.5533488782942295\n",
      "  batch 4000 loss: 0.5545646080374718\n",
      "  batch 5000 loss: 0.5784180454909802\n"
     ]
    },
    {
     "name": "stderr",
     "output_type": "stream",
     "text": [
      " 96%|█████████▌| 48/50 [01:37<00:04,  2.12s/it]"
     ]
    },
    {
     "name": "stdout",
     "output_type": "stream",
     "text": [
      "LOSS train 0.5784180454909802 valid 0.5323443412780762\n",
      "  batch 1000 loss: 0.5759808647632599\n",
      "  batch 2000 loss: 0.5750830145478248\n",
      "  batch 3000 loss: 0.5545856524705887\n",
      "  batch 4000 loss: 0.543021841198206\n",
      "  batch 5000 loss: 0.5474943917095662\n"
     ]
    },
    {
     "name": "stderr",
     "output_type": "stream",
     "text": [
      " 98%|█████████▊| 49/50 [01:39<00:02,  2.13s/it]"
     ]
    },
    {
     "name": "stdout",
     "output_type": "stream",
     "text": [
      "LOSS train 0.5474943917095662 valid 0.5459854602813721\n",
      "  batch 1000 loss: 0.5502831024825573\n",
      "  batch 2000 loss: 0.5602373676896095\n",
      "  batch 3000 loss: 0.54917129150033\n",
      "  batch 4000 loss: 0.5437246811687946\n",
      "  batch 5000 loss: 0.5620873155891896\n"
     ]
    },
    {
     "name": "stderr",
     "output_type": "stream",
     "text": [
      "100%|██████████| 50/50 [01:41<00:00,  2.03s/it]"
     ]
    },
    {
     "name": "stdout",
     "output_type": "stream",
     "text": [
      "LOSS train 0.5620873155891896 valid 0.5192235112190247\n"
     ]
    },
    {
     "name": "stderr",
     "output_type": "stream",
     "text": [
      "\n"
     ]
    }
   ],
   "execution_count": 55
  },
  {
   "metadata": {
    "ExecuteTime": {
     "end_time": "2024-05-02T19:02:12.281836Z",
     "start_time": "2024-05-02T19:02:12.277057Z"
    }
   },
   "cell_type": "code",
   "source": "  # torch.save(model, 'classification_model_auc_0xx')",
   "outputs": [],
   "execution_count": 56
  },
  {
   "metadata": {
    "ExecuteTime": {
     "end_time": "2024-05-04T20:01:43.224243Z",
     "start_time": "2024-05-04T20:01:43.144316Z"
    }
   },
   "cell_type": "code",
   "source": [
    "import matplotlib.pyplot as plt\n",
    "\n",
    "vlosses_values = [t.item() for t in vlosses]\n",
    "plt.xlabel('Epoch')\n",
    "plt.ylabel('loss')\n",
    "plt.plot(range(EPOCHS), vlosses_values, label='val_loss')\n",
    "plt.plot(range(EPOCHS), tlosses, label='train_loss')\n",
    "plt.legend()"
   ],
   "outputs": [
    {
     "data": {
      "text/plain": [
       "<matplotlib.legend.Legend at 0x31eda42d0>"
      ]
     },
     "execution_count": 56,
     "metadata": {},
     "output_type": "execute_result"
    },
    {
     "data": {
      "text/plain": [
       "<Figure size 640x480 with 1 Axes>"
      ],
      "image/png": "[encoded data removed]"
     },
     "metadata": {},
     "output_type": "display_data"
    }
   ],
   "execution_count": 56
  },
  {
   "metadata": {
    "ExecuteTime": {
     "end_time": "2024-05-04T20:01:51.412888Z",
     "start_time": "2024-05-04T20:01:51.231955Z"
    }
   },
   "cell_type": "code",
   "source": [
    "import matplotlib.pyplot as plt\n",
    "from sklearn.metrics import roc_auc_score, roc_curve, confusion_matrix, ConfusionMatrixDisplay\n",
    "\n",
    "# model = torch.load('classification_model_auc_083')\n",
    "model.eval()\n",
    "device = torch.device('cuda' if torch.cuda.is_available() else 'cpu')\n",
    "\n",
    "X_test_tensor = torch.from_numpy(X_test).float().to(device)\n",
    "y_test = y_test.astype(dtype=np.int32)\n",
    "\n",
    "with torch.no_grad():\n",
    "    predictions = (model(X_test_tensor).reshape(-1)).cpu().detach().numpy()\n",
    "    predictions_labels = [1 if p >= 0.5 else 0 for p in predictions]\n",
    "\n",
    "cm = confusion_matrix(y_test, predictions_labels)\n",
    "tn, fp, fn, tp = cm.ravel()\n",
    "\n",
    "disp = ConfusionMatrixDisplay(confusion_matrix=cm)\n",
    "disp.plot()\n"
   ],
   "outputs": [
    {
     "data": {
      "text/plain": [
       "<sklearn.metrics._plot.confusion_matrix.ConfusionMatrixDisplay at 0x31f6f5e10>"
      ]
     },
     "execution_count": 57,
     "metadata": {},
     "output_type": "execute_result"
    },
    {
     "data": {
      "text/plain": [
       "<Figure size 640x480 with 2 Axes>"
      ],
      "image/png": "[encoded data removed]"
     },
     "metadata": {},
     "output_type": "display_data"
    }
   ],
   "execution_count": 57
  },
  {
   "metadata": {
    "ExecuteTime": {
     "end_time": "2024-05-04T20:01:51.947053Z",
     "start_time": "2024-05-04T20:01:51.922373Z"
    }
   },
   "cell_type": "code",
   "source": "auc = roc_auc_score(y_test, predictions)",
   "outputs": [],
   "execution_count": 58
  },
  {
   "metadata": {
    "ExecuteTime": {
     "end_time": "2024-05-04T20:01:52.236746Z",
     "start_time": "2024-05-04T20:01:52.234615Z"
    }
   },
   "cell_type": "code",
   "source": "print(auc)",
   "outputs": [
    {
     "name": "stdout",
     "output_type": "stream",
     "text": [
      "0.8138806931676617\n"
     ]
    }
   ],
   "execution_count": 59
  },
  {
   "metadata": {
    "ExecuteTime": {
     "end_time": "2024-05-04T20:01:54.871105Z",
     "start_time": "2024-05-04T20:01:54.850641Z"
    }
   },
   "cell_type": "code",
   "source": "fpr, tpr, thresholds = roc_curve(y_test, predictions)",
   "outputs": [],
   "execution_count": 60
  },
  {
   "metadata": {
    "ExecuteTime": {
     "end_time": "2024-05-04T20:01:55.022105Z",
     "start_time": "2024-05-04T20:01:55.019718Z"
    }
   },
   "cell_type": "code",
   "source": "print(fpr, tpr, thresholds)",
   "outputs": [
    {
     "name": "stdout",
     "output_type": "stream",
     "text": [
      "[0.         0.13299416 0.13299416 ... 0.99843309 0.99990328 1.        ] [0.         0.49091703 0.49093601 ... 1.         1.         1.        ] [          inf 7.7792710e-01 7.7792144e-01 ... 4.3074385e-13 1.3034530e-33\n",
      " 0.0000000e+00]\n"
     ]
    }
   ],
   "execution_count": 61
  },
  {
   "metadata": {
    "ExecuteTime": {
     "end_time": "2024-05-04T20:01:55.630148Z",
     "start_time": "2024-05-04T20:01:55.558698Z"
    }
   },
   "cell_type": "code",
   "source": "plt.plot(fpr, tpr)",
   "outputs": [
    {
     "data": {
      "text/plain": [
       "[<matplotlib.lines.Line2D at 0x31f6d7d90>]"
      ]
     },
     "execution_count": 62,
     "metadata": {},
     "output_type": "execute_result"
    },
    {
     "data": {
      "text/plain": [
       "<Figure size 640x480 with 1 Axes>"
      ],
      "image/png": "[encoded data removed]"
     },
     "metadata": {},
     "output_type": "display_data"
    }
   ],
   "execution_count": 62
  },
  {
   "metadata": {
    "ExecuteTime": {
     "end_time": "2024-05-02T21:20:03.417493Z",
     "start_time": "2024-05-02T21:20:03.413371Z"
    }
   },
   "cell_type": "code",
   "source": [
    "unique, counts = np.unique(y_test, return_counts=True)\n",
    "\n",
    "print(unique, counts)"
   ],
   "outputs": [
    {
     "name": "stdout",
     "output_type": "stream",
     "text": [
      "[0 1] [51694 52681]\n"
     ]
    }
   ],
   "execution_count": 86
  },
  {
   "metadata": {
    "ExecuteTime": {
     "end_time": "2024-05-02T19:03:01.577259Z",
     "start_time": "2024-05-02T19:03:01.574633Z"
    }
   },
   "cell_type": "code",
   "source": "print(model)",
   "outputs": [
    {
     "name": "stdout",
     "output_type": "stream",
     "text": [
      "SimpleNeuralNet(\n",
      "  (fc1): Linear(in_features=64, out_features=32, bias=True)\n",
      "  (relu1): ReLU()\n",
      "  (fc2): Linear(in_features=32, out_features=16, bias=True)\n",
      "  (relu2): ReLU()\n",
      "  (fc3): Linear(in_features=16, out_features=1, bias=True)\n",
      "  (out): Sigmoid()\n",
      ")\n"
     ]
    }
   ],
   "execution_count": 61
  }
 ],
 "metadata": {
  "kernelspec": {
   "display_name": "venv",
   "language": "python",
   "name": "python3"
  },
  "language_info": {
   "codemirror_mode": {
    "name": "ipython",
    "version": 3
   },
   "file_extension": ".py",
   "mimetype": "text/x-python",
   "name": "python",
   "nbconvert_exporter": "python",
   "pygments_lexer": "ipython3",
   "version": "3.11.6"
  }
 },
 "nbformat": 4,
 "nbformat_minor": 2
}
